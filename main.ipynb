{
 "cells": [
  {
   "cell_type": "markdown",
   "metadata": {},
   "source": [
    "## Machine Learning Project \n",
    "#### Group 1 Members: \n",
    "* DIAZ, Rafael Inigo \n",
    "* HOMBREBUENO, Robin James \n",
    "* SILVA, Kyle Luis \n",
    "* TONGOL, Gabrielle Vincenza "
   ]
  },
  {
   "cell_type": "markdown",
   "metadata": {},
   "source": [
    "## Section 1. Introduction to the problem/task and dataset"
   ]
  },
  {
   "cell_type": "markdown",
   "metadata": {},
   "source": [
    "\n",
    "#### 1.1 Problem Statement \n",
    "The primary goal of this project is to develop predictive models that can accurately analyze labor force participation and employment-related patterns based on the ***Labor Force Survey (LFS) 2016 dataset***. The dataset contains various socio-economic and demographic attributes aimed at understanding the employment landscape within the Philippines."
   ]
  },
  {
   "cell_type": "markdown",
   "metadata": {},
   "source": [
    "#### 1.2 Task Definition \n",
    "The specific task to be addressed in this project is a ***Classification Task***:\n",
    "\n",
    "* ***Predicting Employment Status*** (employed or unemployed) based on features such as age, education level, work experience, industry, and other relevant attributes.\n",
    "\n",
    "This task will be accomplished using machine learning models, and their performance will be evaluated using appropriate metrics such as accuracy, precision, recall, and F1-score."
   ]
  },
  {
   "cell_type": "markdown",
   "metadata": {},
   "source": [
    "## Section 2. Description of the dataset"
   ]
  },
  {
   "cell_type": "code",
   "execution_count": 30,
   "metadata": {},
   "outputs": [
    {
     "data": {
      "text/html": [
       "<div>\n",
       "<style scoped>\n",
       "    .dataframe tbody tr th:only-of-type {\n",
       "        vertical-align: middle;\n",
       "    }\n",
       "\n",
       "    .dataframe tbody tr th {\n",
       "        vertical-align: top;\n",
       "    }\n",
       "\n",
       "    .dataframe thead th {\n",
       "        text-align: right;\n",
       "    }\n",
       "</style>\n",
       "<table border=\"1\" class=\"dataframe\">\n",
       "  <thead>\n",
       "    <tr style=\"text-align: right;\">\n",
       "      <th></th>\n",
       "      <th>PUFREG</th>\n",
       "      <th>PUFPRV</th>\n",
       "      <th>PUFPRRCD</th>\n",
       "      <th>PUFHHNUM</th>\n",
       "      <th>PUFURB2K10</th>\n",
       "      <th>PUFPWGTFIN</th>\n",
       "      <th>PUFSVYMO</th>\n",
       "      <th>PUFSVYYR</th>\n",
       "      <th>PUFPSU</th>\n",
       "      <th>PUFRPL</th>\n",
       "      <th>...</th>\n",
       "      <th>PUFC33_WEEKS</th>\n",
       "      <th>PUFC34_WYNOT</th>\n",
       "      <th>PUFC35_LTLOOKW</th>\n",
       "      <th>PUFC36_AVAIL</th>\n",
       "      <th>PUFC37_WILLING</th>\n",
       "      <th>PUFC38_PREVJOB</th>\n",
       "      <th>PUFC40_POCC</th>\n",
       "      <th>PUFC41_WQTR</th>\n",
       "      <th>PUFC43_QKB</th>\n",
       "      <th>PUFNEWEMPSTAT</th>\n",
       "    </tr>\n",
       "  </thead>\n",
       "  <tbody>\n",
       "    <tr>\n",
       "      <th>0</th>\n",
       "      <td>1</td>\n",
       "      <td>28</td>\n",
       "      <td>2800</td>\n",
       "      <td>1</td>\n",
       "      <td>2</td>\n",
       "      <td>405.2219</td>\n",
       "      <td>4</td>\n",
       "      <td>2016</td>\n",
       "      <td>217</td>\n",
       "      <td>1</td>\n",
       "      <td>...</td>\n",
       "      <td></td>\n",
       "      <td></td>\n",
       "      <td></td>\n",
       "      <td></td>\n",
       "      <td></td>\n",
       "      <td></td>\n",
       "      <td></td>\n",
       "      <td>1</td>\n",
       "      <td>01</td>\n",
       "      <td>1</td>\n",
       "    </tr>\n",
       "    <tr>\n",
       "      <th>1</th>\n",
       "      <td>1</td>\n",
       "      <td>28</td>\n",
       "      <td>2800</td>\n",
       "      <td>1</td>\n",
       "      <td>2</td>\n",
       "      <td>388.8280</td>\n",
       "      <td>4</td>\n",
       "      <td>2016</td>\n",
       "      <td>217</td>\n",
       "      <td>1</td>\n",
       "      <td>...</td>\n",
       "      <td></td>\n",
       "      <td></td>\n",
       "      <td></td>\n",
       "      <td></td>\n",
       "      <td></td>\n",
       "      <td></td>\n",
       "      <td></td>\n",
       "      <td>1</td>\n",
       "      <td>01</td>\n",
       "      <td>1</td>\n",
       "    </tr>\n",
       "    <tr>\n",
       "      <th>2</th>\n",
       "      <td>1</td>\n",
       "      <td>28</td>\n",
       "      <td>2800</td>\n",
       "      <td>1</td>\n",
       "      <td>2</td>\n",
       "      <td>406.1194</td>\n",
       "      <td>4</td>\n",
       "      <td>2016</td>\n",
       "      <td>217</td>\n",
       "      <td>1</td>\n",
       "      <td>...</td>\n",
       "      <td></td>\n",
       "      <td></td>\n",
       "      <td></td>\n",
       "      <td></td>\n",
       "      <td></td>\n",
       "      <td></td>\n",
       "      <td></td>\n",
       "      <td>1</td>\n",
       "      <td>01</td>\n",
       "      <td>1</td>\n",
       "    </tr>\n",
       "    <tr>\n",
       "      <th>3</th>\n",
       "      <td>1</td>\n",
       "      <td>28</td>\n",
       "      <td>2800</td>\n",
       "      <td>2</td>\n",
       "      <td>2</td>\n",
       "      <td>405.2219</td>\n",
       "      <td>4</td>\n",
       "      <td>2016</td>\n",
       "      <td>217</td>\n",
       "      <td>1</td>\n",
       "      <td>...</td>\n",
       "      <td></td>\n",
       "      <td></td>\n",
       "      <td></td>\n",
       "      <td></td>\n",
       "      <td></td>\n",
       "      <td></td>\n",
       "      <td></td>\n",
       "      <td>1</td>\n",
       "      <td>01</td>\n",
       "      <td>1</td>\n",
       "    </tr>\n",
       "    <tr>\n",
       "      <th>4</th>\n",
       "      <td>1</td>\n",
       "      <td>28</td>\n",
       "      <td>2800</td>\n",
       "      <td>2</td>\n",
       "      <td>2</td>\n",
       "      <td>384.3556</td>\n",
       "      <td>4</td>\n",
       "      <td>2016</td>\n",
       "      <td>217</td>\n",
       "      <td>1</td>\n",
       "      <td>...</td>\n",
       "      <td></td>\n",
       "      <td></td>\n",
       "      <td></td>\n",
       "      <td></td>\n",
       "      <td></td>\n",
       "      <td></td>\n",
       "      <td></td>\n",
       "      <td>1</td>\n",
       "      <td>96</td>\n",
       "      <td>1</td>\n",
       "    </tr>\n",
       "    <tr>\n",
       "      <th>...</th>\n",
       "      <td>...</td>\n",
       "      <td>...</td>\n",
       "      <td>...</td>\n",
       "      <td>...</td>\n",
       "      <td>...</td>\n",
       "      <td>...</td>\n",
       "      <td>...</td>\n",
       "      <td>...</td>\n",
       "      <td>...</td>\n",
       "      <td>...</td>\n",
       "      <td>...</td>\n",
       "      <td>...</td>\n",
       "      <td>...</td>\n",
       "      <td>...</td>\n",
       "      <td>...</td>\n",
       "      <td>...</td>\n",
       "      <td>...</td>\n",
       "      <td>...</td>\n",
       "      <td>...</td>\n",
       "      <td>...</td>\n",
       "      <td>...</td>\n",
       "    </tr>\n",
       "    <tr>\n",
       "      <th>180857</th>\n",
       "      <td>17</td>\n",
       "      <td>59</td>\n",
       "      <td>5900</td>\n",
       "      <td>40880</td>\n",
       "      <td>2</td>\n",
       "      <td>239.4341</td>\n",
       "      <td>4</td>\n",
       "      <td>2016</td>\n",
       "      <td>258</td>\n",
       "      <td>1</td>\n",
       "      <td>...</td>\n",
       "      <td></td>\n",
       "      <td></td>\n",
       "      <td></td>\n",
       "      <td></td>\n",
       "      <td></td>\n",
       "      <td></td>\n",
       "      <td></td>\n",
       "      <td>1</td>\n",
       "      <td>50</td>\n",
       "      <td>1</td>\n",
       "    </tr>\n",
       "    <tr>\n",
       "      <th>180858</th>\n",
       "      <td>17</td>\n",
       "      <td>59</td>\n",
       "      <td>5900</td>\n",
       "      <td>40880</td>\n",
       "      <td>2</td>\n",
       "      <td>189.8885</td>\n",
       "      <td>4</td>\n",
       "      <td>2016</td>\n",
       "      <td>258</td>\n",
       "      <td>1</td>\n",
       "      <td>...</td>\n",
       "      <td></td>\n",
       "      <td>8</td>\n",
       "      <td></td>\n",
       "      <td></td>\n",
       "      <td></td>\n",
       "      <td>2</td>\n",
       "      <td></td>\n",
       "      <td></td>\n",
       "      <td></td>\n",
       "      <td>3</td>\n",
       "    </tr>\n",
       "    <tr>\n",
       "      <th>180859</th>\n",
       "      <td>17</td>\n",
       "      <td>59</td>\n",
       "      <td>5900</td>\n",
       "      <td>40880</td>\n",
       "      <td>2</td>\n",
       "      <td>207.7395</td>\n",
       "      <td>4</td>\n",
       "      <td>2016</td>\n",
       "      <td>258</td>\n",
       "      <td>1</td>\n",
       "      <td>...</td>\n",
       "      <td></td>\n",
       "      <td></td>\n",
       "      <td></td>\n",
       "      <td></td>\n",
       "      <td></td>\n",
       "      <td></td>\n",
       "      <td></td>\n",
       "      <td></td>\n",
       "      <td></td>\n",
       "      <td></td>\n",
       "    </tr>\n",
       "    <tr>\n",
       "      <th>180860</th>\n",
       "      <td>17</td>\n",
       "      <td>59</td>\n",
       "      <td>5900</td>\n",
       "      <td>40880</td>\n",
       "      <td>2</td>\n",
       "      <td>207.7395</td>\n",
       "      <td>4</td>\n",
       "      <td>2016</td>\n",
       "      <td>258</td>\n",
       "      <td>1</td>\n",
       "      <td>...</td>\n",
       "      <td></td>\n",
       "      <td></td>\n",
       "      <td></td>\n",
       "      <td></td>\n",
       "      <td></td>\n",
       "      <td></td>\n",
       "      <td></td>\n",
       "      <td></td>\n",
       "      <td></td>\n",
       "      <td></td>\n",
       "    </tr>\n",
       "    <tr>\n",
       "      <th>180861</th>\n",
       "      <td>17</td>\n",
       "      <td>59</td>\n",
       "      <td>5900</td>\n",
       "      <td>40880</td>\n",
       "      <td>2</td>\n",
       "      <td>277.5219</td>\n",
       "      <td>4</td>\n",
       "      <td>2016</td>\n",
       "      <td>258</td>\n",
       "      <td>1</td>\n",
       "      <td>...</td>\n",
       "      <td></td>\n",
       "      <td></td>\n",
       "      <td></td>\n",
       "      <td></td>\n",
       "      <td></td>\n",
       "      <td></td>\n",
       "      <td></td>\n",
       "      <td>1</td>\n",
       "      <td>01</td>\n",
       "      <td>1</td>\n",
       "    </tr>\n",
       "  </tbody>\n",
       "</table>\n",
       "<p>180862 rows × 50 columns</p>\n",
       "</div>"
      ],
      "text/plain": [
       "        PUFREG  PUFPRV  PUFPRRCD  PUFHHNUM  PUFURB2K10  PUFPWGTFIN  PUFSVYMO  \\\n",
       "0            1      28      2800         1           2    405.2219         4   \n",
       "1            1      28      2800         1           2    388.8280         4   \n",
       "2            1      28      2800         1           2    406.1194         4   \n",
       "3            1      28      2800         2           2    405.2219         4   \n",
       "4            1      28      2800         2           2    384.3556         4   \n",
       "...        ...     ...       ...       ...         ...         ...       ...   \n",
       "180857      17      59      5900     40880           2    239.4341         4   \n",
       "180858      17      59      5900     40880           2    189.8885         4   \n",
       "180859      17      59      5900     40880           2    207.7395         4   \n",
       "180860      17      59      5900     40880           2    207.7395         4   \n",
       "180861      17      59      5900     40880           2    277.5219         4   \n",
       "\n",
       "        PUFSVYYR  PUFPSU  PUFRPL  ...  PUFC33_WEEKS  PUFC34_WYNOT  \\\n",
       "0           2016     217       1  ...                               \n",
       "1           2016     217       1  ...                               \n",
       "2           2016     217       1  ...                               \n",
       "3           2016     217       1  ...                               \n",
       "4           2016     217       1  ...                               \n",
       "...          ...     ...     ...  ...           ...           ...   \n",
       "180857      2016     258       1  ...                               \n",
       "180858      2016     258       1  ...                           8   \n",
       "180859      2016     258       1  ...                               \n",
       "180860      2016     258       1  ...                               \n",
       "180861      2016     258       1  ...                               \n",
       "\n",
       "        PUFC35_LTLOOKW  PUFC36_AVAIL  PUFC37_WILLING PUFC38_PREVJOB  \\\n",
       "0                                                                     \n",
       "1                                                                     \n",
       "2                                                                     \n",
       "3                                                                     \n",
       "4                                                                     \n",
       "...                ...           ...             ...            ...   \n",
       "180857                                                                \n",
       "180858                                                            2   \n",
       "180859                                                                \n",
       "180860                                                                \n",
       "180861                                                                \n",
       "\n",
       "       PUFC40_POCC PUFC41_WQTR PUFC43_QKB PUFNEWEMPSTAT  \n",
       "0                            1         01             1  \n",
       "1                            1         01             1  \n",
       "2                            1         01             1  \n",
       "3                            1         01             1  \n",
       "4                            1         96             1  \n",
       "...            ...         ...        ...           ...  \n",
       "180857                       1         50             1  \n",
       "180858                                                3  \n",
       "180859                                                   \n",
       "180860                                                   \n",
       "180861                       1         01             1  \n",
       "\n",
       "[180862 rows x 50 columns]"
      ]
     },
     "execution_count": 30,
     "metadata": {},
     "output_type": "execute_result"
    }
   ],
   "source": [
    "import pandas as pd \n",
    "\n",
    "df = pd.read_csv('dataset/LFS PUF April 2016.CSV')\n",
    "df"
   ]
  },
  {
   "cell_type": "markdown",
   "metadata": {},
   "source": [
    "#### 2.1 Dataset Description \n",
    "The ***Labor Force Survey (LFS)*** is a nationwide survey of households conducted quarterly to gather data on the demographic and socio-economic characteristics of the population. It is primarily aimed at estimating the levels of employment and unemployment in the Philippines. One of the objectives of the LFS is to provide a quantitative framework for planning and policy-making affecting the labor market. The survey is designed to generate statistics on the levels and trends of employment, unemployment, and underemployment of the country, both nationally and regionally, covering all 17 administrative regions."
   ]
  },
  {
   "cell_type": "markdown",
   "metadata": {},
   "source": [
    "#### 2.2 Data Collection Process\n",
    "The survey uses a total national sample of ***42,768 households*** (if including Batanes) or 42,576 households (if excluding Batanes) per survey round. This sample size is considered sufficient to provide precise and reliable estimates at both national and regional levels. The survey's reporting unit is the household, meaning the collected statistics pertain to the characteristics of individuals residing in private households. Persons belonging to the institutional population are not included within the scope of this survey."
   ]
  },
  {
   "cell_type": "markdown",
   "metadata": {},
   "source": [
    "#### 2.3 Dataset Structure \n",
    "\n",
    "* ***Rows*** - Each row represents a single individual or respondent from a surveyed household\n",
    "* ***Columns*** - Each column represents a specific feature or attribute describing various aspects of the individual.\n",
    "* ***Instances*** - To find out the the instances of the dataset, we can refer to the code below\n",
    "\n",
    "\n"
   ]
  },
  {
   "cell_type": "code",
   "execution_count": 31,
   "metadata": {},
   "outputs": [
    {
     "name": "stdout",
     "output_type": "stream",
     "text": [
      "Number of instances: 180862\n"
     ]
    }
   ],
   "source": [
    "\n",
    "num_rows, num_columns = df.shape\n",
    "\n",
    "print(f\"Number of instances: {num_rows}\")"
   ]
  },
  {
   "cell_type": "markdown",
   "metadata": {},
   "source": [
    "### **Features** - The dataset has 50 features, as seen below\n",
    "\n",
    "| **Feature Code**  | **Description**                                                                                  |\n",
    "|------------------|--------------------------------------------------------------------------------------------------|\n",
    "| `PUFREG`         | Region                                                                                           |\n",
    "| `PUFPRV`         | Province code                                                                                    |\n",
    "| `PUFPRRCD`       | Province recode                                                                                  |\n",
    "| `PUFHHNUM`       | Household unique sequential number                                                              |\n",
    "| `PUFURB2K10`     | Urban / Rural in FIES 2010 survey                                                                |\n",
    "| `PUFPWGTFIN`     | Final weight based on projection                                                                |\n",
    "| `PUFSVYMO`       | Survey month                                                                                     |\n",
    "| `PUFSVYYR`       | Survey year                                                                                      |\n",
    "| `PUFPSU`         | PSU number                                                                                       |\n",
    "| `PUFRPL`         | Replicate                                                                                        |\n",
    "| `PUFHHSIZE`      | Number of household members                                                                      |\n",
    "| `PUFC01_LNO`     | Line number used to identify each member of the household in the survey                         |\n",
    "| `PUFC03_REL`     | Relationship of the person to the household head                                                |\n",
    "| `PUFC04_SEX`     | Sex of the person                                                                                |\n",
    "| `PUFC05_AGE`     | Age of the person since last birthday                                                           |\n",
    "| `PUFC06_MSTAT`   | Marital status of the person since last birthday                                               |\n",
    "| `PUFC07_GRADE`   | Highest grade completed of the person                                                           |\n",
    "| `PUFC08_CURSCH`  | Is the person currently attending school?                                                      |\n",
    "| `PUFC09_GRADTECH`| Is the person a graduate of a technical / vocational course?                                    |\n",
    "| `PUFC10_CONWR`   | Category of OFW                                                                                 |\n",
    "| `PUFC11_WORK`    | Did the person do any work for at least one hour during the past week?                         |\n",
    "| `PUFC12_JOB`     | Did the person have a job or business last week despite not working?                            |\n",
    "| `PUFC14_PROCC`   | Primary occupation of the person during the past week                                           |\n",
    "| `PUFC16_PKB`     | Kind of business or industry of the person                                                      |\n",
    "| `PUFC17_NATEM`   | Nature of employment of the person (Permanence, regularity, seasonality)                        |\n",
    "| `PUFC18_PNWHRS`  | Normal working hours per day                                                                     |\n",
    "| `PUFC19_PHOURS`  | Total number of hours worked during the past week                                               |\n",
    "| `PUFC20_PWMORE`  | Desire for more working hours during the past week                                              |\n",
    "| `PUFC21_PLADDW`  | Did the person look for additional work during the past week?                                   |\n",
    "| `PUFC22_PFWRK`   | Was this the person’s first time doing any work?                                               |\n",
    "| `PUFC23_PCLASS`  | Class of worker for primary occupation (relationship to establishment)                         |\n",
    "| `PUFC24_PBASIS`  | Basis of payment for primary occupation                                                         |\n",
    "| `PUFC25_PBASIC`  | Basic pay per day for primary occupation                                                        |\n",
    "| `PUFC26_OJOB`    | Did the person have other job or business during the past week?                                 |\n",
    "| `PUFC27_NJOBS`   | Number of jobs the person had during the past week                                              |\n",
    "| `PUFC28_THOURS`  | Total hours worked by the person for all jobs during the past week                              |\n",
    "| `PUFC29_WWM48H`  | Main reason for not working more than 48 hours in the past week                                 |\n",
    "| `PUFC30_LOOKW`   | Did the person look for work or try to establish a business in the past week?                  |\n",
    "| `PUFC31_FLWRK`   | Was it the person’s first time looking for work or trying to establish a business?            |\n",
    "| `PUFC32_JOBSM`   | Job search method                                                                                |\n",
    "| `PUFC33_WEEKS`   | Number of weeks spent in looking for work                                                       |\n",
    "| `PUFC34_WYNOT`   | Reason for not looking for work                                                                 |\n",
    "| `PUFC35_LTLOOKW` | Last time the person looked for work                                                            |\n",
    "| `PUFC36_AVAIL`   | Availability for work if opportunity existed within the past week or two weeks                 |\n",
    "| `PUFC37_WILLING` | Willingness to take up work in the past week or within 2 weeks                                   |\n",
    "| `PUFC38_PREVJOB` | Has the person worked at any time before?                                                      |\n",
    "| `PUFC40_POCC`    | Last occupation of the person                                                                  |\n",
    "| `PUFC41_WQTR`    | Did the person work or have a job/business during the past quarter?                           |\n",
    "| `PUFC43_QKB`     | Kind of business for the past quarter                                                          |\n",
    "| `PUFNEWEMPSTAT`  | New Employment Criteria                                                                         |\n"
   ]
  },
  {
   "cell_type": "markdown",
   "metadata": {},
   "source": [
    "## Section 3. List of requirements"
   ]
  },
  {
   "cell_type": "code",
   "execution_count": 28,
   "metadata": {},
   "outputs": [],
   "source": [
    "\n",
    "import numpy as np\n",
    "import matplotlib.pyplot as plt\n",
    "import seaborn as sns"
   ]
  },
  {
   "cell_type": "markdown",
   "metadata": {},
   "source": [
    "## Section 4. Data preprocessing and cleaning"
   ]
  },
  {
   "cell_type": "markdown",
   "metadata": {},
   "source": [
    "Before we proceed with any cleaning or preprocessing, it's essential to make a copy of our dataset. This is because making a copy ensures that we preserve the original data, allowing us to revert to it if something goes wrong during the cleaning process."
   ]
  },
  {
   "cell_type": "code",
   "execution_count": 33,
   "metadata": {},
   "outputs": [],
   "source": [
    "df_copy = df.copy()"
   ]
  },
  {
   "cell_type": "markdown",
   "metadata": {},
   "source": [
    "We will inspect the dataset to helps us understand the dataset’s structure, quality, and potential issues before proceeding with preprocessing and model training"
   ]
  },
  {
   "cell_type": "code",
   "execution_count": 34,
   "metadata": {},
   "outputs": [
    {
     "name": "stdout",
     "output_type": "stream",
     "text": [
      "<class 'pandas.core.frame.DataFrame'>\n",
      "RangeIndex: 180862 entries, 0 to 180861\n",
      "Data columns (total 50 columns):\n",
      " #   Column           Non-Null Count   Dtype  \n",
      "---  ------           --------------   -----  \n",
      " 0   PUFREG           180862 non-null  int64  \n",
      " 1   PUFPRV           180862 non-null  int64  \n",
      " 2   PUFPRRCD         180862 non-null  int64  \n",
      " 3   PUFHHNUM         180862 non-null  int64  \n",
      " 4   PUFURB2K10       180862 non-null  int64  \n",
      " 5   PUFPWGTFIN       180862 non-null  float64\n",
      " 6   PUFSVYMO         180862 non-null  int64  \n",
      " 7   PUFSVYYR         180862 non-null  int64  \n",
      " 8   PUFPSU           180862 non-null  int64  \n",
      " 9   PUFRPL           180862 non-null  int64  \n",
      " 10  PUFHHSIZE        180862 non-null  int64  \n",
      " 11  PUFC01_LNO       180862 non-null  int64  \n",
      " 12  PUFC03_REL       180862 non-null  int64  \n",
      " 13  PUFC04_SEX       180862 non-null  int64  \n",
      " 14  PUFC05_AGE       180862 non-null  int64  \n",
      " 15  PUFC06_MSTAT     180862 non-null  object \n",
      " 16  PUFC07_GRADE     180862 non-null  object \n",
      " 17  PUFC08_CURSCH    180862 non-null  object \n",
      " 18  PUFC09_GRADTECH  180862 non-null  object \n",
      " 19  PUFC10_CONWR     180862 non-null  object \n",
      " 20  PUFC11_WORK      180862 non-null  object \n",
      " 21  PUFC12_JOB       180862 non-null  object \n",
      " 22  PUFC14_PROCC     180862 non-null  object \n",
      " 23  PUFC16_PKB       180862 non-null  object \n",
      " 24  PUFC17_NATEM     180862 non-null  object \n",
      " 25  PUFC18_PNWHRS    180862 non-null  object \n",
      " 26  PUFC19_PHOURS    180862 non-null  object \n",
      " 27  PUFC20_PWMORE    180862 non-null  object \n",
      " 28  PUFC21_PLADDW    180862 non-null  object \n",
      " 29  PUFC22_PFWRK     180862 non-null  object \n",
      " 30  PUFC23_PCLASS    180862 non-null  object \n",
      " 31  PUFC24_PBASIS    180862 non-null  object \n",
      " 32  PUFC25_PBASIC    180862 non-null  object \n",
      " 33  PUFC26_OJOB      180862 non-null  object \n",
      " 34  PUFC27_NJOBS     180862 non-null  object \n",
      " 35  PUFC28_THOURS    180862 non-null  object \n",
      " 36  PUFC29_WWM48H    180862 non-null  object \n",
      " 37  PUFC30_LOOKW     180862 non-null  object \n",
      " 38  PUFC31_FLWRK     180862 non-null  object \n",
      " 39  PUFC32_JOBSM     180862 non-null  object \n",
      " 40  PUFC33_WEEKS     180862 non-null  object \n",
      " 41  PUFC34_WYNOT     180862 non-null  object \n",
      " 42  PUFC35_LTLOOKW   180862 non-null  object \n",
      " 43  PUFC36_AVAIL     180862 non-null  object \n",
      " 44  PUFC37_WILLING   180862 non-null  object \n",
      " 45  PUFC38_PREVJOB   180862 non-null  object \n",
      " 46  PUFC40_POCC      180862 non-null  object \n",
      " 47  PUFC41_WQTR      180862 non-null  object \n",
      " 48  PUFC43_QKB       180862 non-null  object \n",
      " 49  PUFNEWEMPSTAT    180862 non-null  object \n",
      "dtypes: float64(1), int64(14), object(35)\n",
      "memory usage: 69.0+ MB\n"
     ]
    }
   ],
   "source": [
    "df_copy.info()"
   ]
  },
  {
   "cell_type": "markdown",
   "metadata": {},
   "source": [
    "### Check for missing values \n"
   ]
  },
  {
   "cell_type": "code",
   "execution_count": 35,
   "metadata": {},
   "outputs": [
    {
     "name": "stdout",
     "output_type": "stream",
     "text": [
      "Missing values: \n",
      " PUFREG             0\n",
      "PUFPRV             0\n",
      "PUFPRRCD           0\n",
      "PUFHHNUM           0\n",
      "PUFURB2K10         0\n",
      "PUFPWGTFIN         0\n",
      "PUFSVYMO           0\n",
      "PUFSVYYR           0\n",
      "PUFPSU             0\n",
      "PUFRPL             0\n",
      "PUFHHSIZE          0\n",
      "PUFC01_LNO         0\n",
      "PUFC03_REL         0\n",
      "PUFC04_SEX         0\n",
      "PUFC05_AGE         0\n",
      "PUFC06_MSTAT       0\n",
      "PUFC07_GRADE       0\n",
      "PUFC08_CURSCH      0\n",
      "PUFC09_GRADTECH    0\n",
      "PUFC10_CONWR       0\n",
      "PUFC11_WORK        0\n",
      "PUFC12_JOB         0\n",
      "PUFC14_PROCC       0\n",
      "PUFC16_PKB         0\n",
      "PUFC17_NATEM       0\n",
      "PUFC18_PNWHRS      0\n",
      "PUFC19_PHOURS      0\n",
      "PUFC20_PWMORE      0\n",
      "PUFC21_PLADDW      0\n",
      "PUFC22_PFWRK       0\n",
      "PUFC23_PCLASS      0\n",
      "PUFC24_PBASIS      0\n",
      "PUFC25_PBASIC      0\n",
      "PUFC26_OJOB        0\n",
      "PUFC27_NJOBS       0\n",
      "PUFC28_THOURS      0\n",
      "PUFC29_WWM48H      0\n",
      "PUFC30_LOOKW       0\n",
      "PUFC31_FLWRK       0\n",
      "PUFC32_JOBSM       0\n",
      "PUFC33_WEEKS       0\n",
      "PUFC34_WYNOT       0\n",
      "PUFC35_LTLOOKW     0\n",
      "PUFC36_AVAIL       0\n",
      "PUFC37_WILLING     0\n",
      "PUFC38_PREVJOB     0\n",
      "PUFC40_POCC        0\n",
      "PUFC41_WQTR        0\n",
      "PUFC43_QKB         0\n",
      "PUFNEWEMPSTAT      0\n",
      "dtype: int64\n"
     ]
    }
   ],
   "source": [
    "missing_values = df_copy.isnull().sum()\n",
    "print(\"Missing values: \\n\", missing_values)"
   ]
  },
  {
   "cell_type": "markdown",
   "metadata": {},
   "source": [
    "### Check for Duplicates in rows"
   ]
  },
  {
   "cell_type": "code",
   "execution_count": 36,
   "metadata": {},
   "outputs": [
    {
     "name": "stdout",
     "output_type": "stream",
     "text": [
      "Duplicates: 0\n"
     ]
    }
   ],
   "source": [
    "duplicate = df_copy.duplicated().sum()\n",
    "print(\"Duplicates:\", duplicate)"
   ]
  },
  {
   "cell_type": "markdown",
   "metadata": {},
   "source": [
    "Despite previous checks indicating no missing values or duplicates, a thorough inspection of the dataset reveals a significant number of missing entries. The code below will display the features that have missing values"
   ]
  },
  {
   "cell_type": "code",
   "execution_count": 50,
   "metadata": {},
   "outputs": [
    {
     "name": "stdout",
     "output_type": "stream",
     "text": [
      "Columns Containing Blank Spaces:\n",
      "PUFC06_MSTAT       True\n",
      "PUFC07_GRADE       True\n",
      "PUFC08_CURSCH      True\n",
      "PUFC09_GRADTECH    True\n",
      "PUFC10_CONWR       True\n",
      "PUFC11_WORK        True\n",
      "PUFC12_JOB         True\n",
      "PUFC14_PROCC       True\n",
      "PUFC16_PKB         True\n",
      "PUFC17_NATEM       True\n",
      "PUFC18_PNWHRS      True\n",
      "PUFC19_PHOURS      True\n",
      "PUFC20_PWMORE      True\n",
      "PUFC21_PLADDW      True\n",
      "PUFC22_PFWRK       True\n",
      "PUFC23_PCLASS      True\n",
      "PUFC24_PBASIS      True\n",
      "PUFC25_PBASIC      True\n",
      "PUFC26_OJOB        True\n",
      "PUFC27_NJOBS       True\n",
      "PUFC28_THOURS      True\n",
      "PUFC29_WWM48H      True\n",
      "PUFC30_LOOKW       True\n",
      "PUFC31_FLWRK       True\n",
      "PUFC32_JOBSM       True\n",
      "PUFC33_WEEKS       True\n",
      "PUFC34_WYNOT       True\n",
      "PUFC35_LTLOOKW     True\n",
      "PUFC36_AVAIL       True\n",
      "PUFC37_WILLING     True\n",
      "PUFC38_PREVJOB     True\n",
      "PUFC40_POCC        True\n",
      "PUFC41_WQTR        True\n",
      "PUFC43_QKB         True\n",
      "PUFNEWEMPSTAT      True\n",
      "dtype: bool\n"
     ]
    }
   ],
   "source": [
    "\n",
    "blank_spaces = df_copy.apply(lambda x: x.astype(str).str.strip() == '')\n",
    "\n",
    "columns_with_blanks = blank_spaces.any(axis=0)\n",
    "\n",
    "print(\"Columns Containing Blank Spaces:\")\n",
    "print(columns_with_blanks[columns_with_blanks])\n"
   ]
  },
  {
   "cell_type": "markdown",
   "metadata": {},
   "source": [
    "Dropping irrelevant features is essential for improving model performance in our Employment Status Prediction task. Features that are purely identifiers or unrelated to personal attributes do not contribute useful information for predicting whether an individual is employed or unemployed. Including them would only add noise, reduce training efficiency, and potentially lead to overfitting."
   ]
  },
  {
   "cell_type": "markdown",
   "metadata": {},
   "source": [
    "### List of Potentially Irrelevant Features (To be Removed)\n",
    "| Feature Code     | Reason for Irrelevance                                              |\n",
    "|------------------|--------------------------------------------------------------------|\n",
    "| `PUFPWGTFIN`     | Weight projection - Survey-related, not about personal status.    |\n",
    "| `PUFSVYMO`       | Survey month - Only indicates time of survey.                     |\n",
    "| `PUFSVYYR`       | Survey year - Only indicates time of survey.                      |\n",
    "| `PUFPSU`         | PSU number - Purely an identifier for survey design.              |\n",
    "| `PUFRPL`         | Replicate - Related to survey sampling, not individual attributes.|\n"
   ]
  },
  {
   "cell_type": "code",
   "execution_count": 45,
   "metadata": {},
   "outputs": [],
   "source": [
    "irrelevant_features = ['PUFPWGTFIN', 'PUFSVYMO', 'PUFSVYYR', 'PUFPSU', 'PUFRPL']\n",
    "\n",
    "# Drop irrelevant features\n",
    "df_copy = df_copy.drop(irrelevant_features, axis=1)\n"
   ]
  },
  {
   "cell_type": "code",
   "execution_count": 77,
   "metadata": {},
   "outputs": [
    {
     "name": "stdout",
     "output_type": "stream",
     "text": [
      "Number of Features after dropping:  45\n"
     ]
    }
   ],
   "source": [
    "num_features = len(df_copy.columns)\n",
    "print(\"Number of Features after dropping: \", num_features)"
   ]
  },
  {
   "cell_type": "markdown",
   "metadata": {},
   "source": [
    "### Handling Outliers "
   ]
  },
  {
   "cell_type": "code",
   "execution_count": 58,
   "metadata": {},
   "outputs": [
    {
     "data": {
      "text/html": [
       "<div>\n",
       "<style scoped>\n",
       "    .dataframe tbody tr th:only-of-type {\n",
       "        vertical-align: middle;\n",
       "    }\n",
       "\n",
       "    .dataframe tbody tr th {\n",
       "        vertical-align: top;\n",
       "    }\n",
       "\n",
       "    .dataframe thead th {\n",
       "        text-align: right;\n",
       "    }\n",
       "</style>\n",
       "<table border=\"1\" class=\"dataframe\">\n",
       "  <thead>\n",
       "    <tr style=\"text-align: right;\">\n",
       "      <th></th>\n",
       "      <th>PUFREG</th>\n",
       "      <th>PUFPRV</th>\n",
       "      <th>PUFPRRCD</th>\n",
       "      <th>PUFHHNUM</th>\n",
       "      <th>PUFURB2K10</th>\n",
       "      <th>PUFHHSIZE</th>\n",
       "      <th>PUFC01_LNO</th>\n",
       "      <th>PUFC03_REL</th>\n",
       "      <th>PUFC04_SEX</th>\n",
       "      <th>PUFC05_AGE</th>\n",
       "      <th>...</th>\n",
       "      <th>PUFC33_WEEKS</th>\n",
       "      <th>PUFC34_WYNOT</th>\n",
       "      <th>PUFC35_LTLOOKW</th>\n",
       "      <th>PUFC36_AVAIL</th>\n",
       "      <th>PUFC37_WILLING</th>\n",
       "      <th>PUFC38_PREVJOB</th>\n",
       "      <th>PUFC40_POCC</th>\n",
       "      <th>PUFC41_WQTR</th>\n",
       "      <th>PUFC43_QKB</th>\n",
       "      <th>PUFNEWEMPSTAT</th>\n",
       "    </tr>\n",
       "  </thead>\n",
       "  <tbody>\n",
       "    <tr>\n",
       "      <th>count</th>\n",
       "      <td>180862.000000</td>\n",
       "      <td>180862.000000</td>\n",
       "      <td>180862.000000</td>\n",
       "      <td>180862.000000</td>\n",
       "      <td>180862.000000</td>\n",
       "      <td>180862.000000</td>\n",
       "      <td>180862.000000</td>\n",
       "      <td>180862.000000</td>\n",
       "      <td>180862.000000</td>\n",
       "      <td>180862.000000</td>\n",
       "      <td>...</td>\n",
       "      <td>180862</td>\n",
       "      <td>180862</td>\n",
       "      <td>180862</td>\n",
       "      <td>180862</td>\n",
       "      <td>180862</td>\n",
       "      <td>180862</td>\n",
       "      <td>180862</td>\n",
       "      <td>180862</td>\n",
       "      <td>180862</td>\n",
       "      <td>180862</td>\n",
       "    </tr>\n",
       "    <tr>\n",
       "      <th>unique</th>\n",
       "      <td>NaN</td>\n",
       "      <td>NaN</td>\n",
       "      <td>NaN</td>\n",
       "      <td>NaN</td>\n",
       "      <td>NaN</td>\n",
       "      <td>NaN</td>\n",
       "      <td>NaN</td>\n",
       "      <td>NaN</td>\n",
       "      <td>NaN</td>\n",
       "      <td>NaN</td>\n",
       "      <td>...</td>\n",
       "      <td>36</td>\n",
       "      <td>10</td>\n",
       "      <td>4</td>\n",
       "      <td>3</td>\n",
       "      <td>3</td>\n",
       "      <td>3</td>\n",
       "      <td>44</td>\n",
       "      <td>3</td>\n",
       "      <td>89</td>\n",
       "      <td>4</td>\n",
       "    </tr>\n",
       "    <tr>\n",
       "      <th>top</th>\n",
       "      <td>NaN</td>\n",
       "      <td>NaN</td>\n",
       "      <td>NaN</td>\n",
       "      <td>NaN</td>\n",
       "      <td>NaN</td>\n",
       "      <td>NaN</td>\n",
       "      <td>NaN</td>\n",
       "      <td>NaN</td>\n",
       "      <td>NaN</td>\n",
       "      <td>NaN</td>\n",
       "      <td>...</td>\n",
       "      <td></td>\n",
       "      <td></td>\n",
       "      <td></td>\n",
       "      <td></td>\n",
       "      <td></td>\n",
       "      <td></td>\n",
       "      <td></td>\n",
       "      <td></td>\n",
       "      <td></td>\n",
       "      <td>1</td>\n",
       "    </tr>\n",
       "    <tr>\n",
       "      <th>freq</th>\n",
       "      <td>NaN</td>\n",
       "      <td>NaN</td>\n",
       "      <td>NaN</td>\n",
       "      <td>NaN</td>\n",
       "      <td>NaN</td>\n",
       "      <td>NaN</td>\n",
       "      <td>NaN</td>\n",
       "      <td>NaN</td>\n",
       "      <td>NaN</td>\n",
       "      <td>NaN</td>\n",
       "      <td>...</td>\n",
       "      <td>178569</td>\n",
       "      <td>134985</td>\n",
       "      <td>179269</td>\n",
       "      <td>174893</td>\n",
       "      <td>174893</td>\n",
       "      <td>132692</td>\n",
       "      <td>152982</td>\n",
       "      <td>81627</td>\n",
       "      <td>107825</td>\n",
       "      <td>71355</td>\n",
       "    </tr>\n",
       "    <tr>\n",
       "      <th>mean</th>\n",
       "      <td>9.398801</td>\n",
       "      <td>45.825309</td>\n",
       "      <td>4585.055324</td>\n",
       "      <td>20528.231873</td>\n",
       "      <td>1.574947</td>\n",
       "      <td>5.504783</td>\n",
       "      <td>3.252391</td>\n",
       "      <td>2.931489</td>\n",
       "      <td>1.493874</td>\n",
       "      <td>27.889772</td>\n",
       "      <td>...</td>\n",
       "      <td>NaN</td>\n",
       "      <td>NaN</td>\n",
       "      <td>NaN</td>\n",
       "      <td>NaN</td>\n",
       "      <td>NaN</td>\n",
       "      <td>NaN</td>\n",
       "      <td>NaN</td>\n",
       "      <td>NaN</td>\n",
       "      <td>NaN</td>\n",
       "      <td>NaN</td>\n",
       "    </tr>\n",
       "    <tr>\n",
       "      <th>std</th>\n",
       "      <td>4.667034</td>\n",
       "      <td>24.939767</td>\n",
       "      <td>2494.028733</td>\n",
       "      <td>11827.708144</td>\n",
       "      <td>0.494352</td>\n",
       "      <td>2.370169</td>\n",
       "      <td>2.077130</td>\n",
       "      <td>1.832299</td>\n",
       "      <td>0.499964</td>\n",
       "      <td>20.052132</td>\n",
       "      <td>...</td>\n",
       "      <td>NaN</td>\n",
       "      <td>NaN</td>\n",
       "      <td>NaN</td>\n",
       "      <td>NaN</td>\n",
       "      <td>NaN</td>\n",
       "      <td>NaN</td>\n",
       "      <td>NaN</td>\n",
       "      <td>NaN</td>\n",
       "      <td>NaN</td>\n",
       "      <td>NaN</td>\n",
       "    </tr>\n",
       "    <tr>\n",
       "      <th>min</th>\n",
       "      <td>1.000000</td>\n",
       "      <td>1.000000</td>\n",
       "      <td>100.000000</td>\n",
       "      <td>1.000000</td>\n",
       "      <td>1.000000</td>\n",
       "      <td>1.000000</td>\n",
       "      <td>1.000000</td>\n",
       "      <td>1.000000</td>\n",
       "      <td>1.000000</td>\n",
       "      <td>0.000000</td>\n",
       "      <td>...</td>\n",
       "      <td>NaN</td>\n",
       "      <td>NaN</td>\n",
       "      <td>NaN</td>\n",
       "      <td>NaN</td>\n",
       "      <td>NaN</td>\n",
       "      <td>NaN</td>\n",
       "      <td>NaN</td>\n",
       "      <td>NaN</td>\n",
       "      <td>NaN</td>\n",
       "      <td>NaN</td>\n",
       "    </tr>\n",
       "    <tr>\n",
       "      <th>25%</th>\n",
       "      <td>5.000000</td>\n",
       "      <td>24.000000</td>\n",
       "      <td>2402.000000</td>\n",
       "      <td>10256.250000</td>\n",
       "      <td>1.000000</td>\n",
       "      <td>4.000000</td>\n",
       "      <td>2.000000</td>\n",
       "      <td>2.000000</td>\n",
       "      <td>1.000000</td>\n",
       "      <td>11.000000</td>\n",
       "      <td>...</td>\n",
       "      <td>NaN</td>\n",
       "      <td>NaN</td>\n",
       "      <td>NaN</td>\n",
       "      <td>NaN</td>\n",
       "      <td>NaN</td>\n",
       "      <td>NaN</td>\n",
       "      <td>NaN</td>\n",
       "      <td>NaN</td>\n",
       "      <td>NaN</td>\n",
       "      <td>NaN</td>\n",
       "    </tr>\n",
       "    <tr>\n",
       "      <th>50%</th>\n",
       "      <td>10.000000</td>\n",
       "      <td>46.000000</td>\n",
       "      <td>4600.000000</td>\n",
       "      <td>20406.000000</td>\n",
       "      <td>2.000000</td>\n",
       "      <td>5.000000</td>\n",
       "      <td>3.000000</td>\n",
       "      <td>3.000000</td>\n",
       "      <td>1.000000</td>\n",
       "      <td>24.000000</td>\n",
       "      <td>...</td>\n",
       "      <td>NaN</td>\n",
       "      <td>NaN</td>\n",
       "      <td>NaN</td>\n",
       "      <td>NaN</td>\n",
       "      <td>NaN</td>\n",
       "      <td>NaN</td>\n",
       "      <td>NaN</td>\n",
       "      <td>NaN</td>\n",
       "      <td>NaN</td>\n",
       "      <td>NaN</td>\n",
       "    </tr>\n",
       "    <tr>\n",
       "      <th>75%</th>\n",
       "      <td>13.000000</td>\n",
       "      <td>71.000000</td>\n",
       "      <td>7100.000000</td>\n",
       "      <td>30962.000000</td>\n",
       "      <td>2.000000</td>\n",
       "      <td>7.000000</td>\n",
       "      <td>4.000000</td>\n",
       "      <td>3.000000</td>\n",
       "      <td>2.000000</td>\n",
       "      <td>42.000000</td>\n",
       "      <td>...</td>\n",
       "      <td>NaN</td>\n",
       "      <td>NaN</td>\n",
       "      <td>NaN</td>\n",
       "      <td>NaN</td>\n",
       "      <td>NaN</td>\n",
       "      <td>NaN</td>\n",
       "      <td>NaN</td>\n",
       "      <td>NaN</td>\n",
       "      <td>NaN</td>\n",
       "      <td>NaN</td>\n",
       "    </tr>\n",
       "    <tr>\n",
       "      <th>max</th>\n",
       "      <td>17.000000</td>\n",
       "      <td>98.000000</td>\n",
       "      <td>9804.000000</td>\n",
       "      <td>40880.000000</td>\n",
       "      <td>2.000000</td>\n",
       "      <td>23.000000</td>\n",
       "      <td>23.000000</td>\n",
       "      <td>11.000000</td>\n",
       "      <td>2.000000</td>\n",
       "      <td>99.000000</td>\n",
       "      <td>...</td>\n",
       "      <td>NaN</td>\n",
       "      <td>NaN</td>\n",
       "      <td>NaN</td>\n",
       "      <td>NaN</td>\n",
       "      <td>NaN</td>\n",
       "      <td>NaN</td>\n",
       "      <td>NaN</td>\n",
       "      <td>NaN</td>\n",
       "      <td>NaN</td>\n",
       "      <td>NaN</td>\n",
       "    </tr>\n",
       "  </tbody>\n",
       "</table>\n",
       "<p>11 rows × 45 columns</p>\n",
       "</div>"
      ],
      "text/plain": [
       "               PUFREG         PUFPRV       PUFPRRCD       PUFHHNUM  \\\n",
       "count   180862.000000  180862.000000  180862.000000  180862.000000   \n",
       "unique            NaN            NaN            NaN            NaN   \n",
       "top               NaN            NaN            NaN            NaN   \n",
       "freq              NaN            NaN            NaN            NaN   \n",
       "mean         9.398801      45.825309    4585.055324   20528.231873   \n",
       "std          4.667034      24.939767    2494.028733   11827.708144   \n",
       "min          1.000000       1.000000     100.000000       1.000000   \n",
       "25%          5.000000      24.000000    2402.000000   10256.250000   \n",
       "50%         10.000000      46.000000    4600.000000   20406.000000   \n",
       "75%         13.000000      71.000000    7100.000000   30962.000000   \n",
       "max         17.000000      98.000000    9804.000000   40880.000000   \n",
       "\n",
       "           PUFURB2K10      PUFHHSIZE     PUFC01_LNO     PUFC03_REL  \\\n",
       "count   180862.000000  180862.000000  180862.000000  180862.000000   \n",
       "unique            NaN            NaN            NaN            NaN   \n",
       "top               NaN            NaN            NaN            NaN   \n",
       "freq              NaN            NaN            NaN            NaN   \n",
       "mean         1.574947       5.504783       3.252391       2.931489   \n",
       "std          0.494352       2.370169       2.077130       1.832299   \n",
       "min          1.000000       1.000000       1.000000       1.000000   \n",
       "25%          1.000000       4.000000       2.000000       2.000000   \n",
       "50%          2.000000       5.000000       3.000000       3.000000   \n",
       "75%          2.000000       7.000000       4.000000       3.000000   \n",
       "max          2.000000      23.000000      23.000000      11.000000   \n",
       "\n",
       "           PUFC04_SEX     PUFC05_AGE  ... PUFC33_WEEKS PUFC34_WYNOT  \\\n",
       "count   180862.000000  180862.000000  ...       180862       180862   \n",
       "unique            NaN            NaN  ...           36           10   \n",
       "top               NaN            NaN  ...                             \n",
       "freq              NaN            NaN  ...       178569       134985   \n",
       "mean         1.493874      27.889772  ...          NaN          NaN   \n",
       "std          0.499964      20.052132  ...          NaN          NaN   \n",
       "min          1.000000       0.000000  ...          NaN          NaN   \n",
       "25%          1.000000      11.000000  ...          NaN          NaN   \n",
       "50%          1.000000      24.000000  ...          NaN          NaN   \n",
       "75%          2.000000      42.000000  ...          NaN          NaN   \n",
       "max          2.000000      99.000000  ...          NaN          NaN   \n",
       "\n",
       "       PUFC35_LTLOOKW PUFC36_AVAIL PUFC37_WILLING PUFC38_PREVJOB PUFC40_POCC  \\\n",
       "count          180862       180862         180862         180862      180862   \n",
       "unique              4            3              3              3          44   \n",
       "top                                                                            \n",
       "freq           179269       174893         174893         132692      152982   \n",
       "mean              NaN          NaN            NaN            NaN         NaN   \n",
       "std               NaN          NaN            NaN            NaN         NaN   \n",
       "min               NaN          NaN            NaN            NaN         NaN   \n",
       "25%               NaN          NaN            NaN            NaN         NaN   \n",
       "50%               NaN          NaN            NaN            NaN         NaN   \n",
       "75%               NaN          NaN            NaN            NaN         NaN   \n",
       "max               NaN          NaN            NaN            NaN         NaN   \n",
       "\n",
       "       PUFC41_WQTR PUFC43_QKB PUFNEWEMPSTAT  \n",
       "count       180862     180862        180862  \n",
       "unique           3         89             4  \n",
       "top                                       1  \n",
       "freq         81627     107825         71355  \n",
       "mean           NaN        NaN           NaN  \n",
       "std            NaN        NaN           NaN  \n",
       "min            NaN        NaN           NaN  \n",
       "25%            NaN        NaN           NaN  \n",
       "50%            NaN        NaN           NaN  \n",
       "75%            NaN        NaN           NaN  \n",
       "max            NaN        NaN           NaN  \n",
       "\n",
       "[11 rows x 45 columns]"
      ]
     },
     "execution_count": 58,
     "metadata": {},
     "output_type": "execute_result"
    }
   ],
   "source": [
    "\n",
    "df_copy.describe(include='all')\n"
   ]
  },
  {
   "cell_type": "markdown",
   "metadata": {},
   "source": [
    "Based on the data above, we can identify key features that should be examined for outliers. This process aims to ensure data quality, improve model performance, and enhance the reliability of insights derived from the analysis. "
   ]
  },
  {
   "cell_type": "markdown",
   "metadata": {},
   "source": [
    "### Relevant Features To Check for Outliers\n",
    "\n",
    "| Feature Code     | Description                                                                     | Reason to Check For Outliers       |\n",
    "|------------------|---------------------------------------------------------------------------------|-----------------------------------|\n",
    "| `PUFC05_AGE`     | Age of the person since last birthday.                                          | Ages  0 or above 100 are unrealistic. |\n",
    "| `PUFC18_PNWHRS`  | Normal working hours per day.                                                   | Excessively high hours  |\n",
    "| `PUFC19_PHOURS`  | Total number of hours worked during the past week.                             | Hours above 80 per week are likely unrealistic. |\n",
    "| `PUFC27_NJOBS`   | Number of jobs the person had during the past week.                            | High numbers of jobs may indicate errors. |\n",
    "| `PUFC25_PBASIC`  | Basic pay per day for primary occupation.                                       | Extremely high or low pay may indicate data entry errors. |\n",
    "| `PUFC28_THOURS`  | Total number of hours worked for all jobs during the past week.                | Hours above 80 per week are likely unrealistic. |\n"
   ]
  },
  {
   "cell_type": "code",
   "execution_count": 90,
   "metadata": {},
   "outputs": [
    {
     "data": {
      "text/plain": [
       "<Figure size 2000x1500 with 0 Axes>"
      ]
     },
     "metadata": {},
     "output_type": "display_data"
    },
    {
     "data": {
      "image/png": "[encoded data removed]",
      "text/plain": [
       "<Figure size 2000x1500 with 6 Axes>"
      ]
     },
     "metadata": {},
     "output_type": "display_data"
    }
   ],
   "source": [
    "\n",
    "\n",
    "# List of relevant features to check for outliers\n",
    "relevant_features = [\n",
    "    'PUFC05_AGE', 'PUFC18_PNWHRS', 'PUFC19_PHOURS',\n",
    "    'PUFC27_NJOBS', 'PUFC25_PBASIC', 'PUFC28_THOURS'\n",
    "]\n",
    "\n",
    "# Convert all relevant features to numeric (forcing non-numeric values to NaN)\n",
    "#df_copy[relevant_features] = df_copy[relevant_features].apply(pd.to_numeric, errors='coerce')\n",
    "\n",
    "# Plot histograms for all relevant features\n",
    "plt.figure(figsize=(20, 15))\n",
    "df_copy[relevant_features].hist(bins=30, figsize=(20, 15))\n",
    "plt.suptitle('Distribution of Relevant Features (Histograms)')\n",
    "plt.show()\n",
    "\n"
   ]
  },
  {
   "cell_type": "markdown",
   "metadata": {},
   "source": [
    "Based from the Histogram, several potential issues and outliers that need to be addressed for better model performance"
   ]
  },
  {
   "cell_type": "markdown",
   "metadata": {},
   "source": [
    "#### 1. PUFC05_AGE  \n",
    "- **Distribution:** Right-skewed, with a high frequency of younger individuals.  \n",
    "- **Potential Outliers:**  \n",
    "    - Age 0: Possibly incorrect or missing data.  \n",
    "    - Very high ages (>80): Not necessarily outliers but may be rare cases.  \n",
    "- **Solution:** \n",
    "    - Include only ages above 18, since its the legal working age "
   ]
  },
  {
   "cell_type": "code",
   "execution_count": null,
   "metadata": {},
   "outputs": [
    {
     "name": "stdout",
     "output_type": "stream",
     "text": [
      "Number of rows with Age < 18 before removal: 0\n",
      "Number of rows with Age < 18 after removal: 0\n",
      "18\n"
     ]
    }
   ],
   "source": [
    "#  before removal\n",
    "invalid_age_count = df_copy[df_copy['PUFC05_AGE'] < 18].shape[0]\n",
    "print(f\"Number of rows with Age < 18 before removal: {invalid_age_count}\")\n",
    "\n",
    "# Remove rows where PUFC05_AGE is below legal working age (18)\n",
    "df_copy = df_copy[df_copy['PUFC05_AGE'] >= 18]\n",
    "\n",
    "#  after removal\n",
    "invalid_age_count_after = df_copy[df_copy['PUFC05_AGE'] < 18].shape[0]\n",
    "print(f\"Number of rows with Age < 18 after removal: {invalid_age_count_after}\")\n"
   ]
  },
  {
   "cell_type": "code",
   "execution_count": 117,
   "metadata": {},
   "outputs": [
    {
     "data": {
      "image/png": "[encoded data removed]",
      "text/plain": [
       "<Figure size 2000x200 with 2 Axes>"
      ]
     },
     "metadata": {},
     "output_type": "display_data"
    }
   ],
   "source": [
    "\n",
    "# Plot before and after histograms\n",
    "plt.figure(figsize=(20, 2))\n",
    "\n",
    "# Plot Before Removal\n",
    "plt.subplot(1, 2, 1)\n",
    "sns.histplot(df['PUFC05_AGE'], bins=30, kde=True)\n",
    "plt.title('PUFC05_AGE Distribution (Before Removal)')\n",
    "plt.xlabel('Age')\n",
    "plt.ylabel('Frequency')\n",
    "\n",
    "# Plot After Removal\n",
    "plt.subplot(1, 2, 2)\n",
    "sns.histplot(df_copy['PUFC05_AGE'], bins=30, kde=True)\n",
    "plt.title('PUFC05_AGE Distribution (After Removal)')\n",
    "plt.xlabel('Age')\n",
    "plt.ylabel('Frequency')\n",
    "\n",
    "plt.tight_layout()\n",
    "plt.show()\n"
   ]
  },
  {
   "cell_type": "markdown",
   "metadata": {},
   "source": [
    "#### 2. PUFC25_PBASIC\n",
    "- **Distribution:** Extremely skewed, with a large concentration of data near 0\n",
    "- **Potential Outliers:**  \n",
    "    - Very high values above 30,000 are likely erroneous.\n",
    "- **Solution:** \n",
    "    - capping and log transformation"
   ]
  },
  {
   "cell_type": "code",
   "execution_count": 92,
   "metadata": {},
   "outputs": [
    {
     "name": "stdout",
     "output_type": "stream",
     "text": [
      "Capping 'PUFC25_PBASIC' values above: 1818.0\n",
      "Maximum value of 'PUFC25_PBASIC' after capping: 1818.0\n"
     ]
    }
   ],
   "source": [
    "\n",
    "cap_value = df_copy['PUFC25_PBASIC'].quantile(0.99)\n",
    "print(f\"Capping 'PUFC25_PBASIC' values above: {cap_value}\")\n",
    "\n",
    "# cap\n",
    "df_copy['PUFC25_PBASIC'] = np.where(df_copy['PUFC25_PBASIC'] > cap_value, cap_value, df_copy['PUFC25_PBASIC'])\n",
    "\n",
    "# display the maximum value after capping\n",
    "print(f\"Maximum value of 'PUFC25_PBASIC' after capping: {df_copy['PUFC25_PBASIC'].max()}\")\n"
   ]
  },
  {
   "cell_type": "code",
   "execution_count": 121,
   "metadata": {},
   "outputs": [
    {
     "data": {
      "image/png": "[encoded data removed]",
      "text/plain": [
       "<Figure size 2000x200 with 2 Axes>"
      ]
     },
     "metadata": {},
     "output_type": "display_data"
    }
   ],
   "source": [
    "plt.figure(figsize=(20, 2))\n",
    "\n",
    "# Plot Before Capping\n",
    "plt.subplot(1, 2, 1)\n",
    "sns.histplot(df['PUFC25_PBASIC'], bins=30, kde=True)\n",
    "plt.title('PUFC25_PBASIC Distribution (Before Capping)')\n",
    "plt.xlabel('Basic Pay Per Day')\n",
    "plt.ylabel('Frequency')\n",
    "\n",
    "# Plot After Capping\n",
    "plt.subplot(1, 2, 2)\n",
    "sns.histplot(df_copy['PUFC25_PBASIC'], bins=30, kde=True)\n",
    "plt.title('PUFC25_PBASIC Distribution (After Capping)')\n",
    "plt.xlabel('Basic Pay Per Day')\n",
    "plt.ylabel('Frequency')\n",
    "\n",
    "plt.tight_layout()\n",
    "plt.show()"
   ]
  },
  {
   "cell_type": "markdown",
   "metadata": {},
   "source": [
    "#### 3. PUFC19_PHOURS\n",
    "- **Distribution:** Peaks around 40 which is the standard work per week\n",
    "- **Potential Outliers:**  \n",
    "    - Values exceeding 100 may be considered unusual or inconsistent with typical work patterns.\n",
    "- **Solution:** \n",
    "    - capping and log transformation"
   ]
  },
  {
   "cell_type": "code",
   "execution_count": 94,
   "metadata": {},
   "outputs": [
    {
     "name": "stdout",
     "output_type": "stream",
     "text": [
      "Capping threshold (99th percentile): 91.0\n",
      "Maximum value of 'PUFC19_PHOURS' after capping: 100.0\n"
     ]
    }
   ],
   "source": [
    "\n",
    "cap_value = df_copy['PUFC19_PHOURS'].quantile(0.99)\n",
    "print(f\"Capping threshold (99th percentile): {cap_value}\")\n",
    "\n",
    "# cap\n",
    "df_copy['PUFC19_PHOURS'] = np.where(df_copy['PUFC19_PHOURS'] > 100, 100, df_copy['PUFC19_PHOURS'])\n",
    "\n",
    "# display the maximum value after capping\n",
    "print(f\"Maximum value of 'PUFC19_PHOURS' after capping: {df_copy['PUFC19_PHOURS'].max()}\")\n"
   ]
  },
  {
   "cell_type": "code",
   "execution_count": 122,
   "metadata": {},
   "outputs": [
    {
     "data": {
      "image/png": "[encoded data removed]",
      "text/plain": [
       "<Figure size 2000x200 with 2 Axes>"
      ]
     },
     "metadata": {},
     "output_type": "display_data"
    }
   ],
   "source": [
    "plt.figure(figsize=(20, 2))\n",
    "\n",
    "# Plot Before Capping\n",
    "plt.subplot(1, 2, 1)\n",
    "sns.histplot(df['PUFC19_PHOURS'], bins=30, kde=True)\n",
    "plt.title('PUFC19_PHOURS Distribution (Before Capping)')\n",
    "plt.xlabel('Total Hours Worked Per Week')\n",
    "plt.ylabel('Frequency')\n",
    "\n",
    "# Plot After Capping\n",
    "plt.subplot(1, 2, 2)\n",
    "sns.histplot(df_copy['PUFC19_PHOURS'], bins=30, kde=True)\n",
    "plt.title('PUFC19_PHOURS Distribution (After Capping)')\n",
    "plt.xlabel('Total Hours Worked Per Week')\n",
    "plt.ylabel('Frequency')\n",
    "\n",
    "plt.tight_layout()\n",
    "plt.show()"
   ]
  },
  {
   "cell_type": "markdown",
   "metadata": {},
   "source": [
    "### Handling NaNs"
   ]
  },
  {
   "cell_type": "markdown",
   "metadata": {},
   "source": [
    "Since we have previously used `to_numeric(errors='coerce')` for the histogram earlier, this will introduce NaN values. To check if there are any, we refer to this code below"
   ]
  },
  {
   "cell_type": "code",
   "execution_count": 105,
   "metadata": {},
   "outputs": [
    {
     "name": "stdout",
     "output_type": "stream",
     "text": [
      "Missing values per feature:\n",
      " PUFC18_PNWHRS     42511\n",
      "PUFC19_PHOURS     42511\n",
      "PUFC25_PBASIC     76040\n",
      "PUFC27_NJOBS     105865\n",
      "PUFC28_THOURS     42511\n",
      "PUFC33_WEEKS     109501\n",
      "dtype: int64\n"
     ]
    }
   ],
   "source": [
    "# Check for NaN in the dataset\n",
    "missing_values = df_copy.isna().sum()\n",
    "missing_values = missing_values[missing_values > 0]\n",
    "print(\"Missing values per feature:\\n\", missing_values)\n"
   ]
  },
  {
   "cell_type": "markdown",
   "metadata": {},
   "source": [
    "In order to fix this, we will use imputation"
   ]
  },
  {
   "cell_type": "code",
   "execution_count": 107,
   "metadata": {},
   "outputs": [
    {
     "name": "stdout",
     "output_type": "stream",
     "text": [
      "Remaining missing values after handling:\n",
      " Series([], dtype: int64)\n"
     ]
    }
   ],
   "source": [
    "# Impute numerical columns with median\n",
    "df_copy['PUFC18_PNWHRS'].fillna(df_copy['PUFC18_PNWHRS'].median())\n",
    "df_copy['PUFC19_PHOURS'].fillna(df_copy['PUFC19_PHOURS'].median())\n",
    "df_copy['PUFC25_PBASIC'].fillna(df_copy['PUFC25_PBASIC'].median())\n",
    "df_copy['PUFC28_THOURS'].fillna(df_copy['PUFC28_THOURS'].median())\n",
    "\n",
    "# Impute columns where missing values indicate absence of the event (e.g., no other jobs or no weeks looking for work)\n",
    "df_copy['PUFC27_NJOBS'].fillna(0)\n",
    "df_copy['PUFC33_WEEKS'].fillna(0)\n",
    "\n",
    "# Check if all missing values are handled\n",
    "missing_values_after = df_copy.isna().sum()\n",
    "missing_values_after = missing_values_after[missing_values_after > 0]\n",
    "print(\"Remaining missing values after handling:\\n\", missing_values_after)\n"
   ]
  },
  {
   "cell_type": "markdown",
   "metadata": {},
   "source": [
    "Lastly, lets save the df_copy dataset into a new csv file."
   ]
  },
  {
   "cell_type": "code",
   "execution_count": 126,
   "metadata": {},
   "outputs": [],
   "source": [
    "df_copy.to_csv('dataset/LFS_cleaned.csv', index=False)"
   ]
  },
  {
   "cell_type": "markdown",
   "metadata": {},
   "source": [
    "## Section 5. Exploratory data analysis"
   ]
  },
  {
   "cell_type": "markdown",
   "metadata": {},
   "source": [
    "## Section 6. Initial model training"
   ]
  },
  {
   "cell_type": "markdown",
   "metadata": {},
   "source": [
    "## Section 7. Error analysis"
   ]
  },
  {
   "cell_type": "markdown",
   "metadata": {},
   "source": [
    "## Section 8. Improving model performance"
   ]
  },
  {
   "cell_type": "markdown",
   "metadata": {},
   "source": [
    "## Section 9. Model performance summary"
   ]
  },
  {
   "cell_type": "markdown",
   "metadata": {},
   "source": [
    "## Section 10. Insights and conclusions"
   ]
  },
  {
   "cell_type": "markdown",
   "metadata": {},
   "source": [
    "## Section 11. References"
   ]
  }
 ],
 "metadata": {
  "kernelspec": {
   "display_name": ".venv",
   "language": "python",
   "name": "python3"
  },
  "language_info": {
   "codemirror_mode": {
    "name": "ipython",
    "version": 3
   },
   "file_extension": ".py",
   "mimetype": "text/x-python",
   "name": "python",
   "nbconvert_exporter": "python",
   "pygments_lexer": "ipython3",
   "version": "3.12.5"
  }
 },
 "nbformat": 4,
 "nbformat_minor": 2
}
