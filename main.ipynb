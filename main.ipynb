{
 "cells": [
  {
   "cell_type": "markdown",
   "metadata": {},
   "source": [
    "## Machine Learning Project \n",
    "#### Group 1 Members: \n",
    "* DIAZ, Rafael Inigo \n",
    "* HOMBREBUENO, Robin James \n",
    "* SILVA, Kyle Luis \n",
    "* TONGOL, Gabrielle Vincenza "
   ]
  },
  {
   "cell_type": "markdown",
   "metadata": {},
   "source": [
    "## Section 1. Introduction to the problem/task and dataset"
   ]
  },
  {
   "cell_type": "markdown",
   "metadata": {},
   "source": [
    "\n",
    "#### 1.1 Problem Statement \n",
    "The primary goal of this project is to develop predictive models that can accurately analyze labor force participation and employment-related patterns based on the ***Labor Force Survey (LFS) 2016 dataset***. The dataset contains various socio-economic and demographic attributes aimed at understanding the employment landscape within the Philippines."
   ]
  },
  {
   "cell_type": "markdown",
   "metadata": {},
   "source": [
    "#### 1.2 Task Definition \n",
    "The specific task to be addressed in this project is a ***Classification Task***:\n",
    "\n",
    "* ***Predicting Employment Status*** (employed or unemployed) based on features such as age, education level, work experience, industry, and other relevant attributes.\n",
    "\n",
    "This task will be accomplished using machine learning models, and their performance will be evaluated using appropriate metrics such as accuracy, precision, recall, and F1-score."
   ]
  },
  {
   "cell_type": "markdown",
   "metadata": {},
   "source": [
    "## Section 2. Description of the dataset"
   ]
  },
  {
   "cell_type": "code",
   "execution_count": 1,
   "metadata": {},
   "outputs": [
    {
     "data": {
      "text/html": [
       "<div>\n",
       "<style scoped>\n",
       "    .dataframe tbody tr th:only-of-type {\n",
       "        vertical-align: middle;\n",
       "    }\n",
       "\n",
       "    .dataframe tbody tr th {\n",
       "        vertical-align: top;\n",
       "    }\n",
       "\n",
       "    .dataframe thead th {\n",
       "        text-align: right;\n",
       "    }\n",
       "</style>\n",
       "<table border=\"1\" class=\"dataframe\">\n",
       "  <thead>\n",
       "    <tr style=\"text-align: right;\">\n",
       "      <th></th>\n",
       "      <th>PUFREG</th>\n",
       "      <th>PUFPRV</th>\n",
       "      <th>PUFPRRCD</th>\n",
       "      <th>PUFHHNUM</th>\n",
       "      <th>PUFURB2K10</th>\n",
       "      <th>PUFPWGTFIN</th>\n",
       "      <th>PUFSVYMO</th>\n",
       "      <th>PUFSVYYR</th>\n",
       "      <th>PUFPSU</th>\n",
       "      <th>PUFRPL</th>\n",
       "      <th>...</th>\n",
       "      <th>PUFC33_WEEKS</th>\n",
       "      <th>PUFC34_WYNOT</th>\n",
       "      <th>PUFC35_LTLOOKW</th>\n",
       "      <th>PUFC36_AVAIL</th>\n",
       "      <th>PUFC37_WILLING</th>\n",
       "      <th>PUFC38_PREVJOB</th>\n",
       "      <th>PUFC40_POCC</th>\n",
       "      <th>PUFC41_WQTR</th>\n",
       "      <th>PUFC43_QKB</th>\n",
       "      <th>PUFNEWEMPSTAT</th>\n",
       "    </tr>\n",
       "  </thead>\n",
       "  <tbody>\n",
       "    <tr>\n",
       "      <th>0</th>\n",
       "      <td>1</td>\n",
       "      <td>28</td>\n",
       "      <td>2800</td>\n",
       "      <td>1</td>\n",
       "      <td>2</td>\n",
       "      <td>405.2219</td>\n",
       "      <td>4</td>\n",
       "      <td>2016</td>\n",
       "      <td>217</td>\n",
       "      <td>1</td>\n",
       "      <td>...</td>\n",
       "      <td></td>\n",
       "      <td></td>\n",
       "      <td></td>\n",
       "      <td></td>\n",
       "      <td></td>\n",
       "      <td></td>\n",
       "      <td></td>\n",
       "      <td>1</td>\n",
       "      <td>01</td>\n",
       "      <td>1</td>\n",
       "    </tr>\n",
       "    <tr>\n",
       "      <th>1</th>\n",
       "      <td>1</td>\n",
       "      <td>28</td>\n",
       "      <td>2800</td>\n",
       "      <td>1</td>\n",
       "      <td>2</td>\n",
       "      <td>388.8280</td>\n",
       "      <td>4</td>\n",
       "      <td>2016</td>\n",
       "      <td>217</td>\n",
       "      <td>1</td>\n",
       "      <td>...</td>\n",
       "      <td></td>\n",
       "      <td></td>\n",
       "      <td></td>\n",
       "      <td></td>\n",
       "      <td></td>\n",
       "      <td></td>\n",
       "      <td></td>\n",
       "      <td>1</td>\n",
       "      <td>01</td>\n",
       "      <td>1</td>\n",
       "    </tr>\n",
       "    <tr>\n",
       "      <th>2</th>\n",
       "      <td>1</td>\n",
       "      <td>28</td>\n",
       "      <td>2800</td>\n",
       "      <td>1</td>\n",
       "      <td>2</td>\n",
       "      <td>406.1194</td>\n",
       "      <td>4</td>\n",
       "      <td>2016</td>\n",
       "      <td>217</td>\n",
       "      <td>1</td>\n",
       "      <td>...</td>\n",
       "      <td></td>\n",
       "      <td></td>\n",
       "      <td></td>\n",
       "      <td></td>\n",
       "      <td></td>\n",
       "      <td></td>\n",
       "      <td></td>\n",
       "      <td>1</td>\n",
       "      <td>01</td>\n",
       "      <td>1</td>\n",
       "    </tr>\n",
       "    <tr>\n",
       "      <th>3</th>\n",
       "      <td>1</td>\n",
       "      <td>28</td>\n",
       "      <td>2800</td>\n",
       "      <td>2</td>\n",
       "      <td>2</td>\n",
       "      <td>405.2219</td>\n",
       "      <td>4</td>\n",
       "      <td>2016</td>\n",
       "      <td>217</td>\n",
       "      <td>1</td>\n",
       "      <td>...</td>\n",
       "      <td></td>\n",
       "      <td></td>\n",
       "      <td></td>\n",
       "      <td></td>\n",
       "      <td></td>\n",
       "      <td></td>\n",
       "      <td></td>\n",
       "      <td>1</td>\n",
       "      <td>01</td>\n",
       "      <td>1</td>\n",
       "    </tr>\n",
       "    <tr>\n",
       "      <th>4</th>\n",
       "      <td>1</td>\n",
       "      <td>28</td>\n",
       "      <td>2800</td>\n",
       "      <td>2</td>\n",
       "      <td>2</td>\n",
       "      <td>384.3556</td>\n",
       "      <td>4</td>\n",
       "      <td>2016</td>\n",
       "      <td>217</td>\n",
       "      <td>1</td>\n",
       "      <td>...</td>\n",
       "      <td></td>\n",
       "      <td></td>\n",
       "      <td></td>\n",
       "      <td></td>\n",
       "      <td></td>\n",
       "      <td></td>\n",
       "      <td></td>\n",
       "      <td>1</td>\n",
       "      <td>96</td>\n",
       "      <td>1</td>\n",
       "    </tr>\n",
       "    <tr>\n",
       "      <th>...</th>\n",
       "      <td>...</td>\n",
       "      <td>...</td>\n",
       "      <td>...</td>\n",
       "      <td>...</td>\n",
       "      <td>...</td>\n",
       "      <td>...</td>\n",
       "      <td>...</td>\n",
       "      <td>...</td>\n",
       "      <td>...</td>\n",
       "      <td>...</td>\n",
       "      <td>...</td>\n",
       "      <td>...</td>\n",
       "      <td>...</td>\n",
       "      <td>...</td>\n",
       "      <td>...</td>\n",
       "      <td>...</td>\n",
       "      <td>...</td>\n",
       "      <td>...</td>\n",
       "      <td>...</td>\n",
       "      <td>...</td>\n",
       "      <td>...</td>\n",
       "    </tr>\n",
       "    <tr>\n",
       "      <th>180857</th>\n",
       "      <td>17</td>\n",
       "      <td>59</td>\n",
       "      <td>5900</td>\n",
       "      <td>40880</td>\n",
       "      <td>2</td>\n",
       "      <td>239.4341</td>\n",
       "      <td>4</td>\n",
       "      <td>2016</td>\n",
       "      <td>258</td>\n",
       "      <td>1</td>\n",
       "      <td>...</td>\n",
       "      <td></td>\n",
       "      <td></td>\n",
       "      <td></td>\n",
       "      <td></td>\n",
       "      <td></td>\n",
       "      <td></td>\n",
       "      <td></td>\n",
       "      <td>1</td>\n",
       "      <td>50</td>\n",
       "      <td>1</td>\n",
       "    </tr>\n",
       "    <tr>\n",
       "      <th>180858</th>\n",
       "      <td>17</td>\n",
       "      <td>59</td>\n",
       "      <td>5900</td>\n",
       "      <td>40880</td>\n",
       "      <td>2</td>\n",
       "      <td>189.8885</td>\n",
       "      <td>4</td>\n",
       "      <td>2016</td>\n",
       "      <td>258</td>\n",
       "      <td>1</td>\n",
       "      <td>...</td>\n",
       "      <td></td>\n",
       "      <td>8</td>\n",
       "      <td></td>\n",
       "      <td></td>\n",
       "      <td></td>\n",
       "      <td>2</td>\n",
       "      <td></td>\n",
       "      <td></td>\n",
       "      <td></td>\n",
       "      <td>3</td>\n",
       "    </tr>\n",
       "    <tr>\n",
       "      <th>180859</th>\n",
       "      <td>17</td>\n",
       "      <td>59</td>\n",
       "      <td>5900</td>\n",
       "      <td>40880</td>\n",
       "      <td>2</td>\n",
       "      <td>207.7395</td>\n",
       "      <td>4</td>\n",
       "      <td>2016</td>\n",
       "      <td>258</td>\n",
       "      <td>1</td>\n",
       "      <td>...</td>\n",
       "      <td></td>\n",
       "      <td></td>\n",
       "      <td></td>\n",
       "      <td></td>\n",
       "      <td></td>\n",
       "      <td></td>\n",
       "      <td></td>\n",
       "      <td></td>\n",
       "      <td></td>\n",
       "      <td></td>\n",
       "    </tr>\n",
       "    <tr>\n",
       "      <th>180860</th>\n",
       "      <td>17</td>\n",
       "      <td>59</td>\n",
       "      <td>5900</td>\n",
       "      <td>40880</td>\n",
       "      <td>2</td>\n",
       "      <td>207.7395</td>\n",
       "      <td>4</td>\n",
       "      <td>2016</td>\n",
       "      <td>258</td>\n",
       "      <td>1</td>\n",
       "      <td>...</td>\n",
       "      <td></td>\n",
       "      <td></td>\n",
       "      <td></td>\n",
       "      <td></td>\n",
       "      <td></td>\n",
       "      <td></td>\n",
       "      <td></td>\n",
       "      <td></td>\n",
       "      <td></td>\n",
       "      <td></td>\n",
       "    </tr>\n",
       "    <tr>\n",
       "      <th>180861</th>\n",
       "      <td>17</td>\n",
       "      <td>59</td>\n",
       "      <td>5900</td>\n",
       "      <td>40880</td>\n",
       "      <td>2</td>\n",
       "      <td>277.5219</td>\n",
       "      <td>4</td>\n",
       "      <td>2016</td>\n",
       "      <td>258</td>\n",
       "      <td>1</td>\n",
       "      <td>...</td>\n",
       "      <td></td>\n",
       "      <td></td>\n",
       "      <td></td>\n",
       "      <td></td>\n",
       "      <td></td>\n",
       "      <td></td>\n",
       "      <td></td>\n",
       "      <td>1</td>\n",
       "      <td>01</td>\n",
       "      <td>1</td>\n",
       "    </tr>\n",
       "  </tbody>\n",
       "</table>\n",
       "<p>180862 rows × 50 columns</p>\n",
       "</div>"
      ],
      "text/plain": [
       "        PUFREG  PUFPRV  PUFPRRCD  PUFHHNUM  PUFURB2K10  PUFPWGTFIN  PUFSVYMO  \\\n",
       "0            1      28      2800         1           2    405.2219         4   \n",
       "1            1      28      2800         1           2    388.8280         4   \n",
       "2            1      28      2800         1           2    406.1194         4   \n",
       "3            1      28      2800         2           2    405.2219         4   \n",
       "4            1      28      2800         2           2    384.3556         4   \n",
       "...        ...     ...       ...       ...         ...         ...       ...   \n",
       "180857      17      59      5900     40880           2    239.4341         4   \n",
       "180858      17      59      5900     40880           2    189.8885         4   \n",
       "180859      17      59      5900     40880           2    207.7395         4   \n",
       "180860      17      59      5900     40880           2    207.7395         4   \n",
       "180861      17      59      5900     40880           2    277.5219         4   \n",
       "\n",
       "        PUFSVYYR  PUFPSU  PUFRPL  ...  PUFC33_WEEKS  PUFC34_WYNOT  \\\n",
       "0           2016     217       1  ...                               \n",
       "1           2016     217       1  ...                               \n",
       "2           2016     217       1  ...                               \n",
       "3           2016     217       1  ...                               \n",
       "4           2016     217       1  ...                               \n",
       "...          ...     ...     ...  ...           ...           ...   \n",
       "180857      2016     258       1  ...                               \n",
       "180858      2016     258       1  ...                           8   \n",
       "180859      2016     258       1  ...                               \n",
       "180860      2016     258       1  ...                               \n",
       "180861      2016     258       1  ...                               \n",
       "\n",
       "        PUFC35_LTLOOKW  PUFC36_AVAIL  PUFC37_WILLING PUFC38_PREVJOB  \\\n",
       "0                                                                     \n",
       "1                                                                     \n",
       "2                                                                     \n",
       "3                                                                     \n",
       "4                                                                     \n",
       "...                ...           ...             ...            ...   \n",
       "180857                                                                \n",
       "180858                                                            2   \n",
       "180859                                                                \n",
       "180860                                                                \n",
       "180861                                                                \n",
       "\n",
       "       PUFC40_POCC PUFC41_WQTR PUFC43_QKB PUFNEWEMPSTAT  \n",
       "0                            1         01             1  \n",
       "1                            1         01             1  \n",
       "2                            1         01             1  \n",
       "3                            1         01             1  \n",
       "4                            1         96             1  \n",
       "...            ...         ...        ...           ...  \n",
       "180857                       1         50             1  \n",
       "180858                                                3  \n",
       "180859                                                   \n",
       "180860                                                   \n",
       "180861                       1         01             1  \n",
       "\n",
       "[180862 rows x 50 columns]"
      ]
     },
     "execution_count": 1,
     "metadata": {},
     "output_type": "execute_result"
    }
   ],
   "source": [
    "import pandas as pd \n",
    "\n",
    "df = pd.read_csv('dataset/LFS PUF April 2016.CSV')\n",
    "df"
   ]
  },
  {
   "cell_type": "markdown",
   "metadata": {},
   "source": [
    "#### 2.1 Dataset Description \n",
    "The ***Labor Force Survey (LFS)*** is a nationwide survey of households conducted quarterly to gather data on the demographic and socio-economic characteristics of the population. It is primarily aimed at estimating the levels of employment and unemployment in the Philippines. One of the objectives of the LFS is to provide a quantitative framework for planning and policy-making affecting the labor market. The survey is designed to generate statistics on the levels and trends of employment, unemployment, and underemployment of the country, both nationally and regionally, covering all 17 administrative regions."
   ]
  },
  {
   "cell_type": "markdown",
   "metadata": {},
   "source": [
    "#### 2.2 Data Collection Process\n",
    "The survey uses a total national sample of ***42,768 households*** (if including Batanes) or 42,576 households (if excluding Batanes) per survey round. This sample size is considered sufficient to provide precise and reliable estimates at both national and regional levels. The survey's reporting unit is the household, meaning the collected statistics pertain to the characteristics of individuals residing in private households. Persons belonging to the institutional population are not included within the scope of this survey."
   ]
  },
  {
   "cell_type": "markdown",
   "metadata": {},
   "source": [
    "#### 2.3 Dataset Structure \n",
    "\n",
    "* ***Rows*** - Each row represents a single individual or respondent from a surveyed household\n",
    "* ***Columns*** - Each column represents a specific feature or attribute describing various aspects of the individual.\n",
    "* ***Instances*** - To find out the the instances of the dataset, we can refer to the code below\n",
    "\n",
    "\n"
   ]
  },
  {
   "cell_type": "code",
   "execution_count": 2,
   "metadata": {},
   "outputs": [
    {
     "name": "stdout",
     "output_type": "stream",
     "text": [
      "Number of instances: 180862\n"
     ]
    }
   ],
   "source": [
    "\n",
    "num_rows, num_columns = df.shape\n",
    "\n",
    "print(f\"Number of instances: {num_rows}\")"
   ]
  },
  {
   "cell_type": "markdown",
   "metadata": {},
   "source": [
    "### **Features** - The dataset has 50 features, as seen below\n",
    "\n",
    "| **Feature Code**  | **Description**                                                                                  |\n",
    "|------------------|--------------------------------------------------------------------------------------------------|\n",
    "| `PUFREG`         | Region                                                                                           |\n",
    "| `PUFPRV`         | Province code                                                                                    |\n",
    "| `PUFPRRCD`       | Province recode                                                                                  |\n",
    "| `PUFHHNUM`       | Household unique sequential number                                                              |\n",
    "| `PUFURB2K10`     | Urban / Rural in FIES 2010 survey                                                                |\n",
    "| `PUFPWGTFIN`     | Final weight based on projection                                                                |\n",
    "| `PUFSVYMO`       | Survey month                                                                                     |\n",
    "| `PUFSVYYR`       | Survey year                                                                                      |\n",
    "| `PUFPSU`         | PSU number                                                                                       |\n",
    "| `PUFRPL`         | Replicate                                                                                        |\n",
    "| `PUFHHSIZE`      | Number of household members                                                                      |\n",
    "| `PUFC01_LNO`     | Line number used to identify each member of the household in the survey                         |\n",
    "| `PUFC03_REL`     | Relationship of the person to the household head                                                |\n",
    "| `PUFC04_SEX`     | Sex of the person                                                                                |\n",
    "| `PUFC05_AGE`     | Age of the person since last birthday                                                           |\n",
    "| `PUFC06_MSTAT`   | Marital status of the person since last birthday                                               |\n",
    "| `PUFC07_GRADE`   | Highest grade completed of the person                                                           |\n",
    "| `PUFC08_CURSCH`  | Is the person currently attending school?                                                      |\n",
    "| `PUFC09_GRADTECH`| Is the person a graduate of a technical / vocational course?                                    |\n",
    "| `PUFC10_CONWR`   | Category of OFW                                                                                 |\n",
    "| `PUFC11_WORK`    | Did the person do any work for at least one hour during the past week?                         |\n",
    "| `PUFC12_JOB`     | Did the person have a job or business last week despite not working?                            |\n",
    "| `PUFC14_PROCC`   | Primary occupation of the person during the past week                                           |\n",
    "| `PUFC16_PKB`     | Kind of business or industry of the person                                                      |\n",
    "| `PUFC17_NATEM`   | Nature of employment of the person (Permanence, regularity, seasonality)                        |\n",
    "| `PUFC18_PNWHRS`  | Normal working hours per day                                                                     |\n",
    "| `PUFC19_PHOURS`  | Total number of hours worked during the past week                                               |\n",
    "| `PUFC20_PWMORE`  | Desire for more working hours during the past week                                              |\n",
    "| `PUFC21_PLADDW`  | Did the person look for additional work during the past week?                                   |\n",
    "| `PUFC22_PFWRK`   | Was this the person’s first time doing any work?                                               |\n",
    "| `PUFC23_PCLASS`  | Class of worker for primary occupation (relationship to establishment)                         |\n",
    "| `PUFC24_PBASIS`  | Basis of payment for primary occupation                                                         |\n",
    "| `PUFC25_PBASIC`  | Basic pay per day for primary occupation                                                        |\n",
    "| `PUFC26_OJOB`    | Did the person have other job or business during the past week?                                 |\n",
    "| `PUFC27_NJOBS`   | Number of jobs the person had during the past week                                              |\n",
    "| `PUFC28_THOURS`  | Total hours worked by the person for all jobs during the past week                              |\n",
    "| `PUFC29_WWM48H`  | Main reason for not working more than 48 hours in the past week                                 |\n",
    "| `PUFC30_LOOKW`   | Did the person look for work or try to establish a business in the past week?                  |\n",
    "| `PUFC31_FLWRK`   | Was it the person’s first time looking for work or trying to establish a business?            |\n",
    "| `PUFC32_JOBSM`   | Job search method                                                                                |\n",
    "| `PUFC33_WEEKS`   | Number of weeks spent in looking for work                                                       |\n",
    "| `PUFC34_WYNOT`   | Reason for not looking for work                                                                 |\n",
    "| `PUFC35_LTLOOKW` | Last time the person looked for work                                                            |\n",
    "| `PUFC36_AVAIL`   | Availability for work if opportunity existed within the past week or two weeks                 |\n",
    "| `PUFC37_WILLING` | Willingness to take up work in the past week or within 2 weeks                                   |\n",
    "| `PUFC38_PREVJOB` | Has the person worked at any time before?                                                      |\n",
    "| `PUFC40_POCC`    | Last occupation of the person                                                                  |\n",
    "| `PUFC41_WQTR`    | Did the person work or have a job/business during the past quarter?                           |\n",
    "| `PUFC43_QKB`     | Kind of business for the past quarter                                                          |\n",
    "| `PUFNEWEMPSTAT`  | New Employment Criteria                                                                         |\n"
   ]
  },
  {
   "cell_type": "markdown",
   "metadata": {},
   "source": [
    "## Section 3. List of requirements"
   ]
  },
  {
   "cell_type": "code",
   "execution_count": 3,
   "metadata": {},
   "outputs": [],
   "source": [
    "import numpy as np\n",
    "import matplotlib.pyplot as plt\n",
    "import seaborn as sns"
   ]
  },
  {
   "cell_type": "markdown",
   "metadata": {},
   "source": [
    "## Section 4. Data preprocessing and cleaning"
   ]
  },
  {
   "cell_type": "markdown",
   "metadata": {},
   "source": [
    "Before we proceed with any cleaning or preprocessing, it's essential to make a copy of our dataset. This is because making a copy ensures that we preserve the original data, allowing us to revert to it if something goes wrong during the cleaning process."
   ]
  },
  {
   "cell_type": "code",
   "execution_count": 4,
   "metadata": {},
   "outputs": [],
   "source": [
    "df_copy = df.copy()"
   ]
  },
  {
   "cell_type": "markdown",
   "metadata": {},
   "source": [
    "We will inspect the dataset to helps us understand the dataset’s structure, quality, and potential issues before proceeding with preprocessing and model training"
   ]
  },
  {
   "cell_type": "code",
   "execution_count": 5,
   "metadata": {},
   "outputs": [
    {
     "name": "stdout",
     "output_type": "stream",
     "text": [
      "<class 'pandas.core.frame.DataFrame'>\n",
      "RangeIndex: 180862 entries, 0 to 180861\n",
      "Data columns (total 50 columns):\n",
      " #   Column           Non-Null Count   Dtype  \n",
      "---  ------           --------------   -----  \n",
      " 0   PUFREG           180862 non-null  int64  \n",
      " 1   PUFPRV           180862 non-null  int64  \n",
      " 2   PUFPRRCD         180862 non-null  int64  \n",
      " 3   PUFHHNUM         180862 non-null  int64  \n",
      " 4   PUFURB2K10       180862 non-null  int64  \n",
      " 5   PUFPWGTFIN       180862 non-null  float64\n",
      " 6   PUFSVYMO         180862 non-null  int64  \n",
      " 7   PUFSVYYR         180862 non-null  int64  \n",
      " 8   PUFPSU           180862 non-null  int64  \n",
      " 9   PUFRPL           180862 non-null  int64  \n",
      " 10  PUFHHSIZE        180862 non-null  int64  \n",
      " 11  PUFC01_LNO       180862 non-null  int64  \n",
      " 12  PUFC03_REL       180862 non-null  int64  \n",
      " 13  PUFC04_SEX       180862 non-null  int64  \n",
      " 14  PUFC05_AGE       180862 non-null  int64  \n",
      " 15  PUFC06_MSTAT     180862 non-null  object \n",
      " 16  PUFC07_GRADE     180862 non-null  object \n",
      " 17  PUFC08_CURSCH    180862 non-null  object \n",
      " 18  PUFC09_GRADTECH  180862 non-null  object \n",
      " 19  PUFC10_CONWR     180862 non-null  object \n",
      " 20  PUFC11_WORK      180862 non-null  object \n",
      " 21  PUFC12_JOB       180862 non-null  object \n",
      " 22  PUFC14_PROCC     180862 non-null  object \n",
      " 23  PUFC16_PKB       180862 non-null  object \n",
      " 24  PUFC17_NATEM     180862 non-null  object \n",
      " 25  PUFC18_PNWHRS    180862 non-null  object \n",
      " 26  PUFC19_PHOURS    180862 non-null  object \n",
      " 27  PUFC20_PWMORE    180862 non-null  object \n",
      " 28  PUFC21_PLADDW    180862 non-null  object \n",
      " 29  PUFC22_PFWRK     180862 non-null  object \n",
      " 30  PUFC23_PCLASS    180862 non-null  object \n",
      " 31  PUFC24_PBASIS    180862 non-null  object \n",
      " 32  PUFC25_PBASIC    180862 non-null  object \n",
      " 33  PUFC26_OJOB      180862 non-null  object \n",
      " 34  PUFC27_NJOBS     180862 non-null  object \n",
      " 35  PUFC28_THOURS    180862 non-null  object \n",
      " 36  PUFC29_WWM48H    180862 non-null  object \n",
      " 37  PUFC30_LOOKW     180862 non-null  object \n",
      " 38  PUFC31_FLWRK     180862 non-null  object \n",
      " 39  PUFC32_JOBSM     180862 non-null  object \n",
      " 40  PUFC33_WEEKS     180862 non-null  object \n",
      " 41  PUFC34_WYNOT     180862 non-null  object \n",
      " 42  PUFC35_LTLOOKW   180862 non-null  object \n",
      " 43  PUFC36_AVAIL     180862 non-null  object \n",
      " 44  PUFC37_WILLING   180862 non-null  object \n",
      " 45  PUFC38_PREVJOB   180862 non-null  object \n",
      " 46  PUFC40_POCC      180862 non-null  object \n",
      " 47  PUFC41_WQTR      180862 non-null  object \n",
      " 48  PUFC43_QKB       180862 non-null  object \n",
      " 49  PUFNEWEMPSTAT    180862 non-null  object \n",
      "dtypes: float64(1), int64(14), object(35)\n",
      "memory usage: 69.0+ MB\n"
     ]
    }
   ],
   "source": [
    "df_copy.info()"
   ]
  },
  {
   "cell_type": "markdown",
   "metadata": {},
   "source": [
    "### Check for missing values \n"
   ]
  },
  {
   "cell_type": "code",
   "execution_count": 6,
   "metadata": {},
   "outputs": [
    {
     "name": "stdout",
     "output_type": "stream",
     "text": [
      "Missing values: \n",
      " PUFREG             0\n",
      "PUFPRV             0\n",
      "PUFPRRCD           0\n",
      "PUFHHNUM           0\n",
      "PUFURB2K10         0\n",
      "PUFPWGTFIN         0\n",
      "PUFSVYMO           0\n",
      "PUFSVYYR           0\n",
      "PUFPSU             0\n",
      "PUFRPL             0\n",
      "PUFHHSIZE          0\n",
      "PUFC01_LNO         0\n",
      "PUFC03_REL         0\n",
      "PUFC04_SEX         0\n",
      "PUFC05_AGE         0\n",
      "PUFC06_MSTAT       0\n",
      "PUFC07_GRADE       0\n",
      "PUFC08_CURSCH      0\n",
      "PUFC09_GRADTECH    0\n",
      "PUFC10_CONWR       0\n",
      "PUFC11_WORK        0\n",
      "PUFC12_JOB         0\n",
      "PUFC14_PROCC       0\n",
      "PUFC16_PKB         0\n",
      "PUFC17_NATEM       0\n",
      "PUFC18_PNWHRS      0\n",
      "PUFC19_PHOURS      0\n",
      "PUFC20_PWMORE      0\n",
      "PUFC21_PLADDW      0\n",
      "PUFC22_PFWRK       0\n",
      "PUFC23_PCLASS      0\n",
      "PUFC24_PBASIS      0\n",
      "PUFC25_PBASIC      0\n",
      "PUFC26_OJOB        0\n",
      "PUFC27_NJOBS       0\n",
      "PUFC28_THOURS      0\n",
      "PUFC29_WWM48H      0\n",
      "PUFC30_LOOKW       0\n",
      "PUFC31_FLWRK       0\n",
      "PUFC32_JOBSM       0\n",
      "PUFC33_WEEKS       0\n",
      "PUFC34_WYNOT       0\n",
      "PUFC35_LTLOOKW     0\n",
      "PUFC36_AVAIL       0\n",
      "PUFC37_WILLING     0\n",
      "PUFC38_PREVJOB     0\n",
      "PUFC40_POCC        0\n",
      "PUFC41_WQTR        0\n",
      "PUFC43_QKB         0\n",
      "PUFNEWEMPSTAT      0\n",
      "dtype: int64\n"
     ]
    }
   ],
   "source": [
    "missing_values = df_copy.isnull().sum()\n",
    "print(\"Missing values: \\n\", missing_values)"
   ]
  },
  {
   "cell_type": "markdown",
   "metadata": {},
   "source": [
    "### Check for Duplicates in rows"
   ]
  },
  {
   "cell_type": "code",
   "execution_count": 7,
   "metadata": {},
   "outputs": [
    {
     "name": "stdout",
     "output_type": "stream",
     "text": [
      "Duplicates: 0\n"
     ]
    }
   ],
   "source": [
    "duplicate = df_copy.duplicated().sum()\n",
    "print(\"Duplicates:\", duplicate)"
   ]
  },
  {
   "cell_type": "markdown",
   "metadata": {},
   "source": [
    "Despite previous checks indicating no missing values or duplicates, a thorough inspection of the dataset reveals a significant number of missing entries. The code below will display the features that have missing values"
   ]
  },
  {
   "cell_type": "code",
   "execution_count": 8,
   "metadata": {},
   "outputs": [
    {
     "name": "stdout",
     "output_type": "stream",
     "text": [
      "Columns Containing Blank Spaces:\n",
      "PUFC06_MSTAT       True\n",
      "PUFC07_GRADE       True\n",
      "PUFC08_CURSCH      True\n",
      "PUFC09_GRADTECH    True\n",
      "PUFC10_CONWR       True\n",
      "PUFC11_WORK        True\n",
      "PUFC12_JOB         True\n",
      "PUFC14_PROCC       True\n",
      "PUFC16_PKB         True\n",
      "PUFC17_NATEM       True\n",
      "PUFC18_PNWHRS      True\n",
      "PUFC19_PHOURS      True\n",
      "PUFC20_PWMORE      True\n",
      "PUFC21_PLADDW      True\n",
      "PUFC22_PFWRK       True\n",
      "PUFC23_PCLASS      True\n",
      "PUFC24_PBASIS      True\n",
      "PUFC25_PBASIC      True\n",
      "PUFC26_OJOB        True\n",
      "PUFC27_NJOBS       True\n",
      "PUFC28_THOURS      True\n",
      "PUFC29_WWM48H      True\n",
      "PUFC30_LOOKW       True\n",
      "PUFC31_FLWRK       True\n",
      "PUFC32_JOBSM       True\n",
      "PUFC33_WEEKS       True\n",
      "PUFC34_WYNOT       True\n",
      "PUFC35_LTLOOKW     True\n",
      "PUFC36_AVAIL       True\n",
      "PUFC37_WILLING     True\n",
      "PUFC38_PREVJOB     True\n",
      "PUFC40_POCC        True\n",
      "PUFC41_WQTR        True\n",
      "PUFC43_QKB         True\n",
      "PUFNEWEMPSTAT      True\n",
      "dtype: bool\n"
     ]
    }
   ],
   "source": [
    "\n",
    "blank_spaces = df_copy.apply(lambda x: x.astype(str).str.strip() == '')\n",
    "\n",
    "columns_with_blanks = blank_spaces.any(axis=0)\n",
    "\n",
    "print(\"Columns Containing Blank Spaces:\")\n",
    "print(columns_with_blanks[columns_with_blanks])\n"
   ]
  },
  {
   "cell_type": "markdown",
   "metadata": {},
   "source": [
    "Dropping irrelevant features is essential for improving model performance in our Employment Status Prediction task. Features that are purely identifiers or unrelated to personal attributes do not contribute useful information for predicting whether an individual is employed or unemployed. Including them would only add noise, reduce training efficiency, and potentially lead to overfitting."
   ]
  },
  {
   "cell_type": "markdown",
   "metadata": {},
   "source": [
    "### List of Potentially Irrelevant Features (To be Removed)\n",
    "| Feature Code     | Reason for Irrelevance                                              |\n",
    "|------------------|--------------------------------------------------------------------|\n",
    "| `PUFPWGTFIN`     | Weight projection - Survey-related, not about personal status.    |\n",
    "| `PUFSVYMO`       | Survey month - Only indicates time of survey.                     |\n",
    "| `PUFSVYYR`       | Survey year - Only indicates time of survey.                      |\n",
    "| `PUFPSU`         | PSU number - Purely an identifier for survey design.              |\n",
    "| `PUFRPL`         | Replicate - Related to survey sampling, not individual attributes.|\n"
   ]
  },
  {
   "cell_type": "code",
   "execution_count": 9,
   "metadata": {},
   "outputs": [],
   "source": [
    "irrelevant_features = ['PUFPWGTFIN', 'PUFSVYMO', 'PUFSVYYR', 'PUFPSU', 'PUFRPL']\n",
    "\n",
    "# Drop irrelevant features\n",
    "df_copy = df_copy.drop(irrelevant_features, axis=1)\n"
   ]
  },
  {
   "cell_type": "code",
   "execution_count": 10,
   "metadata": {},
   "outputs": [
    {
     "name": "stdout",
     "output_type": "stream",
     "text": [
      "Number of Features after dropping:  45\n"
     ]
    }
   ],
   "source": [
    "num_features = len(df_copy.columns)\n",
    "print(\"Number of Features after dropping: \", num_features)"
   ]
  },
  {
   "cell_type": "markdown",
   "metadata": {},
   "source": [
    "### Handling Outliers "
   ]
  },
  {
   "cell_type": "code",
   "execution_count": 11,
   "metadata": {},
   "outputs": [
    {
     "data": {
      "text/html": [
       "<div>\n",
       "<style scoped>\n",
       "    .dataframe tbody tr th:only-of-type {\n",
       "        vertical-align: middle;\n",
       "    }\n",
       "\n",
       "    .dataframe tbody tr th {\n",
       "        vertical-align: top;\n",
       "    }\n",
       "\n",
       "    .dataframe thead th {\n",
       "        text-align: right;\n",
       "    }\n",
       "</style>\n",
       "<table border=\"1\" class=\"dataframe\">\n",
       "  <thead>\n",
       "    <tr style=\"text-align: right;\">\n",
       "      <th></th>\n",
       "      <th>PUFREG</th>\n",
       "      <th>PUFPRV</th>\n",
       "      <th>PUFPRRCD</th>\n",
       "      <th>PUFHHNUM</th>\n",
       "      <th>PUFURB2K10</th>\n",
       "      <th>PUFHHSIZE</th>\n",
       "      <th>PUFC01_LNO</th>\n",
       "      <th>PUFC03_REL</th>\n",
       "      <th>PUFC04_SEX</th>\n",
       "      <th>PUFC05_AGE</th>\n",
       "      <th>...</th>\n",
       "      <th>PUFC33_WEEKS</th>\n",
       "      <th>PUFC34_WYNOT</th>\n",
       "      <th>PUFC35_LTLOOKW</th>\n",
       "      <th>PUFC36_AVAIL</th>\n",
       "      <th>PUFC37_WILLING</th>\n",
       "      <th>PUFC38_PREVJOB</th>\n",
       "      <th>PUFC40_POCC</th>\n",
       "      <th>PUFC41_WQTR</th>\n",
       "      <th>PUFC43_QKB</th>\n",
       "      <th>PUFNEWEMPSTAT</th>\n",
       "    </tr>\n",
       "  </thead>\n",
       "  <tbody>\n",
       "    <tr>\n",
       "      <th>count</th>\n",
       "      <td>180862.000000</td>\n",
       "      <td>180862.000000</td>\n",
       "      <td>180862.000000</td>\n",
       "      <td>180862.000000</td>\n",
       "      <td>180862.000000</td>\n",
       "      <td>180862.000000</td>\n",
       "      <td>180862.000000</td>\n",
       "      <td>180862.000000</td>\n",
       "      <td>180862.000000</td>\n",
       "      <td>180862.000000</td>\n",
       "      <td>...</td>\n",
       "      <td>180862</td>\n",
       "      <td>180862</td>\n",
       "      <td>180862</td>\n",
       "      <td>180862</td>\n",
       "      <td>180862</td>\n",
       "      <td>180862</td>\n",
       "      <td>180862</td>\n",
       "      <td>180862</td>\n",
       "      <td>180862</td>\n",
       "      <td>180862</td>\n",
       "    </tr>\n",
       "    <tr>\n",
       "      <th>unique</th>\n",
       "      <td>NaN</td>\n",
       "      <td>NaN</td>\n",
       "      <td>NaN</td>\n",
       "      <td>NaN</td>\n",
       "      <td>NaN</td>\n",
       "      <td>NaN</td>\n",
       "      <td>NaN</td>\n",
       "      <td>NaN</td>\n",
       "      <td>NaN</td>\n",
       "      <td>NaN</td>\n",
       "      <td>...</td>\n",
       "      <td>36</td>\n",
       "      <td>10</td>\n",
       "      <td>4</td>\n",
       "      <td>3</td>\n",
       "      <td>3</td>\n",
       "      <td>3</td>\n",
       "      <td>44</td>\n",
       "      <td>3</td>\n",
       "      <td>89</td>\n",
       "      <td>4</td>\n",
       "    </tr>\n",
       "    <tr>\n",
       "      <th>top</th>\n",
       "      <td>NaN</td>\n",
       "      <td>NaN</td>\n",
       "      <td>NaN</td>\n",
       "      <td>NaN</td>\n",
       "      <td>NaN</td>\n",
       "      <td>NaN</td>\n",
       "      <td>NaN</td>\n",
       "      <td>NaN</td>\n",
       "      <td>NaN</td>\n",
       "      <td>NaN</td>\n",
       "      <td>...</td>\n",
       "      <td></td>\n",
       "      <td></td>\n",
       "      <td></td>\n",
       "      <td></td>\n",
       "      <td></td>\n",
       "      <td></td>\n",
       "      <td></td>\n",
       "      <td></td>\n",
       "      <td></td>\n",
       "      <td>1</td>\n",
       "    </tr>\n",
       "    <tr>\n",
       "      <th>freq</th>\n",
       "      <td>NaN</td>\n",
       "      <td>NaN</td>\n",
       "      <td>NaN</td>\n",
       "      <td>NaN</td>\n",
       "      <td>NaN</td>\n",
       "      <td>NaN</td>\n",
       "      <td>NaN</td>\n",
       "      <td>NaN</td>\n",
       "      <td>NaN</td>\n",
       "      <td>NaN</td>\n",
       "      <td>...</td>\n",
       "      <td>178569</td>\n",
       "      <td>134985</td>\n",
       "      <td>179269</td>\n",
       "      <td>174893</td>\n",
       "      <td>174893</td>\n",
       "      <td>132692</td>\n",
       "      <td>152982</td>\n",
       "      <td>81627</td>\n",
       "      <td>107825</td>\n",
       "      <td>71355</td>\n",
       "    </tr>\n",
       "    <tr>\n",
       "      <th>mean</th>\n",
       "      <td>9.398801</td>\n",
       "      <td>45.825309</td>\n",
       "      <td>4585.055324</td>\n",
       "      <td>20528.231873</td>\n",
       "      <td>1.574947</td>\n",
       "      <td>5.504783</td>\n",
       "      <td>3.252391</td>\n",
       "      <td>2.931489</td>\n",
       "      <td>1.493874</td>\n",
       "      <td>27.889772</td>\n",
       "      <td>...</td>\n",
       "      <td>NaN</td>\n",
       "      <td>NaN</td>\n",
       "      <td>NaN</td>\n",
       "      <td>NaN</td>\n",
       "      <td>NaN</td>\n",
       "      <td>NaN</td>\n",
       "      <td>NaN</td>\n",
       "      <td>NaN</td>\n",
       "      <td>NaN</td>\n",
       "      <td>NaN</td>\n",
       "    </tr>\n",
       "    <tr>\n",
       "      <th>std</th>\n",
       "      <td>4.667034</td>\n",
       "      <td>24.939767</td>\n",
       "      <td>2494.028733</td>\n",
       "      <td>11827.708144</td>\n",
       "      <td>0.494352</td>\n",
       "      <td>2.370169</td>\n",
       "      <td>2.077130</td>\n",
       "      <td>1.832299</td>\n",
       "      <td>0.499964</td>\n",
       "      <td>20.052132</td>\n",
       "      <td>...</td>\n",
       "      <td>NaN</td>\n",
       "      <td>NaN</td>\n",
       "      <td>NaN</td>\n",
       "      <td>NaN</td>\n",
       "      <td>NaN</td>\n",
       "      <td>NaN</td>\n",
       "      <td>NaN</td>\n",
       "      <td>NaN</td>\n",
       "      <td>NaN</td>\n",
       "      <td>NaN</td>\n",
       "    </tr>\n",
       "    <tr>\n",
       "      <th>min</th>\n",
       "      <td>1.000000</td>\n",
       "      <td>1.000000</td>\n",
       "      <td>100.000000</td>\n",
       "      <td>1.000000</td>\n",
       "      <td>1.000000</td>\n",
       "      <td>1.000000</td>\n",
       "      <td>1.000000</td>\n",
       "      <td>1.000000</td>\n",
       "      <td>1.000000</td>\n",
       "      <td>0.000000</td>\n",
       "      <td>...</td>\n",
       "      <td>NaN</td>\n",
       "      <td>NaN</td>\n",
       "      <td>NaN</td>\n",
       "      <td>NaN</td>\n",
       "      <td>NaN</td>\n",
       "      <td>NaN</td>\n",
       "      <td>NaN</td>\n",
       "      <td>NaN</td>\n",
       "      <td>NaN</td>\n",
       "      <td>NaN</td>\n",
       "    </tr>\n",
       "    <tr>\n",
       "      <th>25%</th>\n",
       "      <td>5.000000</td>\n",
       "      <td>24.000000</td>\n",
       "      <td>2402.000000</td>\n",
       "      <td>10256.250000</td>\n",
       "      <td>1.000000</td>\n",
       "      <td>4.000000</td>\n",
       "      <td>2.000000</td>\n",
       "      <td>2.000000</td>\n",
       "      <td>1.000000</td>\n",
       "      <td>11.000000</td>\n",
       "      <td>...</td>\n",
       "      <td>NaN</td>\n",
       "      <td>NaN</td>\n",
       "      <td>NaN</td>\n",
       "      <td>NaN</td>\n",
       "      <td>NaN</td>\n",
       "      <td>NaN</td>\n",
       "      <td>NaN</td>\n",
       "      <td>NaN</td>\n",
       "      <td>NaN</td>\n",
       "      <td>NaN</td>\n",
       "    </tr>\n",
       "    <tr>\n",
       "      <th>50%</th>\n",
       "      <td>10.000000</td>\n",
       "      <td>46.000000</td>\n",
       "      <td>4600.000000</td>\n",
       "      <td>20406.000000</td>\n",
       "      <td>2.000000</td>\n",
       "      <td>5.000000</td>\n",
       "      <td>3.000000</td>\n",
       "      <td>3.000000</td>\n",
       "      <td>1.000000</td>\n",
       "      <td>24.000000</td>\n",
       "      <td>...</td>\n",
       "      <td>NaN</td>\n",
       "      <td>NaN</td>\n",
       "      <td>NaN</td>\n",
       "      <td>NaN</td>\n",
       "      <td>NaN</td>\n",
       "      <td>NaN</td>\n",
       "      <td>NaN</td>\n",
       "      <td>NaN</td>\n",
       "      <td>NaN</td>\n",
       "      <td>NaN</td>\n",
       "    </tr>\n",
       "    <tr>\n",
       "      <th>75%</th>\n",
       "      <td>13.000000</td>\n",
       "      <td>71.000000</td>\n",
       "      <td>7100.000000</td>\n",
       "      <td>30962.000000</td>\n",
       "      <td>2.000000</td>\n",
       "      <td>7.000000</td>\n",
       "      <td>4.000000</td>\n",
       "      <td>3.000000</td>\n",
       "      <td>2.000000</td>\n",
       "      <td>42.000000</td>\n",
       "      <td>...</td>\n",
       "      <td>NaN</td>\n",
       "      <td>NaN</td>\n",
       "      <td>NaN</td>\n",
       "      <td>NaN</td>\n",
       "      <td>NaN</td>\n",
       "      <td>NaN</td>\n",
       "      <td>NaN</td>\n",
       "      <td>NaN</td>\n",
       "      <td>NaN</td>\n",
       "      <td>NaN</td>\n",
       "    </tr>\n",
       "    <tr>\n",
       "      <th>max</th>\n",
       "      <td>17.000000</td>\n",
       "      <td>98.000000</td>\n",
       "      <td>9804.000000</td>\n",
       "      <td>40880.000000</td>\n",
       "      <td>2.000000</td>\n",
       "      <td>23.000000</td>\n",
       "      <td>23.000000</td>\n",
       "      <td>11.000000</td>\n",
       "      <td>2.000000</td>\n",
       "      <td>99.000000</td>\n",
       "      <td>...</td>\n",
       "      <td>NaN</td>\n",
       "      <td>NaN</td>\n",
       "      <td>NaN</td>\n",
       "      <td>NaN</td>\n",
       "      <td>NaN</td>\n",
       "      <td>NaN</td>\n",
       "      <td>NaN</td>\n",
       "      <td>NaN</td>\n",
       "      <td>NaN</td>\n",
       "      <td>NaN</td>\n",
       "    </tr>\n",
       "  </tbody>\n",
       "</table>\n",
       "<p>11 rows × 45 columns</p>\n",
       "</div>"
      ],
      "text/plain": [
       "               PUFREG         PUFPRV       PUFPRRCD       PUFHHNUM  \\\n",
       "count   180862.000000  180862.000000  180862.000000  180862.000000   \n",
       "unique            NaN            NaN            NaN            NaN   \n",
       "top               NaN            NaN            NaN            NaN   \n",
       "freq              NaN            NaN            NaN            NaN   \n",
       "mean         9.398801      45.825309    4585.055324   20528.231873   \n",
       "std          4.667034      24.939767    2494.028733   11827.708144   \n",
       "min          1.000000       1.000000     100.000000       1.000000   \n",
       "25%          5.000000      24.000000    2402.000000   10256.250000   \n",
       "50%         10.000000      46.000000    4600.000000   20406.000000   \n",
       "75%         13.000000      71.000000    7100.000000   30962.000000   \n",
       "max         17.000000      98.000000    9804.000000   40880.000000   \n",
       "\n",
       "           PUFURB2K10      PUFHHSIZE     PUFC01_LNO     PUFC03_REL  \\\n",
       "count   180862.000000  180862.000000  180862.000000  180862.000000   \n",
       "unique            NaN            NaN            NaN            NaN   \n",
       "top               NaN            NaN            NaN            NaN   \n",
       "freq              NaN            NaN            NaN            NaN   \n",
       "mean         1.574947       5.504783       3.252391       2.931489   \n",
       "std          0.494352       2.370169       2.077130       1.832299   \n",
       "min          1.000000       1.000000       1.000000       1.000000   \n",
       "25%          1.000000       4.000000       2.000000       2.000000   \n",
       "50%          2.000000       5.000000       3.000000       3.000000   \n",
       "75%          2.000000       7.000000       4.000000       3.000000   \n",
       "max          2.000000      23.000000      23.000000      11.000000   \n",
       "\n",
       "           PUFC04_SEX     PUFC05_AGE  ... PUFC33_WEEKS PUFC34_WYNOT  \\\n",
       "count   180862.000000  180862.000000  ...       180862       180862   \n",
       "unique            NaN            NaN  ...           36           10   \n",
       "top               NaN            NaN  ...                             \n",
       "freq              NaN            NaN  ...       178569       134985   \n",
       "mean         1.493874      27.889772  ...          NaN          NaN   \n",
       "std          0.499964      20.052132  ...          NaN          NaN   \n",
       "min          1.000000       0.000000  ...          NaN          NaN   \n",
       "25%          1.000000      11.000000  ...          NaN          NaN   \n",
       "50%          1.000000      24.000000  ...          NaN          NaN   \n",
       "75%          2.000000      42.000000  ...          NaN          NaN   \n",
       "max          2.000000      99.000000  ...          NaN          NaN   \n",
       "\n",
       "       PUFC35_LTLOOKW PUFC36_AVAIL PUFC37_WILLING PUFC38_PREVJOB PUFC40_POCC  \\\n",
       "count          180862       180862         180862         180862      180862   \n",
       "unique              4            3              3              3          44   \n",
       "top                                                                            \n",
       "freq           179269       174893         174893         132692      152982   \n",
       "mean              NaN          NaN            NaN            NaN         NaN   \n",
       "std               NaN          NaN            NaN            NaN         NaN   \n",
       "min               NaN          NaN            NaN            NaN         NaN   \n",
       "25%               NaN          NaN            NaN            NaN         NaN   \n",
       "50%               NaN          NaN            NaN            NaN         NaN   \n",
       "75%               NaN          NaN            NaN            NaN         NaN   \n",
       "max               NaN          NaN            NaN            NaN         NaN   \n",
       "\n",
       "       PUFC41_WQTR PUFC43_QKB PUFNEWEMPSTAT  \n",
       "count       180862     180862        180862  \n",
       "unique           3         89             4  \n",
       "top                                       1  \n",
       "freq         81627     107825         71355  \n",
       "mean           NaN        NaN           NaN  \n",
       "std            NaN        NaN           NaN  \n",
       "min            NaN        NaN           NaN  \n",
       "25%            NaN        NaN           NaN  \n",
       "50%            NaN        NaN           NaN  \n",
       "75%            NaN        NaN           NaN  \n",
       "max            NaN        NaN           NaN  \n",
       "\n",
       "[11 rows x 45 columns]"
      ]
     },
     "execution_count": 11,
     "metadata": {},
     "output_type": "execute_result"
    }
   ],
   "source": [
    "\n",
    "df_copy.describe(include='all')\n"
   ]
  },
  {
   "cell_type": "markdown",
   "metadata": {},
   "source": [
    "Based on the data above, we can identify key features that should be examined for outliers. This process aims to ensure data quality, improve model performance, and enhance the reliability of insights derived from the analysis. "
   ]
  },
  {
   "cell_type": "markdown",
   "metadata": {},
   "source": [
    "### Relevant Features To Check for Outliers\n",
    "\n",
    "| Feature Code     | Description                                                                     | Reason to Check For Outliers       |\n",
    "|------------------|---------------------------------------------------------------------------------|-----------------------------------|\n",
    "| `PUFC05_AGE`     | Age of the person since last birthday.                                          | Ages  0 or above 100 are unrealistic. |\n",
    "| `PUFC18_PNWHRS`  | Normal working hours per day.                                                   | Excessively high hours  |\n",
    "| `PUFC19_PHOURS`  | Total number of hours worked during the past week.                             | Hours above 80 per week are likely unrealistic. |\n",
    "| `PUFC27_NJOBS`   | Number of jobs the person had during the past week.                            | High numbers of jobs may indicate errors. |\n",
    "| `PUFC25_PBASIC`  | Basic pay per day for primary occupation.                                       | Extremely high or low pay may indicate data entry errors. |\n",
    "| `PUFC28_THOURS`  | Total number of hours worked for all jobs during the past week.                | Hours above 80 per week are likely unrealistic. |\n"
   ]
  },
  {
   "cell_type": "code",
   "execution_count": 12,
   "metadata": {},
   "outputs": [
    {
     "data": {
      "text/plain": [
       "<Figure size 2000x1500 with 0 Axes>"
      ]
     },
     "metadata": {},
     "output_type": "display_data"
    },
    {
     "data": {
      "image/png": "[encoded data removed]",
      "text/plain": [
       "<Figure size 2000x1500 with 1 Axes>"
      ]
     },
     "metadata": {},
     "output_type": "display_data"
    }
   ],
   "source": [
    "\n",
    "\n",
    "# List of relevant features to check for outliers\n",
    "relevant_features = [\n",
    "    'PUFC05_AGE', 'PUFC18_PNWHRS', 'PUFC19_PHOURS',\n",
    "    'PUFC27_NJOBS', 'PUFC25_PBASIC', 'PUFC28_THOURS'\n",
    "]\n",
    "\n",
    "# Convert all relevant features to numeric (forcing non-numeric values to NaN)\n",
    "#df_copy[relevant_features] = df_copy[relevant_features].apply(pd.to_numeric, errors='coerce')\n",
    "\n",
    "# Plot histograms for all relevant features\n",
    "plt.figure(figsize=(20, 15))\n",
    "df_copy[relevant_features].hist(bins=30, figsize=(20, 15))\n",
    "plt.suptitle('Distribution of Relevant Features (Histograms)')\n",
    "plt.show()\n",
    "\n"
   ]
  },
  {
   "cell_type": "markdown",
   "metadata": {},
   "source": [
    "Based from the Histogram, several potential issues and outliers that need to be addressed for better model performance"
   ]
  },
  {
   "cell_type": "markdown",
   "metadata": {},
   "source": [
    "#### 1. PUFC05_AGE  \n",
    "- **Distribution:** Right-skewed, with a high frequency of younger individuals.  \n",
    "- **Potential Outliers:**  \n",
    "    - Age 0: Possibly incorrect or missing data.  \n",
    "    - Very high ages (>80): Not necessarily outliers but may be rare cases.  \n",
    "- **Solution:** \n",
    "    - Include only ages above 18, since its the legal working age "
   ]
  },
  {
   "cell_type": "code",
   "execution_count": 13,
   "metadata": {},
   "outputs": [
    {
     "name": "stdout",
     "output_type": "stream",
     "text": [
      "Number of rows with Age < 18 before removal: 69147\n",
      "Number of rows with Age < 18 after removal: 0\n"
     ]
    }
   ],
   "source": [
    "#  before removal\n",
    "invalid_age_count = df_copy[df_copy['PUFC05_AGE'] < 18].shape[0]\n",
    "print(f\"Number of rows with Age < 18 before removal: {invalid_age_count}\")\n",
    "\n",
    "# Remove rows where PUFC05_AGE is below legal working age (18)\n",
    "df_copy = df_copy[df_copy['PUFC05_AGE'] >= 18]\n",
    "\n",
    "#  after removal\n",
    "invalid_age_count_after = df_copy[df_copy['PUFC05_AGE'] < 18].shape[0]\n",
    "print(f\"Number of rows with Age < 18 after removal: {invalid_age_count_after}\")\n"
   ]
  },
  {
   "cell_type": "code",
   "execution_count": 14,
   "metadata": {},
   "outputs": [
    {
     "data": {
      "image/png": "[encoded data removed]",
      "text/plain": [
       "<Figure size 2000x200 with 2 Axes>"
      ]
     },
     "metadata": {},
     "output_type": "display_data"
    }
   ],
   "source": [
    "# Plot before and after histograms\n",
    "plt.figure(figsize=(20, 2))\n",
    "\n",
    "# Plot Before Removal\n",
    "plt.subplot(1, 2, 1)\n",
    "sns.histplot(df['PUFC05_AGE'], bins=30, kde=True)\n",
    "plt.title('PUFC05_AGE Distribution (Before Removal)')\n",
    "plt.xlabel('Age')\n",
    "plt.ylabel('Frequency')\n",
    "\n",
    "# Plot After Removal\n",
    "plt.subplot(1, 2, 2)\n",
    "sns.histplot(df_copy['PUFC05_AGE'], bins=30, kde=True)\n",
    "plt.title('PUFC05_AGE Distribution (After Removal)')\n",
    "plt.xlabel('Age')\n",
    "plt.ylabel('Frequency')\n",
    "\n",
    "plt.tight_layout()\n",
    "plt.show()\n"
   ]
  },
  {
   "cell_type": "markdown",
   "metadata": {},
   "source": [
    "#### 2. PUFC25_PBASIC\n",
    "- **Distribution:** Extremely skewed, with a large concentration of data near 0\n",
    "- **Potential Outliers:**  \n",
    "    - Very high values above 30,000 are likely erroneous.\n",
    "- **Solution:** \n",
    "    - capping and log transformation"
   ]
  },
  {
   "cell_type": "code",
   "execution_count": 15,
   "metadata": {},
   "outputs": [
    {
     "name": "stdout",
     "output_type": "stream",
     "text": [
      "Capping 'PUFC25_PBASIC' values above: 1818.0\n",
      "Maximum value of 'PUFC25_PBASIC' after capping: 1818.0\n"
     ]
    }
   ],
   "source": [
    "# Convert the column to numeric, coercing errors to NaN\n",
    "df_copy['PUFC25_PBASIC'] = pd.to_numeric(df_copy['PUFC25_PBASIC'], errors='coerce')\n",
    "\n",
    "# Now compute the 99th percentile cap\n",
    "cap_value = df_copy['PUFC25_PBASIC'].quantile(0.99)\n",
    "print(f\"Capping 'PUFC25_PBASIC' values above: {cap_value}\")\n",
    "\n",
    "# Cap values above 99th percentile\n",
    "df_copy['PUFC25_PBASIC'] = np.where(df_copy['PUFC25_PBASIC'] > cap_value, cap_value, df_copy['PUFC25_PBASIC'])\n",
    "\n",
    "# Check max value after capping\n",
    "print(f\"Maximum value of 'PUFC25_PBASIC' after capping: {df_copy['PUFC25_PBASIC'].max()}\")\n"
   ]
  },
  {
   "cell_type": "code",
   "execution_count": 16,
   "metadata": {},
   "outputs": [
    {
     "data": {
      "image/png": "[encoded data removed]",
      "text/plain": [
       "<Figure size 2000x200 with 2 Axes>"
      ]
     },
     "metadata": {},
     "output_type": "display_data"
    }
   ],
   "source": [
    "plt.figure(figsize=(20, 2))\n",
    "\n",
    "# Plot Before Capping\n",
    "plt.subplot(1, 2, 1)\n",
    "sns.histplot(df['PUFC25_PBASIC'], bins=30, kde=True)\n",
    "plt.title('PUFC25_PBASIC Distribution (Before Capping)')\n",
    "plt.xlabel('Basic Pay Per Day')\n",
    "plt.ylabel('Frequency')\n",
    "\n",
    "# Plot After Capping\n",
    "plt.subplot(1, 2, 2)\n",
    "sns.histplot(df_copy['PUFC25_PBASIC'], bins=30, kde=True)\n",
    "plt.title('PUFC25_PBASIC Distribution (After Capping)')\n",
    "plt.xlabel('Basic Pay Per Day')\n",
    "plt.ylabel('Frequency')\n",
    "\n",
    "plt.tight_layout()\n",
    "plt.show()"
   ]
  },
  {
   "cell_type": "markdown",
   "metadata": {},
   "source": [
    "#### 3. PUFC19_PHOURS\n",
    "- **Distribution:** Peaks around 40 which is the standard work per week\n",
    "- **Potential Outliers:**  \n",
    "    - Values exceeding 100 may be considered unusual or inconsistent with typical work patterns.\n",
    "- **Solution:** \n",
    "    - capping and log transformation"
   ]
  },
  {
   "cell_type": "code",
   "execution_count": 17,
   "metadata": {},
   "outputs": [
    {
     "name": "stdout",
     "output_type": "stream",
     "text": [
      "Capping threshold (99th percentile): 91.0\n",
      "Maximum value of 'PUFC19_PHOURS' after capping: 100.0\n"
     ]
    }
   ],
   "source": [
    "\n",
    "# Convert the column to numeric and coerce invalid values to NaN\n",
    "df_copy['PUFC19_PHOURS'] = pd.to_numeric(df_copy['PUFC19_PHOURS'], errors='coerce')\n",
    "\n",
    "cap_value = df_copy['PUFC19_PHOURS'].quantile(0.99)\n",
    "print(f\"Capping threshold (99th percentile): {cap_value}\")\n",
    "\n",
    "# cap\n",
    "df_copy['PUFC19_PHOURS'] = np.where(df_copy['PUFC19_PHOURS'] > 100, 100, df_copy['PUFC19_PHOURS'])\n",
    "\n",
    "# display the maximum value after capping\n",
    "print(f\"Maximum value of 'PUFC19_PHOURS' after capping: {df_copy['PUFC19_PHOURS'].max()}\")\n"
   ]
  },
  {
   "cell_type": "code",
   "execution_count": 18,
   "metadata": {},
   "outputs": [
    {
     "data": {
      "image/png": "[encoded data removed]",
      "text/plain": [
       "<Figure size 2000x200 with 2 Axes>"
      ]
     },
     "metadata": {},
     "output_type": "display_data"
    }
   ],
   "source": [
    "plt.figure(figsize=(20, 2))\n",
    "\n",
    "# Plot Before Capping\n",
    "plt.subplot(1, 2, 1)\n",
    "sns.histplot(df['PUFC19_PHOURS'], bins=30, kde=True)\n",
    "plt.title('PUFC19_PHOURS Distribution (Before Capping)')\n",
    "plt.xlabel('Total Hours Worked Per Week')\n",
    "plt.ylabel('Frequency')\n",
    "\n",
    "# Plot After Capping\n",
    "plt.subplot(1, 2, 2)\n",
    "sns.histplot(df_copy['PUFC19_PHOURS'], bins=30, kde=True)\n",
    "plt.title('PUFC19_PHOURS Distribution (After Capping)')\n",
    "plt.xlabel('Total Hours Worked Per Week')\n",
    "plt.ylabel('Frequency')\n",
    "\n",
    "plt.tight_layout()\n",
    "plt.show()"
   ]
  },
  {
   "cell_type": "markdown",
   "metadata": {},
   "source": [
    "### Handling NaNs"
   ]
  },
  {
   "cell_type": "markdown",
   "metadata": {},
   "source": [
    "Since we have previously used `to_numeric(errors='coerce')` for the histogram earlier, this will introduce NaN values. To check if there are any, we refer to this code below"
   ]
  },
  {
   "cell_type": "code",
   "execution_count": 19,
   "metadata": {},
   "outputs": [
    {
     "name": "stdout",
     "output_type": "stream",
     "text": [
      "Missing values per feature:\n",
      " PUFC19_PHOURS    42511\n",
      "PUFC25_PBASIC    76040\n",
      "dtype: int64\n"
     ]
    }
   ],
   "source": [
    "# Check for NaN in the dataset\n",
    "missing_values = df_copy.isna().sum()\n",
    "missing_values = missing_values[missing_values > 0]\n",
    "print(\"Missing values per feature:\\n\", missing_values)\n"
   ]
  },
  {
   "cell_type": "markdown",
   "metadata": {},
   "source": [
    "In order to fix this, we will use imputation"
   ]
  },
  {
   "cell_type": "code",
   "execution_count": 20,
   "metadata": {},
   "outputs": [
    {
     "name": "stdout",
     "output_type": "stream",
     "text": [
      "Filled missing values in 'PUFC18_PNWHRS' with median: 8.0\n",
      "Filled missing values in 'PUFC19_PHOURS' with median: 42.0\n",
      "Filled missing values in 'PUFC25_PBASIC' with median: 305.0\n",
      "Filled missing values in 'PUFC28_THOURS' with median: 48.0\n",
      "Filled missing values in 'PUFC11_WORK' with median: 1.0\n",
      "Filled missing values in 'PUFC23_PCLASS' with median: 2.0\n",
      "Filled missing values in 'PUFC27_NJOBS' with 0\n",
      "Filled missing values in 'PUFC33_WEEKS' with 0\n",
      "\n",
      "Remaining missing values after handling:\n",
      " Series([], dtype: int64)\n"
     ]
    }
   ],
   "source": [
    "# Convert and impute numeric columns\n",
    "numeric_cols = ['PUFC18_PNWHRS', 'PUFC19_PHOURS', 'PUFC25_PBASIC', 'PUFC28_THOURS', 'PUFC11_WORK', 'PUFC23_PCLASS']\n",
    "\n",
    "for col in numeric_cols:\n",
    "    # Convert to numeric (invalid entries like spaces become NaN)\n",
    "    df_copy[col] = pd.to_numeric(df_copy[col], errors='coerce')\n",
    "    \n",
    "    # Impute NaNs with median\n",
    "    median_val = df_copy[col].median()\n",
    "    df_copy[col] = df_copy[col].fillna(median_val)\n",
    "    print(f\"Filled missing values in '{col}' with median: {median_val}\")\n",
    "\n",
    "# Impute specific event-based columns with 0 (e.g., no other jobs, no weeks looking for work)\n",
    "event_based_cols = ['PUFC27_NJOBS', 'PUFC33_WEEKS']\n",
    "for col in event_based_cols:\n",
    "    df_copy[col] = pd.to_numeric(df_copy[col], errors='coerce').fillna(0)\n",
    "    print(f\"Filled missing values in '{col}' with 0\")\n",
    "\n",
    "# Final check: Show any remaining missing values\n",
    "missing_values_after = df_copy.isna().sum()\n",
    "missing_values_after = missing_values_after[missing_values_after > 0]\n",
    "\n",
    "print(\"\\nRemaining missing values after handling:\\n\", missing_values_after)\n"
   ]
  },
  {
   "cell_type": "markdown",
   "metadata": {},
   "source": [
    "Lastly, lets save the df_copy dataset into a new csv file."
   ]
  },
  {
   "cell_type": "code",
   "execution_count": 21,
   "metadata": {},
   "outputs": [],
   "source": [
    "df_copy.to_csv('dataset/LFS_cleaned.csv', index=False)"
   ]
  },
  {
   "cell_type": "markdown",
   "metadata": {},
   "source": [
    "## Section 5. Exploratory data analysis"
   ]
  },
  {
   "cell_type": "markdown",
   "metadata": {},
   "source": [
    "Exploratory Data Analysis (EDA) is a crucial because it will help us understand the distribution, relationships, and patterns in the dataset before applying any machine learning techniques. In this section, we explore key variables from the LFS 2016 dataset to identify trends that could help us build a predictive model for employment status."
   ]
  },
  {
   "cell_type": "markdown",
   "metadata": {},
   "source": [
    "### Load Cleaned Dataset"
   ]
  },
  {
   "cell_type": "markdown",
   "metadata": {},
   "source": [
    "The cleaned dataset (LFS_cleaned.csv) was loaded after cleaning the dataset. Ensuring a clean, consistent dataset is crucial for avoiding errors during model training, improving the quality of feature inputs, and preventing noise and overfitting."
   ]
  },
  {
   "cell_type": "code",
   "execution_count": 22,
   "metadata": {},
   "outputs": [
    {
     "data": {
      "text/html": [
       "<div>\n",
       "<style scoped>\n",
       "    .dataframe tbody tr th:only-of-type {\n",
       "        vertical-align: middle;\n",
       "    }\n",
       "\n",
       "    .dataframe tbody tr th {\n",
       "        vertical-align: top;\n",
       "    }\n",
       "\n",
       "    .dataframe thead th {\n",
       "        text-align: right;\n",
       "    }\n",
       "</style>\n",
       "<table border=\"1\" class=\"dataframe\">\n",
       "  <thead>\n",
       "    <tr style=\"text-align: right;\">\n",
       "      <th></th>\n",
       "      <th>PUFREG</th>\n",
       "      <th>PUFPRV</th>\n",
       "      <th>PUFPRRCD</th>\n",
       "      <th>PUFHHNUM</th>\n",
       "      <th>PUFURB2K10</th>\n",
       "      <th>PUFHHSIZE</th>\n",
       "      <th>PUFC01_LNO</th>\n",
       "      <th>PUFC03_REL</th>\n",
       "      <th>PUFC04_SEX</th>\n",
       "      <th>PUFC05_AGE</th>\n",
       "      <th>...</th>\n",
       "      <th>PUFC33_WEEKS</th>\n",
       "      <th>PUFC34_WYNOT</th>\n",
       "      <th>PUFC35_LTLOOKW</th>\n",
       "      <th>PUFC36_AVAIL</th>\n",
       "      <th>PUFC37_WILLING</th>\n",
       "      <th>PUFC38_PREVJOB</th>\n",
       "      <th>PUFC40_POCC</th>\n",
       "      <th>PUFC41_WQTR</th>\n",
       "      <th>PUFC43_QKB</th>\n",
       "      <th>PUFNEWEMPSTAT</th>\n",
       "    </tr>\n",
       "  </thead>\n",
       "  <tbody>\n",
       "    <tr>\n",
       "      <th>0</th>\n",
       "      <td>1</td>\n",
       "      <td>28</td>\n",
       "      <td>2800</td>\n",
       "      <td>1</td>\n",
       "      <td>2</td>\n",
       "      <td>3</td>\n",
       "      <td>1</td>\n",
       "      <td>1</td>\n",
       "      <td>1</td>\n",
       "      <td>49</td>\n",
       "      <td>...</td>\n",
       "      <td>0.0</td>\n",
       "      <td></td>\n",
       "      <td></td>\n",
       "      <td></td>\n",
       "      <td></td>\n",
       "      <td></td>\n",
       "      <td></td>\n",
       "      <td>1</td>\n",
       "      <td>01</td>\n",
       "      <td>1</td>\n",
       "    </tr>\n",
       "    <tr>\n",
       "      <th>1</th>\n",
       "      <td>1</td>\n",
       "      <td>28</td>\n",
       "      <td>2800</td>\n",
       "      <td>1</td>\n",
       "      <td>2</td>\n",
       "      <td>3</td>\n",
       "      <td>2</td>\n",
       "      <td>2</td>\n",
       "      <td>2</td>\n",
       "      <td>61</td>\n",
       "      <td>...</td>\n",
       "      <td>0.0</td>\n",
       "      <td></td>\n",
       "      <td></td>\n",
       "      <td></td>\n",
       "      <td></td>\n",
       "      <td></td>\n",
       "      <td></td>\n",
       "      <td>1</td>\n",
       "      <td>01</td>\n",
       "      <td>1</td>\n",
       "    </tr>\n",
       "    <tr>\n",
       "      <th>2</th>\n",
       "      <td>1</td>\n",
       "      <td>28</td>\n",
       "      <td>2800</td>\n",
       "      <td>1</td>\n",
       "      <td>2</td>\n",
       "      <td>3</td>\n",
       "      <td>3</td>\n",
       "      <td>3</td>\n",
       "      <td>1</td>\n",
       "      <td>19</td>\n",
       "      <td>...</td>\n",
       "      <td>0.0</td>\n",
       "      <td></td>\n",
       "      <td></td>\n",
       "      <td></td>\n",
       "      <td></td>\n",
       "      <td></td>\n",
       "      <td></td>\n",
       "      <td>1</td>\n",
       "      <td>01</td>\n",
       "      <td>1</td>\n",
       "    </tr>\n",
       "    <tr>\n",
       "      <th>3</th>\n",
       "      <td>1</td>\n",
       "      <td>28</td>\n",
       "      <td>2800</td>\n",
       "      <td>2</td>\n",
       "      <td>2</td>\n",
       "      <td>4</td>\n",
       "      <td>1</td>\n",
       "      <td>1</td>\n",
       "      <td>1</td>\n",
       "      <td>48</td>\n",
       "      <td>...</td>\n",
       "      <td>0.0</td>\n",
       "      <td></td>\n",
       "      <td></td>\n",
       "      <td></td>\n",
       "      <td></td>\n",
       "      <td></td>\n",
       "      <td></td>\n",
       "      <td>1</td>\n",
       "      <td>01</td>\n",
       "      <td>1</td>\n",
       "    </tr>\n",
       "    <tr>\n",
       "      <th>4</th>\n",
       "      <td>1</td>\n",
       "      <td>28</td>\n",
       "      <td>2800</td>\n",
       "      <td>2</td>\n",
       "      <td>2</td>\n",
       "      <td>4</td>\n",
       "      <td>2</td>\n",
       "      <td>2</td>\n",
       "      <td>2</td>\n",
       "      <td>41</td>\n",
       "      <td>...</td>\n",
       "      <td>0.0</td>\n",
       "      <td></td>\n",
       "      <td></td>\n",
       "      <td></td>\n",
       "      <td></td>\n",
       "      <td></td>\n",
       "      <td></td>\n",
       "      <td>1</td>\n",
       "      <td>96</td>\n",
       "      <td>1</td>\n",
       "    </tr>\n",
       "  </tbody>\n",
       "</table>\n",
       "<p>5 rows × 45 columns</p>\n",
       "</div>"
      ],
      "text/plain": [
       "   PUFREG  PUFPRV  PUFPRRCD  PUFHHNUM  PUFURB2K10  PUFHHSIZE  PUFC01_LNO  \\\n",
       "0       1      28      2800         1           2          3           1   \n",
       "1       1      28      2800         1           2          3           2   \n",
       "2       1      28      2800         1           2          3           3   \n",
       "3       1      28      2800         2           2          4           1   \n",
       "4       1      28      2800         2           2          4           2   \n",
       "\n",
       "   PUFC03_REL  PUFC04_SEX  PUFC05_AGE  ...  PUFC33_WEEKS  PUFC34_WYNOT  \\\n",
       "0           1           1          49  ...           0.0                 \n",
       "1           2           2          61  ...           0.0                 \n",
       "2           3           1          19  ...           0.0                 \n",
       "3           1           1          48  ...           0.0                 \n",
       "4           2           2          41  ...           0.0                 \n",
       "\n",
       "  PUFC35_LTLOOKW  PUFC36_AVAIL  PUFC37_WILLING  PUFC38_PREVJOB PUFC40_POCC  \\\n",
       "0                                                                            \n",
       "1                                                                            \n",
       "2                                                                            \n",
       "3                                                                            \n",
       "4                                                                            \n",
       "\n",
       "  PUFC41_WQTR PUFC43_QKB PUFNEWEMPSTAT  \n",
       "0           1         01             1  \n",
       "1           1         01             1  \n",
       "2           1         01             1  \n",
       "3           1         01             1  \n",
       "4           1         96             1  \n",
       "\n",
       "[5 rows x 45 columns]"
      ]
     },
     "execution_count": 22,
     "metadata": {},
     "output_type": "execute_result"
    }
   ],
   "source": [
    "df = pd.read_csv('dataset/LFS_cleaned.csv')\n",
    "df.head()"
   ]
  },
  {
   "cell_type": "markdown",
   "metadata": {},
   "source": [
    "### Target Variable Distribution"
   ]
  },
  {
   "cell_type": "markdown",
   "metadata": {},
   "source": [
    "We start by examining the distribution of the employment status, which is our classification target."
   ]
  },
  {
   "cell_type": "code",
   "execution_count": 23,
   "metadata": {},
   "outputs": [],
   "source": [
    "target_col = 'PUFNEWEMPSTAT'"
   ]
  },
  {
   "cell_type": "markdown",
   "metadata": {},
   "source": [
    "Plot distribution of target variable."
   ]
  },
  {
   "cell_type": "code",
   "execution_count": 24,
   "metadata": {},
   "outputs": [
    {
     "data": {
      "image/png": "[encoded data removed]",
      "text/plain": [
       "<Figure size 640x480 with 1 Axes>"
      ]
     },
     "metadata": {},
     "output_type": "display_data"
    }
   ],
   "source": [
    "sns.countplot(x=target_col, data=df)\n",
    "plt.title('Distribution of Employment Status')\n",
    "plt.xlabel('Employment Status')\n",
    "plt.ylabel('Count')\n",
    "plt.show()"
   ]
  },
  {
   "cell_type": "markdown",
   "metadata": {},
   "source": [
    "Print class distribution"
   ]
  },
  {
   "cell_type": "code",
   "execution_count": 25,
   "metadata": {},
   "outputs": [
    {
     "name": "stdout",
     "output_type": "stream",
     "text": [
      "PUFNEWEMPSTAT\n",
      "1    69204\n",
      "3    34854\n",
      "2     4105\n",
      "      3552\n",
      "Name: count, dtype: int64\n"
     ]
    }
   ],
   "source": [
    "print(df[target_col].value_counts())"
   ]
  },
  {
   "cell_type": "markdown",
   "metadata": {},
   "source": [
    "This will help us determine if there is any class imbalance. If a majority of individuals fall under \"Employed\" the model might learn to favor that class, which could lead to biased predictions. If the dataset is highly imbalanced, techniques like resampling (over/under-sampling) or using balanced class weights might be necessary."
   ]
  },
  {
   "cell_type": "markdown",
   "metadata": {},
   "source": [
    "### Numerical Features Summary & Distribution"
   ]
  },
  {
   "cell_type": "markdown",
   "metadata": {},
   "source": [
    "Now we examine the distribution of key numeric features relevant to labor analysis like the AGE, PNWHRS, PHOURS, PBASIC, and the THOURS."
   ]
  },
  {
   "cell_type": "code",
   "execution_count": 26,
   "metadata": {},
   "outputs": [
    {
     "data": {
      "text/html": [
       "<div>\n",
       "<style scoped>\n",
       "    .dataframe tbody tr th:only-of-type {\n",
       "        vertical-align: middle;\n",
       "    }\n",
       "\n",
       "    .dataframe tbody tr th {\n",
       "        vertical-align: top;\n",
       "    }\n",
       "\n",
       "    .dataframe thead th {\n",
       "        text-align: right;\n",
       "    }\n",
       "</style>\n",
       "<table border=\"1\" class=\"dataframe\">\n",
       "  <thead>\n",
       "    <tr style=\"text-align: right;\">\n",
       "      <th></th>\n",
       "      <th>PUFC05_AGE</th>\n",
       "      <th>PUFC18_PNWHRS</th>\n",
       "      <th>PUFC19_PHOURS</th>\n",
       "      <th>PUFC25_PBASIC</th>\n",
       "      <th>PUFC28_THOURS</th>\n",
       "    </tr>\n",
       "  </thead>\n",
       "  <tbody>\n",
       "    <tr>\n",
       "      <th>count</th>\n",
       "      <td>111715.000000</td>\n",
       "      <td>111715.000000</td>\n",
       "      <td>111715.000000</td>\n",
       "      <td>111715.000000</td>\n",
       "      <td>111715.000000</td>\n",
       "    </tr>\n",
       "    <tr>\n",
       "      <th>mean</th>\n",
       "      <td>39.839171</td>\n",
       "      <td>7.698984</td>\n",
       "      <td>41.354214</td>\n",
       "      <td>336.544215</td>\n",
       "      <td>44.334199</td>\n",
       "    </tr>\n",
       "    <tr>\n",
       "      <th>std</th>\n",
       "      <td>16.171069</td>\n",
       "      <td>1.963912</td>\n",
       "      <td>15.222118</td>\n",
       "      <td>179.974313</td>\n",
       "      <td>15.360874</td>\n",
       "    </tr>\n",
       "    <tr>\n",
       "      <th>min</th>\n",
       "      <td>18.000000</td>\n",
       "      <td>1.000000</td>\n",
       "      <td>0.000000</td>\n",
       "      <td>10.000000</td>\n",
       "      <td>0.000000</td>\n",
       "    </tr>\n",
       "    <tr>\n",
       "      <th>25%</th>\n",
       "      <td>26.000000</td>\n",
       "      <td>8.000000</td>\n",
       "      <td>40.000000</td>\n",
       "      <td>305.000000</td>\n",
       "      <td>40.000000</td>\n",
       "    </tr>\n",
       "    <tr>\n",
       "      <th>50%</th>\n",
       "      <td>37.000000</td>\n",
       "      <td>8.000000</td>\n",
       "      <td>42.000000</td>\n",
       "      <td>305.000000</td>\n",
       "      <td>48.000000</td>\n",
       "    </tr>\n",
       "    <tr>\n",
       "      <th>75%</th>\n",
       "      <td>51.000000</td>\n",
       "      <td>8.000000</td>\n",
       "      <td>48.000000</td>\n",
       "      <td>305.000000</td>\n",
       "      <td>48.000000</td>\n",
       "    </tr>\n",
       "    <tr>\n",
       "      <th>max</th>\n",
       "      <td>99.000000</td>\n",
       "      <td>16.000000</td>\n",
       "      <td>100.000000</td>\n",
       "      <td>1818.000000</td>\n",
       "      <td>112.000000</td>\n",
       "    </tr>\n",
       "  </tbody>\n",
       "</table>\n",
       "</div>"
      ],
      "text/plain": [
       "          PUFC05_AGE  PUFC18_PNWHRS  PUFC19_PHOURS  PUFC25_PBASIC  \\\n",
       "count  111715.000000  111715.000000  111715.000000  111715.000000   \n",
       "mean       39.839171       7.698984      41.354214     336.544215   \n",
       "std        16.171069       1.963912      15.222118     179.974313   \n",
       "min        18.000000       1.000000       0.000000      10.000000   \n",
       "25%        26.000000       8.000000      40.000000     305.000000   \n",
       "50%        37.000000       8.000000      42.000000     305.000000   \n",
       "75%        51.000000       8.000000      48.000000     305.000000   \n",
       "max        99.000000      16.000000     100.000000    1818.000000   \n",
       "\n",
       "       PUFC28_THOURS  \n",
       "count  111715.000000  \n",
       "mean       44.334199  \n",
       "std        15.360874  \n",
       "min         0.000000  \n",
       "25%        40.000000  \n",
       "50%        48.000000  \n",
       "75%        48.000000  \n",
       "max       112.000000  "
      ]
     },
     "execution_count": 26,
     "metadata": {},
     "output_type": "execute_result"
    }
   ],
   "source": [
    "numeric_cols = ['PUFC05_AGE', 'PUFC18_PNWHRS', 'PUFC19_PHOURS', 'PUFC25_PBASIC', 'PUFC28_THOURS']\n",
    "df[numeric_cols].describe()"
   ]
  },
  {
   "cell_type": "markdown",
   "metadata": {},
   "source": [
    "Histograms for numeric features"
   ]
  },
  {
   "cell_type": "code",
   "execution_count": 27,
   "metadata": {},
   "outputs": [
    {
     "data": {
      "image/png": "[encoded data removed]",
      "text/plain": [
       "<Figure size 1500x1000 with 6 Axes>"
      ]
     },
     "metadata": {},
     "output_type": "display_data"
    }
   ],
   "source": [
    "df[numeric_cols].hist(bins=30, figsize=(15, 10))\n",
    "plt.suptitle('Histograms of Numeric Features')\n",
    "plt.tight_layout()\n",
    "plt.show()"
   ]
  },
  {
   "cell_type": "markdown",
   "metadata": {},
   "source": [
    "These insights helps detect the outliers and skewed distribution that may require transformations, and identifies redundant or low-variance features that can be dropped to reduce noise. It also allows normalization or standardization if using distance-based models."
   ]
  },
  {
   "cell_type": "markdown",
   "metadata": {},
   "source": [
    "#### 1. Employment Status by Age Group"
   ]
  },
  {
   "cell_type": "markdown",
   "metadata": {},
   "source": [
    "Create age bins and labels"
   ]
  },
  {
   "cell_type": "code",
   "execution_count": 28,
   "metadata": {},
   "outputs": [],
   "source": [
    "bins = [18, 25, 35, 45, 55, 65, 100]\n",
    "labels = ['18–24', '25–34', '35–44', '45–54', '55–64', '65+']\n",
    "df['AGE_GROUP'] = pd.cut(df['PUFC05_AGE'], bins=bins, labels=labels)"
   ]
  },
  {
   "cell_type": "markdown",
   "metadata": {},
   "source": [
    "Plot the values"
   ]
  },
  {
   "cell_type": "code",
   "execution_count": 29,
   "metadata": {},
   "outputs": [
    {
     "data": {
      "image/png": "[encoded data removed]",
      "text/plain": [
       "<Figure size 1000x500 with 1 Axes>"
      ]
     },
     "metadata": {},
     "output_type": "display_data"
    }
   ],
   "source": [
    "plt.figure(figsize=(10, 5))\n",
    "sns.countplot(x='AGE_GROUP', hue='PUFNEWEMPSTAT', data=df)\n",
    "plt.title('Employment Status by Age Group')\n",
    "plt.xlabel('Age Group')\n",
    "plt.ylabel('Count')\n",
    "plt.legend(title='Status', labels=['Employed', 'Unemployed', 'Not in Labor Force'])\n",
    "plt.show()\n"
   ]
  },
  {
   "cell_type": "markdown",
   "metadata": {},
   "source": [
    "This confirms that age is a valuable predictive feature which it can help with non-linear models that capture interactions between age and other factors."
   ]
  },
  {
   "cell_type": "markdown",
   "metadata": {},
   "source": [
    "#### 2. Education Level vs Employment Status"
   ]
  },
  {
   "cell_type": "code",
   "execution_count": 30,
   "metadata": {},
   "outputs": [],
   "source": [
    "edu_col = 'PUFC07_GRADE'"
   ]
  },
  {
   "cell_type": "markdown",
   "metadata": {},
   "source": [
    "Plot the values"
   ]
  },
  {
   "cell_type": "code",
   "execution_count": 31,
   "metadata": {},
   "outputs": [
    {
     "data": {
      "image/png": "[encoded data removed]",
      "text/plain": [
       "<Figure size 1200x600 with 1 Axes>"
      ]
     },
     "metadata": {},
     "output_type": "display_data"
    }
   ],
   "source": [
    "plt.figure(figsize=(12, 6))\n",
    "sns.countplot(x=edu_col, hue=target_col, data=df, order=df[edu_col].value_counts().index)\n",
    "plt.title('Employment Status by Education Level')\n",
    "plt.xlabel('Education Level Code')\n",
    "plt.ylabel('Count')\n",
    "plt.xticks(rotation=45)\n",
    "plt.legend(title='Status')\n",
    "plt.tight_layout()\n",
    "plt.show()"
   ]
  },
  {
   "cell_type": "markdown",
   "metadata": {},
   "source": [
    "This confirms that education is a key feature for predicting employment status."
   ]
  },
  {
   "cell_type": "markdown",
   "metadata": {},
   "source": [
    "#### 3. Top Industries vs Employment Status"
   ]
  },
  {
   "cell_type": "code",
   "execution_count": 32,
   "metadata": {},
   "outputs": [],
   "source": [
    "industry_col = 'PUFC23_PCLASS'"
   ]
  },
  {
   "cell_type": "markdown",
   "metadata": {},
   "source": [
    "Get the top 10 most common industries"
   ]
  },
  {
   "cell_type": "code",
   "execution_count": 33,
   "metadata": {},
   "outputs": [
    {
     "name": "stdout",
     "output_type": "stream",
     "text": [
      "Index([2.0, 1.0, 3.0, 6.0, 0.0, 4.0, 5.0], dtype='float64', name='PUFC23_PCLASS')\n"
     ]
    }
   ],
   "source": [
    "top_industries = df[industry_col].value_counts().nlargest(10).index\n",
    "print(top_industries)"
   ]
  },
  {
   "cell_type": "markdown",
   "metadata": {},
   "source": [
    "Plot the values"
   ]
  },
  {
   "cell_type": "code",
   "execution_count": 34,
   "metadata": {},
   "outputs": [
    {
     "data": {
      "image/png": "[encoded data removed]",
      "text/plain": [
       "<Figure size 1200x600 with 1 Axes>"
      ]
     },
     "metadata": {},
     "output_type": "display_data"
    }
   ],
   "source": [
    "plt.figure(figsize=(12, 6))\n",
    "sns.countplot(\n",
    "    y=industry_col,\n",
    "    hue=target_col,\n",
    "    data=df[df[industry_col].isin(top_industries)]\n",
    ")\n",
    "plt.title('Top 10 Industries and Employment Status')\n",
    "plt.xlabel('Count')\n",
    "plt.ylabel('Industry')\n",
    "plt.legend(title='Status')\n",
    "plt.tight_layout()\n",
    "plt.show()\n"
   ]
  },
  {
   "cell_type": "markdown",
   "metadata": {},
   "source": [
    "This confirms Industry classification may be highly predictive, especially for employment type or pay and this may require one-hot encoding or frequency encoding for categorical variables."
   ]
  },
  {
   "cell_type": "markdown",
   "metadata": {},
   "source": [
    "### Correlation Heatmap of Numeric Features"
   ]
  },
  {
   "cell_type": "markdown",
   "metadata": {},
   "source": [
    "Compute correlation matrix"
   ]
  },
  {
   "cell_type": "code",
   "execution_count": 35,
   "metadata": {},
   "outputs": [],
   "source": [
    "correlation = df[numeric_cols].corr()"
   ]
  },
  {
   "cell_type": "markdown",
   "metadata": {},
   "source": [
    "Plot the values"
   ]
  },
  {
   "cell_type": "code",
   "execution_count": 36,
   "metadata": {},
   "outputs": [
    {
     "data": {
      "image/png": "[encoded data removed]",
      "text/plain": [
       "<Figure size 1000x600 with 2 Axes>"
      ]
     },
     "metadata": {},
     "output_type": "display_data"
    }
   ],
   "source": [
    "plt.figure(figsize=(10, 6))\n",
    "sns.heatmap(correlation, annot=True, cmap='coolwarm', fmt='.2f')\n",
    "plt.title('Correlation Heatmap of Numeric Features')\n",
    "plt.show()"
   ]
  },
  {
   "cell_type": "markdown",
   "metadata": {},
   "source": [
    "The heat map detects multicollinearity, which can negatively affect some models like the logistic regression. Also it helps decide whether to remove redundant features or combine them into one."
   ]
  },
  {
   "cell_type": "markdown",
   "metadata": {},
   "source": [
    "## Section 6. Initial model training"
   ]
  },
  {
   "cell_type": "markdown",
   "metadata": {},
   "source": [
    "After gaining key insights from the exploratory data analysis, we now move forward with building the actual training model."
   ]
  },
  {
   "cell_type": "markdown",
   "metadata": {},
   "source": [
    "#### 1. K-Nearest Neighbors"
   ]
  },
  {
   "cell_type": "markdown",
   "metadata": {},
   "source": [
    "K-Nearest Neighbors (KNN) is a simple yet powerful supervised machine learning algorithm used primarily for classification and regression tasks. It works by comparing a given data point to the training dataset and finding the 'k' most similar data points (neighbors) based on a distance metric."
   ]
  },
  {
   "cell_type": "markdown",
   "metadata": {},
   "source": [
    "We will first import libraries that we will use for knn"
   ]
  },
  {
   "cell_type": "code",
   "execution_count": 37,
   "metadata": {},
   "outputs": [],
   "source": [
    "from sklearn.model_selection import train_test_split\n",
    "from sklearn.neighbors import KNeighborsClassifier\n",
    "from sklearn.metrics import accuracy_score, classification_report, confusion_matrix"
   ]
  },
  {
   "cell_type": "markdown",
   "metadata": {},
   "source": [
    "After that, we will be opening the cleaned dataset"
   ]
  },
  {
   "cell_type": "code",
   "execution_count": 38,
   "metadata": {},
   "outputs": [],
   "source": [
    "\n",
    "df = pd.read_csv('dataset/LFS_cleaned.csv')\n"
   ]
  },
  {
   "cell_type": "markdown",
   "metadata": {},
   "source": [
    "This code selects a specific subset of columns from the DataFrame and then removes any rows that contain missing values in those columns, ensuring that only complete cases are retained."
   ]
  },
  {
   "cell_type": "code",
   "execution_count": 39,
   "metadata": {},
   "outputs": [],
   "source": [
    "df = df[['PUFC11_WORK', 'PUFC05_AGE', 'PUFC18_PNWHRS', 'PUFC19_PHOURS', \n",
    "         'PUFC25_PBASIC', 'PUFC28_THOURS', 'PUFC07_GRADE', 'PUFC23_PCLASS']].dropna()"
   ]
  },
  {
   "cell_type": "markdown",
   "metadata": {},
   "source": [
    "This code extracts seven feature columns from the dataframe into X and assigns the target column 'PUFC11_WORK' to y, preparing them for model training."
   ]
  },
  {
   "cell_type": "code",
   "execution_count": 40,
   "metadata": {},
   "outputs": [],
   "source": [
    "X = df[['PUFC05_AGE', 'PUFC18_PNWHRS', 'PUFC19_PHOURS', \n",
    "        'PUFC25_PBASIC', 'PUFC28_THOURS', 'PUFC07_GRADE', 'PUFC23_PCLASS']]\n",
    "y = df['PUFC11_WORK']"
   ]
  },
  {
   "cell_type": "markdown",
   "metadata": {},
   "source": [
    "This line randomly splits the features (X) and target (y) into training (80%) and test (20%) sets, ensuring reproducibility with a fixed random state of 42."
   ]
  },
  {
   "cell_type": "code",
   "execution_count": 41,
   "metadata": {},
   "outputs": [],
   "source": [
    "X_train, X_test, y_train, y_test = train_test_split(X, y, test_size=0.2, random_state=42)"
   ]
  },
  {
   "cell_type": "markdown",
   "metadata": {},
   "source": [
    "This creates an instance of a K-Nearest Neighbors classifier that will use the 5 closest data points to make predictions."
   ]
  },
  {
   "cell_type": "code",
   "execution_count": 42,
   "metadata": {},
   "outputs": [],
   "source": [
    "knn = KNeighborsClassifier(n_neighbors=5)"
   ]
  },
  {
   "cell_type": "code",
   "execution_count": 43,
   "metadata": {},
   "outputs": [
    {
     "data": {
      "text/html": [
       "<style>#sk-container-id-1 {\n",
       "  /* Definition of color scheme common for light and dark mode */\n",
       "  --sklearn-color-text: #000;\n",
       "  --sklearn-color-text-muted: #666;\n",
       "  --sklearn-color-line: gray;\n",
       "  /* Definition of color scheme for unfitted estimators */\n",
       "  --sklearn-color-unfitted-level-0: #fff5e6;\n",
       "  --sklearn-color-unfitted-level-1: #f6e4d2;\n",
       "  --sklearn-color-unfitted-level-2: #ffe0b3;\n",
       "  --sklearn-color-unfitted-level-3: chocolate;\n",
       "  /* Definition of color scheme for fitted estimators */\n",
       "  --sklearn-color-fitted-level-0: #f0f8ff;\n",
       "  --sklearn-color-fitted-level-1: #d4ebff;\n",
       "  --sklearn-color-fitted-level-2: #b3dbfd;\n",
       "  --sklearn-color-fitted-level-3: cornflowerblue;\n",
       "\n",
       "  /* Specific color for light theme */\n",
       "  --sklearn-color-text-on-default-background: var(--sg-text-color, var(--theme-code-foreground, var(--jp-content-font-color1, black)));\n",
       "  --sklearn-color-background: var(--sg-background-color, var(--theme-background, var(--jp-layout-color0, white)));\n",
       "  --sklearn-color-border-box: var(--sg-text-color, var(--theme-code-foreground, var(--jp-content-font-color1, black)));\n",
       "  --sklearn-color-icon: #696969;\n",
       "\n",
       "  @media (prefers-color-scheme: dark) {\n",
       "    /* Redefinition of color scheme for dark theme */\n",
       "    --sklearn-color-text-on-default-background: var(--sg-text-color, var(--theme-code-foreground, var(--jp-content-font-color1, white)));\n",
       "    --sklearn-color-background: var(--sg-background-color, var(--theme-background, var(--jp-layout-color0, #111)));\n",
       "    --sklearn-color-border-box: var(--sg-text-color, var(--theme-code-foreground, var(--jp-content-font-color1, white)));\n",
       "    --sklearn-color-icon: #878787;\n",
       "  }\n",
       "}\n",
       "\n",
       "#sk-container-id-1 {\n",
       "  color: var(--sklearn-color-text);\n",
       "}\n",
       "\n",
       "#sk-container-id-1 pre {\n",
       "  padding: 0;\n",
       "}\n",
       "\n",
       "#sk-container-id-1 input.sk-hidden--visually {\n",
       "  border: 0;\n",
       "  clip: rect(1px 1px 1px 1px);\n",
       "  clip: rect(1px, 1px, 1px, 1px);\n",
       "  height: 1px;\n",
       "  margin: -1px;\n",
       "  overflow: hidden;\n",
       "  padding: 0;\n",
       "  position: absolute;\n",
       "  width: 1px;\n",
       "}\n",
       "\n",
       "#sk-container-id-1 div.sk-dashed-wrapped {\n",
       "  border: 1px dashed var(--sklearn-color-line);\n",
       "  margin: 0 0.4em 0.5em 0.4em;\n",
       "  box-sizing: border-box;\n",
       "  padding-bottom: 0.4em;\n",
       "  background-color: var(--sklearn-color-background);\n",
       "}\n",
       "\n",
       "#sk-container-id-1 div.sk-container {\n",
       "  /* jupyter's `normalize.less` sets `[hidden] { display: none; }`\n",
       "     but bootstrap.min.css set `[hidden] { display: none !important; }`\n",
       "     so we also need the `!important` here to be able to override the\n",
       "     default hidden behavior on the sphinx rendered scikit-learn.org.\n",
       "     See: https://github.com/scikit-learn/scikit-learn/issues/21755 */\n",
       "  display: inline-block !important;\n",
       "  position: relative;\n",
       "}\n",
       "\n",
       "#sk-container-id-1 div.sk-text-repr-fallback {\n",
       "  display: none;\n",
       "}\n",
       "\n",
       "div.sk-parallel-item,\n",
       "div.sk-serial,\n",
       "div.sk-item {\n",
       "  /* draw centered vertical line to link estimators */\n",
       "  background-image: linear-gradient(var(--sklearn-color-text-on-default-background), var(--sklearn-color-text-on-default-background));\n",
       "  background-size: 2px 100%;\n",
       "  background-repeat: no-repeat;\n",
       "  background-position: center center;\n",
       "}\n",
       "\n",
       "/* Parallel-specific style estimator block */\n",
       "\n",
       "#sk-container-id-1 div.sk-parallel-item::after {\n",
       "  content: \"\";\n",
       "  width: 100%;\n",
       "  border-bottom: 2px solid var(--sklearn-color-text-on-default-background);\n",
       "  flex-grow: 1;\n",
       "}\n",
       "\n",
       "#sk-container-id-1 div.sk-parallel {\n",
       "  display: flex;\n",
       "  align-items: stretch;\n",
       "  justify-content: center;\n",
       "  background-color: var(--sklearn-color-background);\n",
       "  position: relative;\n",
       "}\n",
       "\n",
       "#sk-container-id-1 div.sk-parallel-item {\n",
       "  display: flex;\n",
       "  flex-direction: column;\n",
       "}\n",
       "\n",
       "#sk-container-id-1 div.sk-parallel-item:first-child::after {\n",
       "  align-self: flex-end;\n",
       "  width: 50%;\n",
       "}\n",
       "\n",
       "#sk-container-id-1 div.sk-parallel-item:last-child::after {\n",
       "  align-self: flex-start;\n",
       "  width: 50%;\n",
       "}\n",
       "\n",
       "#sk-container-id-1 div.sk-parallel-item:only-child::after {\n",
       "  width: 0;\n",
       "}\n",
       "\n",
       "/* Serial-specific style estimator block */\n",
       "\n",
       "#sk-container-id-1 div.sk-serial {\n",
       "  display: flex;\n",
       "  flex-direction: column;\n",
       "  align-items: center;\n",
       "  background-color: var(--sklearn-color-background);\n",
       "  padding-right: 1em;\n",
       "  padding-left: 1em;\n",
       "}\n",
       "\n",
       "\n",
       "/* Toggleable style: style used for estimator/Pipeline/ColumnTransformer box that is\n",
       "clickable and can be expanded/collapsed.\n",
       "- Pipeline and ColumnTransformer use this feature and define the default style\n",
       "- Estimators will overwrite some part of the style using the `sk-estimator` class\n",
       "*/\n",
       "\n",
       "/* Pipeline and ColumnTransformer style (default) */\n",
       "\n",
       "#sk-container-id-1 div.sk-toggleable {\n",
       "  /* Default theme specific background. It is overwritten whether we have a\n",
       "  specific estimator or a Pipeline/ColumnTransformer */\n",
       "  background-color: var(--sklearn-color-background);\n",
       "}\n",
       "\n",
       "/* Toggleable label */\n",
       "#sk-container-id-1 label.sk-toggleable__label {\n",
       "  cursor: pointer;\n",
       "  display: flex;\n",
       "  width: 100%;\n",
       "  margin-bottom: 0;\n",
       "  padding: 0.5em;\n",
       "  box-sizing: border-box;\n",
       "  text-align: center;\n",
       "  align-items: start;\n",
       "  justify-content: space-between;\n",
       "  gap: 0.5em;\n",
       "}\n",
       "\n",
       "#sk-container-id-1 label.sk-toggleable__label .caption {\n",
       "  font-size: 0.6rem;\n",
       "  font-weight: lighter;\n",
       "  color: var(--sklearn-color-text-muted);\n",
       "}\n",
       "\n",
       "#sk-container-id-1 label.sk-toggleable__label-arrow:before {\n",
       "  /* Arrow on the left of the label */\n",
       "  content: \"▸\";\n",
       "  float: left;\n",
       "  margin-right: 0.25em;\n",
       "  color: var(--sklearn-color-icon);\n",
       "}\n",
       "\n",
       "#sk-container-id-1 label.sk-toggleable__label-arrow:hover:before {\n",
       "  color: var(--sklearn-color-text);\n",
       "}\n",
       "\n",
       "/* Toggleable content - dropdown */\n",
       "\n",
       "#sk-container-id-1 div.sk-toggleable__content {\n",
       "  max-height: 0;\n",
       "  max-width: 0;\n",
       "  overflow: hidden;\n",
       "  text-align: left;\n",
       "  /* unfitted */\n",
       "  background-color: var(--sklearn-color-unfitted-level-0);\n",
       "}\n",
       "\n",
       "#sk-container-id-1 div.sk-toggleable__content.fitted {\n",
       "  /* fitted */\n",
       "  background-color: var(--sklearn-color-fitted-level-0);\n",
       "}\n",
       "\n",
       "#sk-container-id-1 div.sk-toggleable__content pre {\n",
       "  margin: 0.2em;\n",
       "  border-radius: 0.25em;\n",
       "  color: var(--sklearn-color-text);\n",
       "  /* unfitted */\n",
       "  background-color: var(--sklearn-color-unfitted-level-0);\n",
       "}\n",
       "\n",
       "#sk-container-id-1 div.sk-toggleable__content.fitted pre {\n",
       "  /* unfitted */\n",
       "  background-color: var(--sklearn-color-fitted-level-0);\n",
       "}\n",
       "\n",
       "#sk-container-id-1 input.sk-toggleable__control:checked~div.sk-toggleable__content {\n",
       "  /* Expand drop-down */\n",
       "  max-height: 200px;\n",
       "  max-width: 100%;\n",
       "  overflow: auto;\n",
       "}\n",
       "\n",
       "#sk-container-id-1 input.sk-toggleable__control:checked~label.sk-toggleable__label-arrow:before {\n",
       "  content: \"▾\";\n",
       "}\n",
       "\n",
       "/* Pipeline/ColumnTransformer-specific style */\n",
       "\n",
       "#sk-container-id-1 div.sk-label input.sk-toggleable__control:checked~label.sk-toggleable__label {\n",
       "  color: var(--sklearn-color-text);\n",
       "  background-color: var(--sklearn-color-unfitted-level-2);\n",
       "}\n",
       "\n",
       "#sk-container-id-1 div.sk-label.fitted input.sk-toggleable__control:checked~label.sk-toggleable__label {\n",
       "  background-color: var(--sklearn-color-fitted-level-2);\n",
       "}\n",
       "\n",
       "/* Estimator-specific style */\n",
       "\n",
       "/* Colorize estimator box */\n",
       "#sk-container-id-1 div.sk-estimator input.sk-toggleable__control:checked~label.sk-toggleable__label {\n",
       "  /* unfitted */\n",
       "  background-color: var(--sklearn-color-unfitted-level-2);\n",
       "}\n",
       "\n",
       "#sk-container-id-1 div.sk-estimator.fitted input.sk-toggleable__control:checked~label.sk-toggleable__label {\n",
       "  /* fitted */\n",
       "  background-color: var(--sklearn-color-fitted-level-2);\n",
       "}\n",
       "\n",
       "#sk-container-id-1 div.sk-label label.sk-toggleable__label,\n",
       "#sk-container-id-1 div.sk-label label {\n",
       "  /* The background is the default theme color */\n",
       "  color: var(--sklearn-color-text-on-default-background);\n",
       "}\n",
       "\n",
       "/* On hover, darken the color of the background */\n",
       "#sk-container-id-1 div.sk-label:hover label.sk-toggleable__label {\n",
       "  color: var(--sklearn-color-text);\n",
       "  background-color: var(--sklearn-color-unfitted-level-2);\n",
       "}\n",
       "\n",
       "/* Label box, darken color on hover, fitted */\n",
       "#sk-container-id-1 div.sk-label.fitted:hover label.sk-toggleable__label.fitted {\n",
       "  color: var(--sklearn-color-text);\n",
       "  background-color: var(--sklearn-color-fitted-level-2);\n",
       "}\n",
       "\n",
       "/* Estimator label */\n",
       "\n",
       "#sk-container-id-1 div.sk-label label {\n",
       "  font-family: monospace;\n",
       "  font-weight: bold;\n",
       "  display: inline-block;\n",
       "  line-height: 1.2em;\n",
       "}\n",
       "\n",
       "#sk-container-id-1 div.sk-label-container {\n",
       "  text-align: center;\n",
       "}\n",
       "\n",
       "/* Estimator-specific */\n",
       "#sk-container-id-1 div.sk-estimator {\n",
       "  font-family: monospace;\n",
       "  border: 1px dotted var(--sklearn-color-border-box);\n",
       "  border-radius: 0.25em;\n",
       "  box-sizing: border-box;\n",
       "  margin-bottom: 0.5em;\n",
       "  /* unfitted */\n",
       "  background-color: var(--sklearn-color-unfitted-level-0);\n",
       "}\n",
       "\n",
       "#sk-container-id-1 div.sk-estimator.fitted {\n",
       "  /* fitted */\n",
       "  background-color: var(--sklearn-color-fitted-level-0);\n",
       "}\n",
       "\n",
       "/* on hover */\n",
       "#sk-container-id-1 div.sk-estimator:hover {\n",
       "  /* unfitted */\n",
       "  background-color: var(--sklearn-color-unfitted-level-2);\n",
       "}\n",
       "\n",
       "#sk-container-id-1 div.sk-estimator.fitted:hover {\n",
       "  /* fitted */\n",
       "  background-color: var(--sklearn-color-fitted-level-2);\n",
       "}\n",
       "\n",
       "/* Specification for estimator info (e.g. \"i\" and \"?\") */\n",
       "\n",
       "/* Common style for \"i\" and \"?\" */\n",
       "\n",
       ".sk-estimator-doc-link,\n",
       "a:link.sk-estimator-doc-link,\n",
       "a:visited.sk-estimator-doc-link {\n",
       "  float: right;\n",
       "  font-size: smaller;\n",
       "  line-height: 1em;\n",
       "  font-family: monospace;\n",
       "  background-color: var(--sklearn-color-background);\n",
       "  border-radius: 1em;\n",
       "  height: 1em;\n",
       "  width: 1em;\n",
       "  text-decoration: none !important;\n",
       "  margin-left: 0.5em;\n",
       "  text-align: center;\n",
       "  /* unfitted */\n",
       "  border: var(--sklearn-color-unfitted-level-1) 1pt solid;\n",
       "  color: var(--sklearn-color-unfitted-level-1);\n",
       "}\n",
       "\n",
       ".sk-estimator-doc-link.fitted,\n",
       "a:link.sk-estimator-doc-link.fitted,\n",
       "a:visited.sk-estimator-doc-link.fitted {\n",
       "  /* fitted */\n",
       "  border: var(--sklearn-color-fitted-level-1) 1pt solid;\n",
       "  color: var(--sklearn-color-fitted-level-1);\n",
       "}\n",
       "\n",
       "/* On hover */\n",
       "div.sk-estimator:hover .sk-estimator-doc-link:hover,\n",
       ".sk-estimator-doc-link:hover,\n",
       "div.sk-label-container:hover .sk-estimator-doc-link:hover,\n",
       ".sk-estimator-doc-link:hover {\n",
       "  /* unfitted */\n",
       "  background-color: var(--sklearn-color-unfitted-level-3);\n",
       "  color: var(--sklearn-color-background);\n",
       "  text-decoration: none;\n",
       "}\n",
       "\n",
       "div.sk-estimator.fitted:hover .sk-estimator-doc-link.fitted:hover,\n",
       ".sk-estimator-doc-link.fitted:hover,\n",
       "div.sk-label-container:hover .sk-estimator-doc-link.fitted:hover,\n",
       ".sk-estimator-doc-link.fitted:hover {\n",
       "  /* fitted */\n",
       "  background-color: var(--sklearn-color-fitted-level-3);\n",
       "  color: var(--sklearn-color-background);\n",
       "  text-decoration: none;\n",
       "}\n",
       "\n",
       "/* Span, style for the box shown on hovering the info icon */\n",
       ".sk-estimator-doc-link span {\n",
       "  display: none;\n",
       "  z-index: 9999;\n",
       "  position: relative;\n",
       "  font-weight: normal;\n",
       "  right: .2ex;\n",
       "  padding: .5ex;\n",
       "  margin: .5ex;\n",
       "  width: min-content;\n",
       "  min-width: 20ex;\n",
       "  max-width: 50ex;\n",
       "  color: var(--sklearn-color-text);\n",
       "  box-shadow: 2pt 2pt 4pt #999;\n",
       "  /* unfitted */\n",
       "  background: var(--sklearn-color-unfitted-level-0);\n",
       "  border: .5pt solid var(--sklearn-color-unfitted-level-3);\n",
       "}\n",
       "\n",
       ".sk-estimator-doc-link.fitted span {\n",
       "  /* fitted */\n",
       "  background: var(--sklearn-color-fitted-level-0);\n",
       "  border: var(--sklearn-color-fitted-level-3);\n",
       "}\n",
       "\n",
       ".sk-estimator-doc-link:hover span {\n",
       "  display: block;\n",
       "}\n",
       "\n",
       "/* \"?\"-specific style due to the `<a>` HTML tag */\n",
       "\n",
       "#sk-container-id-1 a.estimator_doc_link {\n",
       "  float: right;\n",
       "  font-size: 1rem;\n",
       "  line-height: 1em;\n",
       "  font-family: monospace;\n",
       "  background-color: var(--sklearn-color-background);\n",
       "  border-radius: 1rem;\n",
       "  height: 1rem;\n",
       "  width: 1rem;\n",
       "  text-decoration: none;\n",
       "  /* unfitted */\n",
       "  color: var(--sklearn-color-unfitted-level-1);\n",
       "  border: var(--sklearn-color-unfitted-level-1) 1pt solid;\n",
       "}\n",
       "\n",
       "#sk-container-id-1 a.estimator_doc_link.fitted {\n",
       "  /* fitted */\n",
       "  border: var(--sklearn-color-fitted-level-1) 1pt solid;\n",
       "  color: var(--sklearn-color-fitted-level-1);\n",
       "}\n",
       "\n",
       "/* On hover */\n",
       "#sk-container-id-1 a.estimator_doc_link:hover {\n",
       "  /* unfitted */\n",
       "  background-color: var(--sklearn-color-unfitted-level-3);\n",
       "  color: var(--sklearn-color-background);\n",
       "  text-decoration: none;\n",
       "}\n",
       "\n",
       "#sk-container-id-1 a.estimator_doc_link.fitted:hover {\n",
       "  /* fitted */\n",
       "  background-color: var(--sklearn-color-fitted-level-3);\n",
       "}\n",
       "</style><div id=\"sk-container-id-1\" class=\"sk-top-container\"><div class=\"sk-text-repr-fallback\"><pre>KNeighborsClassifier()</pre><b>In a Jupyter environment, please rerun this cell to show the HTML representation or trust the notebook. <br />On GitHub, the HTML representation is unable to render, please try loading this page with nbviewer.org.</b></div><div class=\"sk-container\" hidden><div class=\"sk-item\"><div class=\"sk-estimator fitted sk-toggleable\"><input class=\"sk-toggleable__control sk-hidden--visually\" id=\"sk-estimator-id-1\" type=\"checkbox\" checked><label for=\"sk-estimator-id-1\" class=\"sk-toggleable__label fitted sk-toggleable__label-arrow\"><div><div>KNeighborsClassifier</div></div><div><a class=\"sk-estimator-doc-link fitted\" rel=\"noreferrer\" target=\"_blank\" href=\"https://scikit-learn.org/1.6/modules/generated/sklearn.neighbors.KNeighborsClassifier.html\">?<span>Documentation for KNeighborsClassifier</span></a><span class=\"sk-estimator-doc-link fitted\">i<span>Fitted</span></span></div></label><div class=\"sk-toggleable__content fitted\"><pre>KNeighborsClassifier()</pre></div> </div></div></div></div>"
      ],
      "text/plain": [
       "KNeighborsClassifier()"
      ]
     },
     "execution_count": 43,
     "metadata": {},
     "output_type": "execute_result"
    }
   ],
   "source": [
    "knn.fit(X_train, y_train)"
   ]
  },
  {
   "cell_type": "code",
   "execution_count": 44,
   "metadata": {},
   "outputs": [],
   "source": [
    "y_pred = knn.predict(X_test)"
   ]
  },
  {
   "cell_type": "code",
   "execution_count": 45,
   "metadata": {},
   "outputs": [],
   "source": [
    "accuracy = accuracy_score(y_test, y_pred)\n",
    "report = classification_report(y_test, y_pred)\n",
    "conf_matrix = confusion_matrix(y_test, y_pred)"
   ]
  },
  {
   "cell_type": "code",
   "execution_count": 46,
   "metadata": {},
   "outputs": [
    {
     "name": "stdout",
     "output_type": "stream",
     "text": [
      "K-Nearest Neighbor Model Evaluation:\n",
      "Accuracy: 0.9568992525623238\n",
      "Classification Report:\n",
      "               precision    recall  f1-score   support\n",
      "\n",
      "         1.0       0.98      0.95      0.97     14332\n",
      "         2.0       0.92      0.97      0.94      8011\n",
      "\n",
      "    accuracy                           0.96     22343\n",
      "   macro avg       0.95      0.96      0.95     22343\n",
      "weighted avg       0.96      0.96      0.96     22343\n",
      "\n",
      "Confusion Matrix:\n",
      " [[13611   721]\n",
      " [  242  7769]]\n"
     ]
    }
   ],
   "source": [
    "# Display the evaluation results.\n",
    "print(\"K-Nearest Neighbor Model Evaluation:\")\n",
    "print(\"Accuracy:\", accuracy)\n",
    "print(\"Classification Report:\\n\", report)\n",
    "print(\"Confusion Matrix:\\n\", conf_matrix)"
   ]
  },
  {
   "cell_type": "markdown",
   "metadata": {},
   "source": [
    "The KNN model achieved an overall accuracy of about 95.7%, with high precision and recall values for both classes—demonstrating a strong balance in correctly classifying positive and negative instances. The F1-scores of 0.97 for class 1 and 0.94 for class 2, along with the low number of misclassifications shown in the confusion matrix, indicate that the model effectively captures the underlying patterns in the data."
   ]
  },
  {
   "cell_type": "markdown",
   "metadata": {},
   "source": [
    "#### 2. Logistic Regression"
   ]
  },
  {
   "cell_type": "markdown",
   "metadata": {},
   "source": [
    "Logistic Regression is a widely used baseline algorithm for binary classification tasks due to its simplicity, interpretability, and efficiency. The full code algorithm uses the selected features of the cleaned dataset and evaluate the model using  **precision**, **recall**, and **F1-score**. First we import the needed libraries that will be used for the data handling, preprocessing, model training, and evaluation."
   ]
  },
  {
   "cell_type": "code",
   "execution_count": 47,
   "metadata": {},
   "outputs": [],
   "source": [
    "import pandas as pd\n",
    "import numpy as np\n",
    "from sklearn.model_selection import train_test_split\n",
    "from sklearn.linear_model import LogisticRegression\n",
    "from sklearn.preprocessing import LabelEncoder, StandardScaler\n",
    "from sklearn.metrics import classification_report, confusion_matrix\n",
    "import joblib"
   ]
  },
  {
   "cell_type": "markdown",
   "metadata": {},
   "source": [
    "Display the cleaned data before training"
   ]
  },
  {
   "cell_type": "code",
   "execution_count": 48,
   "metadata": {},
   "outputs": [
    {
     "name": "stdout",
     "output_type": "stream",
     "text": [
      "Cleaned dataset before training:\n",
      "   PUFREG  PUFPRV  PUFPRRCD  PUFHHNUM  PUFURB2K10  PUFHHSIZE  PUFC01_LNO  \\\n",
      "0       1      28      2800         1           2          3           1   \n",
      "1       1      28      2800         1           2          3           2   \n",
      "2       1      28      2800         1           2          3           3   \n",
      "3       1      28      2800         2           2          4           1   \n",
      "4       1      28      2800         2           2          4           2   \n",
      "\n",
      "   PUFC03_REL  PUFC04_SEX  PUFC05_AGE  ...  PUFC33_WEEKS  PUFC34_WYNOT  \\\n",
      "0           1           1          49  ...           0.0                 \n",
      "1           2           2          61  ...           0.0                 \n",
      "2           3           1          19  ...           0.0                 \n",
      "3           1           1          48  ...           0.0                 \n",
      "4           2           2          41  ...           0.0                 \n",
      "\n",
      "  PUFC35_LTLOOKW  PUFC36_AVAIL  PUFC37_WILLING  PUFC38_PREVJOB PUFC40_POCC  \\\n",
      "0                                                                            \n",
      "1                                                                            \n",
      "2                                                                            \n",
      "3                                                                            \n",
      "4                                                                            \n",
      "\n",
      "  PUFC41_WQTR PUFC43_QKB PUFNEWEMPSTAT  \n",
      "0           1         01             1  \n",
      "1           1         01             1  \n",
      "2           1         01             1  \n",
      "3           1         01             1  \n",
      "4           1         96             1  \n",
      "\n",
      "[5 rows x 45 columns]\n",
      "\n",
      "Available columns:\n",
      "['PUFREG', 'PUFPRV', 'PUFPRRCD', 'PUFHHNUM', 'PUFURB2K10', 'PUFHHSIZE', 'PUFC01_LNO', 'PUFC03_REL', 'PUFC04_SEX', 'PUFC05_AGE', 'PUFC06_MSTAT', 'PUFC07_GRADE', 'PUFC08_CURSCH', 'PUFC09_GRADTECH', 'PUFC10_CONWR', 'PUFC11_WORK', 'PUFC12_JOB', 'PUFC14_PROCC', 'PUFC16_PKB', 'PUFC17_NATEM', 'PUFC18_PNWHRS', 'PUFC19_PHOURS', 'PUFC20_PWMORE', 'PUFC21_PLADDW', 'PUFC22_PFWRK', 'PUFC23_PCLASS', 'PUFC24_PBASIS', 'PUFC25_PBASIC', 'PUFC26_OJOB', 'PUFC27_NJOBS', 'PUFC28_THOURS', 'PUFC29_WWM48H', 'PUFC30_LOOKW', 'PUFC31_FLWRK', 'PUFC32_JOBSM', 'PUFC33_WEEKS', 'PUFC34_WYNOT', 'PUFC35_LTLOOKW', 'PUFC36_AVAIL', 'PUFC37_WILLING', 'PUFC38_PREVJOB', 'PUFC40_POCC', 'PUFC41_WQTR', 'PUFC43_QKB', 'PUFNEWEMPSTAT']\n"
     ]
    }
   ],
   "source": [
    "df = pd.read_csv('dataset/LFS_cleaned.csv')\n",
    "\n",
    "print(\"Cleaned dataset before training:\")\n",
    "print(df.head())\n",
    "print(\"\\nAvailable columns:\")\n",
    "print(df.columns.tolist())"
   ]
  },
  {
   "cell_type": "markdown",
   "metadata": {},
   "source": [
    "Clean and prepare the target column, this will ensure that the target column is numeric and the map employment status to **binary labels**. Then we select the relevant features that are numeric and catergorical th"
   ]
  },
  {
   "cell_type": "code",
   "execution_count": 49,
   "metadata": {},
   "outputs": [],
   "source": [
    "# Check if PUFNEWEMPSTAT exists\n",
    "if 'PUFNEWEMPSTAT' in df.columns:\n",
    "    df['PUFNEWEMPSTAT'] = df['PUFNEWEMPSTAT'].astype(str).str.strip()\n",
    "    df = df[df['PUFNEWEMPSTAT'].isin(['1', '2', '3'])]  # keep valid codes only\n",
    "    df['PUFNEWEMPSTAT'] = df['PUFNEWEMPSTAT'].astype(int)\n",
    "    df['TARGET'] = df['PUFNEWEMPSTAT'].map({1: 1, 2: 0, 3: 0})\n",
    "else:\n",
    "    raise KeyError(\"The column 'PUFNEWEMPSTAT' does not exist in the dataset.\")\n"
   ]
  },
  {
   "cell_type": "code",
   "execution_count": 50,
   "metadata": {},
   "outputs": [],
   "source": [
    "features = [\n",
    "    'PUFC05_AGE',         \n",
    "    'PUFC18_PNWHRS',      \n",
    "    'PUFC19_PHOURS',      \n",
    "    'PUFC25_PBASIC',      \n",
    "    'PUFC28_THOURS',      \n",
    "    'PUFC07_GRADE',       \n",
    "    'PUFC23_PCLASS'       \n",
    "]\n",
    "df = df[features + ['TARGET']]"
   ]
  },
  {
   "cell_type": "markdown",
   "metadata": {},
   "source": [
    "Encode categorical features and convert them into non-numeric categorical features into numeric codes."
   ]
  },
  {
   "cell_type": "code",
   "execution_count": 51,
   "metadata": {},
   "outputs": [],
   "source": [
    "le_grade = LabelEncoder()\n",
    "df['PUFC07_GRADE'] = le_grade.fit_transform(df['PUFC07_GRADE'].astype(str))\n",
    "\n",
    "le_industry = LabelEncoder()\n",
    "df['PUFC23_PCLASS'] = le_industry.fit_transform(df['PUFC23_PCLASS'].astype(str))"
   ]
  },
  {
   "cell_type": "markdown",
   "metadata": {},
   "source": [
    "Split the features and labels. Doing this will separate the input variables and the output variable."
   ]
  },
  {
   "cell_type": "code",
   "execution_count": 52,
   "metadata": {},
   "outputs": [],
   "source": [
    "X = df.drop('TARGET', axis=1)\n",
    "y = df['TARGET']"
   ]
  },
  {
   "cell_type": "markdown",
   "metadata": {},
   "source": [
    "Scale the features which standardize the features to ensure uniform input ranges for the model."
   ]
  },
  {
   "cell_type": "code",
   "execution_count": 53,
   "metadata": {},
   "outputs": [],
   "source": [
    "scaler = StandardScaler()\n",
    "X_scaled = scaler.fit_transform(X)"
   ]
  },
  {
   "cell_type": "markdown",
   "metadata": {},
   "source": [
    "Split the data into the test and training sets. By doing this it will allow us to evaluate the model's perfomance."
   ]
  },
  {
   "cell_type": "code",
   "execution_count": 54,
   "metadata": {},
   "outputs": [],
   "source": [
    "X_train, X_test, y_train, y_test = train_test_split(\n",
    "    X_scaled, y, test_size=0.2, random_state=42\n",
    ")"
   ]
  },
  {
   "cell_type": "code",
   "execution_count": 55,
   "metadata": {},
   "outputs": [
    {
     "name": "stdout",
     "output_type": "stream",
     "text": [
      "\n",
      "Training data shape: (86530, 7)\n",
      "Test data shape: (21633, 7)\n",
      "\n",
      "First 5 rows of training data:\n",
      "   PUFC05_AGE  PUFC18_PNWHRS  PUFC19_PHOURS  PUFC25_PBASIC  PUFC28_THOURS  \\\n",
      "0    0.309883      -1.849062      -0.861889      -0.178216      -1.039588   \n",
      "1   -0.915035       0.155831       0.430976      -0.178216       0.242760   \n",
      "2   -0.608805       0.155831       0.043117      -0.178216       0.242760   \n",
      "3   -1.282510       0.657054       0.818836      -0.178216       0.627465   \n",
      "4    2.208505      -3.352731      -2.607257      -0.178216      -2.770759   \n",
      "\n",
      "   PUFC07_GRADE  PUFC23_PCLASS  \n",
      "0     -0.478456      -0.895491  \n",
      "1     -0.478456       0.748932  \n",
      "2      0.085910      -0.073279  \n",
      "3     -0.572517       3.215567  \n",
      "4      0.979489       0.748932  \n",
      "\n",
      "First 5 rows of test data:\n",
      "   PUFC05_AGE  PUFC18_PNWHRS  PUFC19_PHOURS  PUFC25_PBASIC  PUFC28_THOURS  \\\n",
      "0   -0.731297       0.155831       0.430976       1.517511       0.242760   \n",
      "1    0.003653       0.155831      -0.086170       4.367426      -0.270179   \n",
      "2   -1.160018       1.158277       1.206695       1.708964       1.012170   \n",
      "3   -1.098773      -0.846615      -0.344743       0.122639      -0.526649   \n",
      "4    0.003653      -1.849062      -1.120462      -0.178216      -1.296058   \n",
      "\n",
      "   PUFC07_GRADE  PUFC23_PCLASS  \n",
      "0      1.826038      -0.895491  \n",
      "1      0.744337      -0.073279  \n",
      "2      1.214642      -0.895491  \n",
      "3     -0.478456      -0.895491  \n",
      "4      1.873069      -0.073279  \n"
     ]
    }
   ],
   "source": [
    "print(\"\\nTraining data shape:\", X_train.shape)\n",
    "print(\"Test data shape:\", X_test.shape)\n",
    "print(\"\\nFirst 5 rows of training data:\")\n",
    "print(pd.DataFrame(X_train, columns=X.columns).head())\n",
    "print(\"\\nFirst 5 rows of test data:\")\n",
    "print(pd.DataFrame(X_test, columns=X.columns).head())"
   ]
  },
  {
   "cell_type": "markdown",
   "metadata": {},
   "source": [
    "Now we train the model."
   ]
  },
  {
   "cell_type": "code",
   "execution_count": 56,
   "metadata": {},
   "outputs": [
    {
     "data": {
      "text/html": [
       "<style>#sk-container-id-2 {\n",
       "  /* Definition of color scheme common for light and dark mode */\n",
       "  --sklearn-color-text: #000;\n",
       "  --sklearn-color-text-muted: #666;\n",
       "  --sklearn-color-line: gray;\n",
       "  /* Definition of color scheme for unfitted estimators */\n",
       "  --sklearn-color-unfitted-level-0: #fff5e6;\n",
       "  --sklearn-color-unfitted-level-1: #f6e4d2;\n",
       "  --sklearn-color-unfitted-level-2: #ffe0b3;\n",
       "  --sklearn-color-unfitted-level-3: chocolate;\n",
       "  /* Definition of color scheme for fitted estimators */\n",
       "  --sklearn-color-fitted-level-0: #f0f8ff;\n",
       "  --sklearn-color-fitted-level-1: #d4ebff;\n",
       "  --sklearn-color-fitted-level-2: #b3dbfd;\n",
       "  --sklearn-color-fitted-level-3: cornflowerblue;\n",
       "\n",
       "  /* Specific color for light theme */\n",
       "  --sklearn-color-text-on-default-background: var(--sg-text-color, var(--theme-code-foreground, var(--jp-content-font-color1, black)));\n",
       "  --sklearn-color-background: var(--sg-background-color, var(--theme-background, var(--jp-layout-color0, white)));\n",
       "  --sklearn-color-border-box: var(--sg-text-color, var(--theme-code-foreground, var(--jp-content-font-color1, black)));\n",
       "  --sklearn-color-icon: #696969;\n",
       "\n",
       "  @media (prefers-color-scheme: dark) {\n",
       "    /* Redefinition of color scheme for dark theme */\n",
       "    --sklearn-color-text-on-default-background: var(--sg-text-color, var(--theme-code-foreground, var(--jp-content-font-color1, white)));\n",
       "    --sklearn-color-background: var(--sg-background-color, var(--theme-background, var(--jp-layout-color0, #111)));\n",
       "    --sklearn-color-border-box: var(--sg-text-color, var(--theme-code-foreground, var(--jp-content-font-color1, white)));\n",
       "    --sklearn-color-icon: #878787;\n",
       "  }\n",
       "}\n",
       "\n",
       "#sk-container-id-2 {\n",
       "  color: var(--sklearn-color-text);\n",
       "}\n",
       "\n",
       "#sk-container-id-2 pre {\n",
       "  padding: 0;\n",
       "}\n",
       "\n",
       "#sk-container-id-2 input.sk-hidden--visually {\n",
       "  border: 0;\n",
       "  clip: rect(1px 1px 1px 1px);\n",
       "  clip: rect(1px, 1px, 1px, 1px);\n",
       "  height: 1px;\n",
       "  margin: -1px;\n",
       "  overflow: hidden;\n",
       "  padding: 0;\n",
       "  position: absolute;\n",
       "  width: 1px;\n",
       "}\n",
       "\n",
       "#sk-container-id-2 div.sk-dashed-wrapped {\n",
       "  border: 1px dashed var(--sklearn-color-line);\n",
       "  margin: 0 0.4em 0.5em 0.4em;\n",
       "  box-sizing: border-box;\n",
       "  padding-bottom: 0.4em;\n",
       "  background-color: var(--sklearn-color-background);\n",
       "}\n",
       "\n",
       "#sk-container-id-2 div.sk-container {\n",
       "  /* jupyter's `normalize.less` sets `[hidden] { display: none; }`\n",
       "     but bootstrap.min.css set `[hidden] { display: none !important; }`\n",
       "     so we also need the `!important` here to be able to override the\n",
       "     default hidden behavior on the sphinx rendered scikit-learn.org.\n",
       "     See: https://github.com/scikit-learn/scikit-learn/issues/21755 */\n",
       "  display: inline-block !important;\n",
       "  position: relative;\n",
       "}\n",
       "\n",
       "#sk-container-id-2 div.sk-text-repr-fallback {\n",
       "  display: none;\n",
       "}\n",
       "\n",
       "div.sk-parallel-item,\n",
       "div.sk-serial,\n",
       "div.sk-item {\n",
       "  /* draw centered vertical line to link estimators */\n",
       "  background-image: linear-gradient(var(--sklearn-color-text-on-default-background), var(--sklearn-color-text-on-default-background));\n",
       "  background-size: 2px 100%;\n",
       "  background-repeat: no-repeat;\n",
       "  background-position: center center;\n",
       "}\n",
       "\n",
       "/* Parallel-specific style estimator block */\n",
       "\n",
       "#sk-container-id-2 div.sk-parallel-item::after {\n",
       "  content: \"\";\n",
       "  width: 100%;\n",
       "  border-bottom: 2px solid var(--sklearn-color-text-on-default-background);\n",
       "  flex-grow: 1;\n",
       "}\n",
       "\n",
       "#sk-container-id-2 div.sk-parallel {\n",
       "  display: flex;\n",
       "  align-items: stretch;\n",
       "  justify-content: center;\n",
       "  background-color: var(--sklearn-color-background);\n",
       "  position: relative;\n",
       "}\n",
       "\n",
       "#sk-container-id-2 div.sk-parallel-item {\n",
       "  display: flex;\n",
       "  flex-direction: column;\n",
       "}\n",
       "\n",
       "#sk-container-id-2 div.sk-parallel-item:first-child::after {\n",
       "  align-self: flex-end;\n",
       "  width: 50%;\n",
       "}\n",
       "\n",
       "#sk-container-id-2 div.sk-parallel-item:last-child::after {\n",
       "  align-self: flex-start;\n",
       "  width: 50%;\n",
       "}\n",
       "\n",
       "#sk-container-id-2 div.sk-parallel-item:only-child::after {\n",
       "  width: 0;\n",
       "}\n",
       "\n",
       "/* Serial-specific style estimator block */\n",
       "\n",
       "#sk-container-id-2 div.sk-serial {\n",
       "  display: flex;\n",
       "  flex-direction: column;\n",
       "  align-items: center;\n",
       "  background-color: var(--sklearn-color-background);\n",
       "  padding-right: 1em;\n",
       "  padding-left: 1em;\n",
       "}\n",
       "\n",
       "\n",
       "/* Toggleable style: style used for estimator/Pipeline/ColumnTransformer box that is\n",
       "clickable and can be expanded/collapsed.\n",
       "- Pipeline and ColumnTransformer use this feature and define the default style\n",
       "- Estimators will overwrite some part of the style using the `sk-estimator` class\n",
       "*/\n",
       "\n",
       "/* Pipeline and ColumnTransformer style (default) */\n",
       "\n",
       "#sk-container-id-2 div.sk-toggleable {\n",
       "  /* Default theme specific background. It is overwritten whether we have a\n",
       "  specific estimator or a Pipeline/ColumnTransformer */\n",
       "  background-color: var(--sklearn-color-background);\n",
       "}\n",
       "\n",
       "/* Toggleable label */\n",
       "#sk-container-id-2 label.sk-toggleable__label {\n",
       "  cursor: pointer;\n",
       "  display: flex;\n",
       "  width: 100%;\n",
       "  margin-bottom: 0;\n",
       "  padding: 0.5em;\n",
       "  box-sizing: border-box;\n",
       "  text-align: center;\n",
       "  align-items: start;\n",
       "  justify-content: space-between;\n",
       "  gap: 0.5em;\n",
       "}\n",
       "\n",
       "#sk-container-id-2 label.sk-toggleable__label .caption {\n",
       "  font-size: 0.6rem;\n",
       "  font-weight: lighter;\n",
       "  color: var(--sklearn-color-text-muted);\n",
       "}\n",
       "\n",
       "#sk-container-id-2 label.sk-toggleable__label-arrow:before {\n",
       "  /* Arrow on the left of the label */\n",
       "  content: \"▸\";\n",
       "  float: left;\n",
       "  margin-right: 0.25em;\n",
       "  color: var(--sklearn-color-icon);\n",
       "}\n",
       "\n",
       "#sk-container-id-2 label.sk-toggleable__label-arrow:hover:before {\n",
       "  color: var(--sklearn-color-text);\n",
       "}\n",
       "\n",
       "/* Toggleable content - dropdown */\n",
       "\n",
       "#sk-container-id-2 div.sk-toggleable__content {\n",
       "  max-height: 0;\n",
       "  max-width: 0;\n",
       "  overflow: hidden;\n",
       "  text-align: left;\n",
       "  /* unfitted */\n",
       "  background-color: var(--sklearn-color-unfitted-level-0);\n",
       "}\n",
       "\n",
       "#sk-container-id-2 div.sk-toggleable__content.fitted {\n",
       "  /* fitted */\n",
       "  background-color: var(--sklearn-color-fitted-level-0);\n",
       "}\n",
       "\n",
       "#sk-container-id-2 div.sk-toggleable__content pre {\n",
       "  margin: 0.2em;\n",
       "  border-radius: 0.25em;\n",
       "  color: var(--sklearn-color-text);\n",
       "  /* unfitted */\n",
       "  background-color: var(--sklearn-color-unfitted-level-0);\n",
       "}\n",
       "\n",
       "#sk-container-id-2 div.sk-toggleable__content.fitted pre {\n",
       "  /* unfitted */\n",
       "  background-color: var(--sklearn-color-fitted-level-0);\n",
       "}\n",
       "\n",
       "#sk-container-id-2 input.sk-toggleable__control:checked~div.sk-toggleable__content {\n",
       "  /* Expand drop-down */\n",
       "  max-height: 200px;\n",
       "  max-width: 100%;\n",
       "  overflow: auto;\n",
       "}\n",
       "\n",
       "#sk-container-id-2 input.sk-toggleable__control:checked~label.sk-toggleable__label-arrow:before {\n",
       "  content: \"▾\";\n",
       "}\n",
       "\n",
       "/* Pipeline/ColumnTransformer-specific style */\n",
       "\n",
       "#sk-container-id-2 div.sk-label input.sk-toggleable__control:checked~label.sk-toggleable__label {\n",
       "  color: var(--sklearn-color-text);\n",
       "  background-color: var(--sklearn-color-unfitted-level-2);\n",
       "}\n",
       "\n",
       "#sk-container-id-2 div.sk-label.fitted input.sk-toggleable__control:checked~label.sk-toggleable__label {\n",
       "  background-color: var(--sklearn-color-fitted-level-2);\n",
       "}\n",
       "\n",
       "/* Estimator-specific style */\n",
       "\n",
       "/* Colorize estimator box */\n",
       "#sk-container-id-2 div.sk-estimator input.sk-toggleable__control:checked~label.sk-toggleable__label {\n",
       "  /* unfitted */\n",
       "  background-color: var(--sklearn-color-unfitted-level-2);\n",
       "}\n",
       "\n",
       "#sk-container-id-2 div.sk-estimator.fitted input.sk-toggleable__control:checked~label.sk-toggleable__label {\n",
       "  /* fitted */\n",
       "  background-color: var(--sklearn-color-fitted-level-2);\n",
       "}\n",
       "\n",
       "#sk-container-id-2 div.sk-label label.sk-toggleable__label,\n",
       "#sk-container-id-2 div.sk-label label {\n",
       "  /* The background is the default theme color */\n",
       "  color: var(--sklearn-color-text-on-default-background);\n",
       "}\n",
       "\n",
       "/* On hover, darken the color of the background */\n",
       "#sk-container-id-2 div.sk-label:hover label.sk-toggleable__label {\n",
       "  color: var(--sklearn-color-text);\n",
       "  background-color: var(--sklearn-color-unfitted-level-2);\n",
       "}\n",
       "\n",
       "/* Label box, darken color on hover, fitted */\n",
       "#sk-container-id-2 div.sk-label.fitted:hover label.sk-toggleable__label.fitted {\n",
       "  color: var(--sklearn-color-text);\n",
       "  background-color: var(--sklearn-color-fitted-level-2);\n",
       "}\n",
       "\n",
       "/* Estimator label */\n",
       "\n",
       "#sk-container-id-2 div.sk-label label {\n",
       "  font-family: monospace;\n",
       "  font-weight: bold;\n",
       "  display: inline-block;\n",
       "  line-height: 1.2em;\n",
       "}\n",
       "\n",
       "#sk-container-id-2 div.sk-label-container {\n",
       "  text-align: center;\n",
       "}\n",
       "\n",
       "/* Estimator-specific */\n",
       "#sk-container-id-2 div.sk-estimator {\n",
       "  font-family: monospace;\n",
       "  border: 1px dotted var(--sklearn-color-border-box);\n",
       "  border-radius: 0.25em;\n",
       "  box-sizing: border-box;\n",
       "  margin-bottom: 0.5em;\n",
       "  /* unfitted */\n",
       "  background-color: var(--sklearn-color-unfitted-level-0);\n",
       "}\n",
       "\n",
       "#sk-container-id-2 div.sk-estimator.fitted {\n",
       "  /* fitted */\n",
       "  background-color: var(--sklearn-color-fitted-level-0);\n",
       "}\n",
       "\n",
       "/* on hover */\n",
       "#sk-container-id-2 div.sk-estimator:hover {\n",
       "  /* unfitted */\n",
       "  background-color: var(--sklearn-color-unfitted-level-2);\n",
       "}\n",
       "\n",
       "#sk-container-id-2 div.sk-estimator.fitted:hover {\n",
       "  /* fitted */\n",
       "  background-color: var(--sklearn-color-fitted-level-2);\n",
       "}\n",
       "\n",
       "/* Specification for estimator info (e.g. \"i\" and \"?\") */\n",
       "\n",
       "/* Common style for \"i\" and \"?\" */\n",
       "\n",
       ".sk-estimator-doc-link,\n",
       "a:link.sk-estimator-doc-link,\n",
       "a:visited.sk-estimator-doc-link {\n",
       "  float: right;\n",
       "  font-size: smaller;\n",
       "  line-height: 1em;\n",
       "  font-family: monospace;\n",
       "  background-color: var(--sklearn-color-background);\n",
       "  border-radius: 1em;\n",
       "  height: 1em;\n",
       "  width: 1em;\n",
       "  text-decoration: none !important;\n",
       "  margin-left: 0.5em;\n",
       "  text-align: center;\n",
       "  /* unfitted */\n",
       "  border: var(--sklearn-color-unfitted-level-1) 1pt solid;\n",
       "  color: var(--sklearn-color-unfitted-level-1);\n",
       "}\n",
       "\n",
       ".sk-estimator-doc-link.fitted,\n",
       "a:link.sk-estimator-doc-link.fitted,\n",
       "a:visited.sk-estimator-doc-link.fitted {\n",
       "  /* fitted */\n",
       "  border: var(--sklearn-color-fitted-level-1) 1pt solid;\n",
       "  color: var(--sklearn-color-fitted-level-1);\n",
       "}\n",
       "\n",
       "/* On hover */\n",
       "div.sk-estimator:hover .sk-estimator-doc-link:hover,\n",
       ".sk-estimator-doc-link:hover,\n",
       "div.sk-label-container:hover .sk-estimator-doc-link:hover,\n",
       ".sk-estimator-doc-link:hover {\n",
       "  /* unfitted */\n",
       "  background-color: var(--sklearn-color-unfitted-level-3);\n",
       "  color: var(--sklearn-color-background);\n",
       "  text-decoration: none;\n",
       "}\n",
       "\n",
       "div.sk-estimator.fitted:hover .sk-estimator-doc-link.fitted:hover,\n",
       ".sk-estimator-doc-link.fitted:hover,\n",
       "div.sk-label-container:hover .sk-estimator-doc-link.fitted:hover,\n",
       ".sk-estimator-doc-link.fitted:hover {\n",
       "  /* fitted */\n",
       "  background-color: var(--sklearn-color-fitted-level-3);\n",
       "  color: var(--sklearn-color-background);\n",
       "  text-decoration: none;\n",
       "}\n",
       "\n",
       "/* Span, style for the box shown on hovering the info icon */\n",
       ".sk-estimator-doc-link span {\n",
       "  display: none;\n",
       "  z-index: 9999;\n",
       "  position: relative;\n",
       "  font-weight: normal;\n",
       "  right: .2ex;\n",
       "  padding: .5ex;\n",
       "  margin: .5ex;\n",
       "  width: min-content;\n",
       "  min-width: 20ex;\n",
       "  max-width: 50ex;\n",
       "  color: var(--sklearn-color-text);\n",
       "  box-shadow: 2pt 2pt 4pt #999;\n",
       "  /* unfitted */\n",
       "  background: var(--sklearn-color-unfitted-level-0);\n",
       "  border: .5pt solid var(--sklearn-color-unfitted-level-3);\n",
       "}\n",
       "\n",
       ".sk-estimator-doc-link.fitted span {\n",
       "  /* fitted */\n",
       "  background: var(--sklearn-color-fitted-level-0);\n",
       "  border: var(--sklearn-color-fitted-level-3);\n",
       "}\n",
       "\n",
       ".sk-estimator-doc-link:hover span {\n",
       "  display: block;\n",
       "}\n",
       "\n",
       "/* \"?\"-specific style due to the `<a>` HTML tag */\n",
       "\n",
       "#sk-container-id-2 a.estimator_doc_link {\n",
       "  float: right;\n",
       "  font-size: 1rem;\n",
       "  line-height: 1em;\n",
       "  font-family: monospace;\n",
       "  background-color: var(--sklearn-color-background);\n",
       "  border-radius: 1rem;\n",
       "  height: 1rem;\n",
       "  width: 1rem;\n",
       "  text-decoration: none;\n",
       "  /* unfitted */\n",
       "  color: var(--sklearn-color-unfitted-level-1);\n",
       "  border: var(--sklearn-color-unfitted-level-1) 1pt solid;\n",
       "}\n",
       "\n",
       "#sk-container-id-2 a.estimator_doc_link.fitted {\n",
       "  /* fitted */\n",
       "  border: var(--sklearn-color-fitted-level-1) 1pt solid;\n",
       "  color: var(--sklearn-color-fitted-level-1);\n",
       "}\n",
       "\n",
       "/* On hover */\n",
       "#sk-container-id-2 a.estimator_doc_link:hover {\n",
       "  /* unfitted */\n",
       "  background-color: var(--sklearn-color-unfitted-level-3);\n",
       "  color: var(--sklearn-color-background);\n",
       "  text-decoration: none;\n",
       "}\n",
       "\n",
       "#sk-container-id-2 a.estimator_doc_link.fitted:hover {\n",
       "  /* fitted */\n",
       "  background-color: var(--sklearn-color-fitted-level-3);\n",
       "}\n",
       "</style><div id=\"sk-container-id-2\" class=\"sk-top-container\"><div class=\"sk-text-repr-fallback\"><pre>LogisticRegression(max_iter=1000)</pre><b>In a Jupyter environment, please rerun this cell to show the HTML representation or trust the notebook. <br />On GitHub, the HTML representation is unable to render, please try loading this page with nbviewer.org.</b></div><div class=\"sk-container\" hidden><div class=\"sk-item\"><div class=\"sk-estimator fitted sk-toggleable\"><input class=\"sk-toggleable__control sk-hidden--visually\" id=\"sk-estimator-id-2\" type=\"checkbox\" checked><label for=\"sk-estimator-id-2\" class=\"sk-toggleable__label fitted sk-toggleable__label-arrow\"><div><div>LogisticRegression</div></div><div><a class=\"sk-estimator-doc-link fitted\" rel=\"noreferrer\" target=\"_blank\" href=\"https://scikit-learn.org/1.6/modules/generated/sklearn.linear_model.LogisticRegression.html\">?<span>Documentation for LogisticRegression</span></a><span class=\"sk-estimator-doc-link fitted\">i<span>Fitted</span></span></div></label><div class=\"sk-toggleable__content fitted\"><pre>LogisticRegression(max_iter=1000)</pre></div> </div></div></div></div>"
      ],
      "text/plain": [
       "LogisticRegression(max_iter=1000)"
      ]
     },
     "execution_count": 56,
     "metadata": {},
     "output_type": "execute_result"
    }
   ],
   "source": [
    "logreg_model = LogisticRegression(max_iter=1000)\n",
    "logreg_model.fit(X_train, y_train)"
   ]
  },
  {
   "cell_type": "markdown",
   "metadata": {},
   "source": [
    "Now we evaluate the model, printing the classification report and confusion matrix."
   ]
  },
  {
   "cell_type": "code",
   "execution_count": 57,
   "metadata": {},
   "outputs": [
    {
     "name": "stdout",
     "output_type": "stream",
     "text": [
      "Classification Report:\n",
      "              precision    recall  f1-score   support\n",
      "\n",
      "           0       0.89      1.00      0.94      7813\n",
      "           1       1.00      0.93      0.96     13820\n",
      "\n",
      "    accuracy                           0.95     21633\n",
      "   macro avg       0.94      0.96      0.95     21633\n",
      "weighted avg       0.96      0.95      0.95     21633\n",
      "\n",
      "Confusion Matrix:\n",
      "[[ 7813     0]\n",
      " [  994 12826]]\n"
     ]
    }
   ],
   "source": [
    "y_pred = logreg_model.predict(X_test)\n",
    "\n",
    "print(\"Classification Report:\")\n",
    "print(classification_report(y_test, y_pred))\n",
    "\n",
    "print(\"Confusion Matrix:\")\n",
    "print(confusion_matrix(y_test, y_pred))"
   ]
  },
  {
   "cell_type": "markdown",
   "metadata": {},
   "source": [
    "Now we save the trained model so we can ensure that we can re-use the trained model without retraining."
   ]
  },
  {
   "cell_type": "code",
   "execution_count": 58,
   "metadata": {},
   "outputs": [
    {
     "name": "stdout",
     "output_type": "stream",
     "text": [
      "Model saved as 'logreg_model.pkl'\n"
     ]
    }
   ],
   "source": [
    "joblib.dump(logreg_model, \"logreg_model.pkl\")\n",
    "print(\"Model saved as 'logreg_model.pkl'\")"
   ]
  },
  {
   "cell_type": "markdown",
   "metadata": {},
   "source": [
    "By looking at the results, the model is perfectly accurate, it also identified all the true cases, and the harmonic mean of precision and recall is perfect which means Logistic Regression performed well. This may be the cause because the features are highly predictive, there may be some data leakage or even possible an imbalance that benefits linear seperation."
   ]
  },
  {
   "cell_type": "markdown",
   "metadata": {},
   "source": [
    "#### 3. Decision Trees"
   ]
  },
  {
   "cell_type": "code",
   "execution_count": 59,
   "metadata": {},
   "outputs": [],
   "source": [
    "import pandas as pd\n",
    "from sklearn.model_selection import train_test_split\n",
    "from sklearn.preprocessing import LabelEncoder\n",
    "from sklearn.tree import DecisionTreeClassifier\n",
    "from sklearn.ensemble import RandomForestClassifier\n",
    "from sklearn.linear_model import LogisticRegression\n",
    "from sklearn.svm import SVC\n",
    "from sklearn.metrics import accuracy_score, classification_report, confusion_matrix"
   ]
  },
  {
   "cell_type": "code",
   "execution_count": 60,
   "metadata": {},
   "outputs": [],
   "source": [
    "df = pd.read_csv(\"dataset/LFS_cleaned.csv\")"
   ]
  },
  {
   "cell_type": "code",
   "execution_count": 61,
   "metadata": {},
   "outputs": [],
   "source": [
    "target_column = \"PUFNEWEMPSTAT\"\n",
    "features = df.drop(columns=[target_column])"
   ]
  },
  {
   "cell_type": "code",
   "execution_count": 62,
   "metadata": {},
   "outputs": [],
   "source": [
    "label_encoders = {}\n",
    "for col in features.select_dtypes(include=[\"object\"]).columns:\n",
    "    le = LabelEncoder()\n",
    "    features[col] = le.fit_transform(features[col])\n",
    "    label_encoders[col] = le"
   ]
  },
  {
   "cell_type": "code",
   "execution_count": 63,
   "metadata": {},
   "outputs": [],
   "source": [
    "target_encoder = LabelEncoder()\n",
    "df[target_column] = target_encoder.fit_transform(df[target_column])"
   ]
  },
  {
   "cell_type": "code",
   "execution_count": 64,
   "metadata": {},
   "outputs": [],
   "source": [
    "X_train, X_test, y_train, y_test = train_test_split(features, df[target_column], test_size=0.2, random_state=42)"
   ]
  },
  {
   "cell_type": "code",
   "execution_count": 65,
   "metadata": {},
   "outputs": [],
   "source": [
    "dt_model = DecisionTreeClassifier(max_depth=10, min_samples_split=5, random_state=42)\n",
    "dt_model.fit(X_train, y_train)\n",
    "dt_pred = dt_model.predict(X_test)"
   ]
  },
  {
   "cell_type": "code",
   "execution_count": 66,
   "metadata": {},
   "outputs": [
    {
     "name": "stdout",
     "output_type": "stream",
     "text": [
      "Decision Tree Accuracy: 1.0\n",
      "\n",
      "               precision    recall  f1-score   support\n",
      "\n",
      "           0       1.00      1.00      1.00       716\n",
      "           1       1.00      1.00      1.00     13828\n",
      "           2       1.00      1.00      1.00       794\n",
      "           3       1.00      1.00      1.00      7005\n",
      "\n",
      "    accuracy                           1.00     22343\n",
      "   macro avg       1.00      1.00      1.00     22343\n",
      "weighted avg       1.00      1.00      1.00     22343\n",
      "\n"
     ]
    }
   ],
   "source": [
    "print(\"Decision Tree Accuracy:\", accuracy_score(y_test, dt_pred))\n",
    "print(\"\\n\", classification_report(y_test, dt_pred))"
   ]
  },
  {
   "cell_type": "code",
   "execution_count": 67,
   "metadata": {},
   "outputs": [],
   "source": [
    "rf_model = RandomForestClassifier(n_estimators=100, max_depth=10, random_state=42)\n",
    "rf_model.fit(X_train, y_train)\n",
    "rf_pred = rf_model.predict(X_test)"
   ]
  },
  {
   "cell_type": "code",
   "execution_count": 68,
   "metadata": {},
   "outputs": [
    {
     "name": "stdout",
     "output_type": "stream",
     "text": [
      "Random Forest Accuracy: 1.0\n",
      "\n",
      "               precision    recall  f1-score   support\n",
      "\n",
      "           0       1.00      1.00      1.00       716\n",
      "           1       1.00      1.00      1.00     13828\n",
      "           2       1.00      1.00      1.00       794\n",
      "           3       1.00      1.00      1.00      7005\n",
      "\n",
      "    accuracy                           1.00     22343\n",
      "   macro avg       1.00      1.00      1.00     22343\n",
      "weighted avg       1.00      1.00      1.00     22343\n",
      "\n"
     ]
    }
   ],
   "source": [
    "print(\"Random Forest Accuracy:\", accuracy_score(y_test, rf_pred))\n",
    "print(\"\\n\", classification_report(y_test, rf_pred))"
   ]
  },
  {
   "cell_type": "code",
   "execution_count": 69,
   "metadata": {},
   "outputs": [
    {
     "name": "stderr",
     "output_type": "stream",
     "text": [
      "C:\\Users\\RJ\\AppData\\Local\\Programs\\Python\\Python313\\Lib\\site-packages\\sklearn\\linear_model\\_logistic.py:465: ConvergenceWarning: lbfgs failed to converge (status=1):\n",
      "STOP: TOTAL NO. OF ITERATIONS REACHED LIMIT.\n",
      "\n",
      "Increase the number of iterations (max_iter) or scale the data as shown in:\n",
      "    https://scikit-learn.org/stable/modules/preprocessing.html\n",
      "Please also refer to the documentation for alternative solver options:\n",
      "    https://scikit-learn.org/stable/modules/linear_model.html#logistic-regression\n",
      "  n_iter_i = _check_optimize_result(\n"
     ]
    }
   ],
   "source": [
    "lr_model = LogisticRegression(max_iter=1000)\n",
    "lr_model.fit(X_train, y_train)\n",
    "lr_pred = lr_model.predict(X_test)"
   ]
  },
  {
   "cell_type": "code",
   "execution_count": 70,
   "metadata": {},
   "outputs": [
    {
     "name": "stdout",
     "output_type": "stream",
     "text": [
      "Logistic Regression Accuracy: 0.927136015754375\n",
      "\n",
      "               precision    recall  f1-score   support\n",
      "\n",
      "           0       0.00      0.00      0.00       716\n",
      "           1       0.99      1.00      0.99     13828\n",
      "           2       0.50      0.14      0.22       794\n",
      "           3       0.83      0.97      0.90      7005\n",
      "\n",
      "    accuracy                           0.93     22343\n",
      "   macro avg       0.58      0.53      0.53     22343\n",
      "weighted avg       0.89      0.93      0.90     22343\n",
      "\n"
     ]
    }
   ],
   "source": [
    "print(\"Logistic Regression Accuracy:\", accuracy_score(y_test, lr_pred))\n",
    "print(\"\\n\", classification_report(y_test, lr_pred))"
   ]
  },
  {
   "cell_type": "markdown",
   "metadata": {},
   "source": [
    "## Section 7. Error analysis"
   ]
  },
  {
   "cell_type": "markdown",
   "metadata": {},
   "source": [
    "## Section 8. Improving model performance"
   ]
  },
  {
   "cell_type": "markdown",
   "metadata": {},
   "source": [
    "## Section 9. Model performance summary"
   ]
  },
  {
   "cell_type": "markdown",
   "metadata": {},
   "source": [
    "## Section 10. Insights and conclusions"
   ]
  },
  {
   "cell_type": "markdown",
   "metadata": {},
   "source": [
    "## Section 11. References"
   ]
  },
  {
   "cell_type": "code",
   "execution_count": null,
   "metadata": {},
   "outputs": [],
   "source": []
  }
 ],
 "metadata": {
  "kernelspec": {
   "display_name": "Python 3 (ipykernel)",
   "language": "python",
   "name": "python3"
  },
  "language_info": {
   "codemirror_mode": {
    "name": "ipython",
    "version": 3
   },
   "file_extension": ".py",
   "mimetype": "text/x-python",
   "name": "python",
   "nbconvert_exporter": "python",
   "pygments_lexer": "ipython3",
   "version": "3.13.1"
  }
 },
 "nbformat": 4,
 "nbformat_minor": 4
}
